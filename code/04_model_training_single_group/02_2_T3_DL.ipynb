{
 "cells": [
  {
   "cell_type": "markdown",
   "metadata": {},
   "source": [
    "# Data"
   ]
  },
  {
   "cell_type": "code",
   "execution_count": 1,
   "metadata": {},
   "outputs": [
    {
     "data": {
      "text/plain": [
       "True"
      ]
     },
     "execution_count": 1,
     "metadata": {},
     "output_type": "execute_result"
    }
   ],
   "source": [
    "from dotenv import load_dotenv\n",
    "load_dotenv()"
   ]
  },
  {
   "cell_type": "markdown",
   "metadata": {
    "vscode": {
     "languageId": "plaintext"
    }
   },
   "source": [
    "## 01 data loading"
   ]
  },
  {
   "cell_type": "code",
   "execution_count": 2,
   "metadata": {},
   "outputs": [],
   "source": [
    "import os\n",
    "import pandas as pd\n",
    "import numpy as np"
   ]
  },
  {
   "cell_type": "code",
   "execution_count": 3,
   "metadata": {},
   "outputs": [],
   "source": [
    "base_path = os.path.dirname(os.path.dirname(os.getcwd()))\n",
    "x_path = os.path.join(base_path,os.getenv(\"X_LABEL\"))\n",
    "y_path = os.path.join(base_path,os.getenv(\"Y_LABEL\"))"
   ]
  },
  {
   "cell_type": "code",
   "execution_count": 4,
   "metadata": {},
   "outputs": [],
   "source": [
    "x_df = pd.read_csv(x_path) \n",
    "y_df = pd.read_csv(y_path) "
   ]
  },
  {
   "cell_type": "code",
   "execution_count": 5,
   "metadata": {},
   "outputs": [],
   "source": [
    "y_df=y_df.drop(columns=[\"年份\",\"季別\"])\n",
    "x_df=x_df.drop(columns=[\"年份\",\"季別\"])"
   ]
  },
  {
   "cell_type": "code",
   "execution_count": 6,
   "metadata": {},
   "outputs": [
    {
     "data": {
      "text/html": [
       "<div>\n",
       "<style scoped>\n",
       "    .dataframe tbody tr th:only-of-type {\n",
       "        vertical-align: middle;\n",
       "    }\n",
       "\n",
       "    .dataframe tbody tr th {\n",
       "        vertical-align: top;\n",
       "    }\n",
       "\n",
       "    .dataframe thead th {\n",
       "        text-align: right;\n",
       "    }\n",
       "</style>\n",
       "<table border=\"1\" class=\"dataframe\">\n",
       "  <thead>\n",
       "    <tr style=\"text-align: right;\">\n",
       "      <th></th>\n",
       "      <th>GDP</th>\n",
       "    </tr>\n",
       "  </thead>\n",
       "  <tbody>\n",
       "    <tr>\n",
       "      <th>0</th>\n",
       "      <td>461774</td>\n",
       "    </tr>\n",
       "    <tr>\n",
       "      <th>1</th>\n",
       "      <td>488234</td>\n",
       "    </tr>\n",
       "    <tr>\n",
       "      <th>2</th>\n",
       "      <td>489504</td>\n",
       "    </tr>\n",
       "    <tr>\n",
       "      <th>3</th>\n",
       "      <td>498511</td>\n",
       "    </tr>\n",
       "    <tr>\n",
       "      <th>4</th>\n",
       "      <td>495361</td>\n",
       "    </tr>\n",
       "    <tr>\n",
       "      <th>...</th>\n",
       "      <td>...</td>\n",
       "    </tr>\n",
       "    <tr>\n",
       "      <th>163</th>\n",
       "      <td>5896191</td>\n",
       "    </tr>\n",
       "    <tr>\n",
       "      <th>164</th>\n",
       "      <td>5489013</td>\n",
       "    </tr>\n",
       "    <tr>\n",
       "      <th>165</th>\n",
       "      <td>5710934</td>\n",
       "    </tr>\n",
       "    <tr>\n",
       "      <th>166</th>\n",
       "      <td>6016101</td>\n",
       "    </tr>\n",
       "    <tr>\n",
       "      <th>167</th>\n",
       "      <td>6380686</td>\n",
       "    </tr>\n",
       "  </tbody>\n",
       "</table>\n",
       "<p>168 rows × 1 columns</p>\n",
       "</div>"
      ],
      "text/plain": [
       "         GDP\n",
       "0     461774\n",
       "1     488234\n",
       "2     489504\n",
       "3     498511\n",
       "4     495361\n",
       "..       ...\n",
       "163  5896191\n",
       "164  5489013\n",
       "165  5710934\n",
       "166  6016101\n",
       "167  6380686\n",
       "\n",
       "[168 rows x 1 columns]"
      ]
     },
     "execution_count": 6,
     "metadata": {},
     "output_type": "execute_result"
    }
   ],
   "source": [
    "y_df"
   ]
  },
  {
   "cell_type": "code",
   "execution_count": 7,
   "metadata": {},
   "outputs": [
    {
     "data": {
      "text/html": [
       "<div>\n",
       "<style scoped>\n",
       "    .dataframe tbody tr th:only-of-type {\n",
       "        vertical-align: middle;\n",
       "    }\n",
       "\n",
       "    .dataframe tbody tr th {\n",
       "        vertical-align: top;\n",
       "    }\n",
       "\n",
       "    .dataframe thead th {\n",
       "        text-align: right;\n",
       "    }\n",
       "</style>\n",
       "<table border=\"1\" class=\"dataframe\">\n",
       "  <thead>\n",
       "    <tr style=\"text-align: right;\">\n",
       "      <th></th>\n",
       "      <th>平均匯率(元/美元)</th>\n",
       "      <th>國內投資毛額</th>\n",
       "      <th>投資率</th>\n",
       "      <th>工業生產指數</th>\n",
       "      <th>製造業銷售量指數</th>\n",
       "      <th>電力(企業)總用電量(十億度)</th>\n",
       "      <th>進口物價基本分類指數</th>\n",
       "      <th>出口物價基本分類指數</th>\n",
       "      <th>進口貿易總值</th>\n",
       "      <th>出口貿易總值</th>\n",
       "      <th>機械及電機設備進口值(十億元)</th>\n",
       "      <th>消費者物價指數</th>\n",
       "      <th>失業率</th>\n",
       "      <th>就業人數（千人）</th>\n",
       "      <th>總人口數(千人)</th>\n",
       "      <th>景氣領先指標綜合指數(點)</th>\n",
       "      <th>景氣同時指標綜合指數(點)</th>\n",
       "    </tr>\n",
       "  </thead>\n",
       "  <tbody>\n",
       "    <tr>\n",
       "      <th>0</th>\n",
       "      <td>37.91</td>\n",
       "      <td>102048</td>\n",
       "      <td>22.10</td>\n",
       "      <td>27.57</td>\n",
       "      <td>30.02</td>\n",
       "      <td>4.85</td>\n",
       "      <td>231.63</td>\n",
       "      <td>311.21</td>\n",
       "      <td>147089.00</td>\n",
       "      <td>135223.67</td>\n",
       "      <td>0.00</td>\n",
       "      <td>129.59</td>\n",
       "      <td>3.42</td>\n",
       "      <td>15826.00</td>\n",
       "      <td>42389.67</td>\n",
       "      <td>28.72</td>\n",
       "      <td>30.21</td>\n",
       "    </tr>\n",
       "    <tr>\n",
       "      <th>1</th>\n",
       "      <td>38.78</td>\n",
       "      <td>143589</td>\n",
       "      <td>29.41</td>\n",
       "      <td>30.35</td>\n",
       "      <td>33.54</td>\n",
       "      <td>5.46</td>\n",
       "      <td>231.87</td>\n",
       "      <td>315.17</td>\n",
       "      <td>172059.67</td>\n",
       "      <td>156827.00</td>\n",
       "      <td>0.00</td>\n",
       "      <td>130.53</td>\n",
       "      <td>4.12</td>\n",
       "      <td>15577.33</td>\n",
       "      <td>42570.33</td>\n",
       "      <td>28.81</td>\n",
       "      <td>29.00</td>\n",
       "    </tr>\n",
       "    <tr>\n",
       "      <th>2</th>\n",
       "      <td>39.65</td>\n",
       "      <td>117934</td>\n",
       "      <td>24.09</td>\n",
       "      <td>30.06</td>\n",
       "      <td>32.76</td>\n",
       "      <td>5.81</td>\n",
       "      <td>234.50</td>\n",
       "      <td>317.22</td>\n",
       "      <td>181502.67</td>\n",
       "      <td>148698.00</td>\n",
       "      <td>0.00</td>\n",
       "      <td>133.10</td>\n",
       "      <td>5.75</td>\n",
       "      <td>16000.33</td>\n",
       "      <td>42742.00</td>\n",
       "      <td>28.50</td>\n",
       "      <td>28.87</td>\n",
       "    </tr>\n",
       "    <tr>\n",
       "      <th>3</th>\n",
       "      <td>40.15</td>\n",
       "      <td>144192</td>\n",
       "      <td>28.92</td>\n",
       "      <td>29.86</td>\n",
       "      <td>32.70</td>\n",
       "      <td>5.66</td>\n",
       "      <td>234.53</td>\n",
       "      <td>315.38</td>\n",
       "      <td>168145.00</td>\n",
       "      <td>135928.00</td>\n",
       "      <td>0.00</td>\n",
       "      <td>132.11</td>\n",
       "      <td>6.41</td>\n",
       "      <td>16146.33</td>\n",
       "      <td>42952.67</td>\n",
       "      <td>29.05</td>\n",
       "      <td>29.58</td>\n",
       "    </tr>\n",
       "    <tr>\n",
       "      <th>4</th>\n",
       "      <td>39.97</td>\n",
       "      <td>99632</td>\n",
       "      <td>20.11</td>\n",
       "      <td>29.28</td>\n",
       "      <td>31.80</td>\n",
       "      <td>5.21</td>\n",
       "      <td>227.62</td>\n",
       "      <td>309.54</td>\n",
       "      <td>153110.00</td>\n",
       "      <td>131671.00</td>\n",
       "      <td>0.00</td>\n",
       "      <td>132.95</td>\n",
       "      <td>7.15</td>\n",
       "      <td>16260.67</td>\n",
       "      <td>43145.67</td>\n",
       "      <td>31.46</td>\n",
       "      <td>30.78</td>\n",
       "    </tr>\n",
       "    <tr>\n",
       "      <th>...</th>\n",
       "      <td>...</td>\n",
       "      <td>...</td>\n",
       "      <td>...</td>\n",
       "      <td>...</td>\n",
       "      <td>...</td>\n",
       "      <td>...</td>\n",
       "      <td>...</td>\n",
       "      <td>...</td>\n",
       "      <td>...</td>\n",
       "      <td>...</td>\n",
       "      <td>...</td>\n",
       "      <td>...</td>\n",
       "      <td>...</td>\n",
       "      <td>...</td>\n",
       "      <td>...</td>\n",
       "      <td>...</td>\n",
       "      <td>...</td>\n",
       "    </tr>\n",
       "    <tr>\n",
       "      <th>163</th>\n",
       "      <td>31.37</td>\n",
       "      <td>1588290</td>\n",
       "      <td>26.94</td>\n",
       "      <td>220.26</td>\n",
       "      <td>211.99</td>\n",
       "      <td>32.25</td>\n",
       "      <td>275.24</td>\n",
       "      <td>267.03</td>\n",
       "      <td>2781303.00</td>\n",
       "      <td>2520472.00</td>\n",
       "      <td>1162.68</td>\n",
       "      <td>241.98</td>\n",
       "      <td>8.42</td>\n",
       "      <td>26657.00</td>\n",
       "      <td>53816.00</td>\n",
       "      <td>218.08</td>\n",
       "      <td>215.55</td>\n",
       "    </tr>\n",
       "    <tr>\n",
       "      <th>164</th>\n",
       "      <td>30.40</td>\n",
       "      <td>1520462</td>\n",
       "      <td>27.70</td>\n",
       "      <td>188.21</td>\n",
       "      <td>187.55</td>\n",
       "      <td>28.45</td>\n",
       "      <td>263.12</td>\n",
       "      <td>253.88</td>\n",
       "      <td>2259435.33</td>\n",
       "      <td>2073891.33</td>\n",
       "      <td>925.86</td>\n",
       "      <td>243.54</td>\n",
       "      <td>8.22</td>\n",
       "      <td>26787.33</td>\n",
       "      <td>54002.33</td>\n",
       "      <td>220.45</td>\n",
       "      <td>206.97</td>\n",
       "    </tr>\n",
       "    <tr>\n",
       "      <th>165</th>\n",
       "      <td>30.71</td>\n",
       "      <td>1426025</td>\n",
       "      <td>24.97</td>\n",
       "      <td>188.72</td>\n",
       "      <td>195.97</td>\n",
       "      <td>31.84</td>\n",
       "      <td>257.68</td>\n",
       "      <td>252.57</td>\n",
       "      <td>2533770.00</td>\n",
       "      <td>2111711.00</td>\n",
       "      <td>890.73</td>\n",
       "      <td>245.20</td>\n",
       "      <td>8.12</td>\n",
       "      <td>26852.33</td>\n",
       "      <td>54117.67</td>\n",
       "      <td>219.13</td>\n",
       "      <td>204.78</td>\n",
       "    </tr>\n",
       "    <tr>\n",
       "      <th>166</th>\n",
       "      <td>31.69</td>\n",
       "      <td>1364758</td>\n",
       "      <td>22.69</td>\n",
       "      <td>205.88</td>\n",
       "      <td>207.63</td>\n",
       "      <td>34.72</td>\n",
       "      <td>260.87</td>\n",
       "      <td>258.10</td>\n",
       "      <td>2794123.00</td>\n",
       "      <td>2151759.33</td>\n",
       "      <td>973.80</td>\n",
       "      <td>246.62</td>\n",
       "      <td>8.28</td>\n",
       "      <td>26936.00</td>\n",
       "      <td>54213.00</td>\n",
       "      <td>216.33</td>\n",
       "      <td>207.60</td>\n",
       "    </tr>\n",
       "    <tr>\n",
       "      <th>167</th>\n",
       "      <td>31.84</td>\n",
       "      <td>1471478</td>\n",
       "      <td>23.06</td>\n",
       "      <td>215.34</td>\n",
       "      <td>209.11</td>\n",
       "      <td>32.09</td>\n",
       "      <td>263.75</td>\n",
       "      <td>261.96</td>\n",
       "      <td>2853790.00</td>\n",
       "      <td>2235742.33</td>\n",
       "      <td>1049.92</td>\n",
       "      <td>249.07</td>\n",
       "      <td>7.88</td>\n",
       "      <td>26996.00</td>\n",
       "      <td>54258.33</td>\n",
       "      <td>215.93</td>\n",
       "      <td>210.73</td>\n",
       "    </tr>\n",
       "  </tbody>\n",
       "</table>\n",
       "<p>168 rows × 17 columns</p>\n",
       "</div>"
      ],
      "text/plain": [
       "     平均匯率(元/美元)   國內投資毛額    投資率  工業生產指數  製造業銷售量指數  電力(企業)總用電量(十億度)  \\\n",
       "0         37.91   102048  22.10   27.57     30.02             4.85   \n",
       "1         38.78   143589  29.41   30.35     33.54             5.46   \n",
       "2         39.65   117934  24.09   30.06     32.76             5.81   \n",
       "3         40.15   144192  28.92   29.86     32.70             5.66   \n",
       "4         39.97    99632  20.11   29.28     31.80             5.21   \n",
       "..          ...      ...    ...     ...       ...              ...   \n",
       "163       31.37  1588290  26.94  220.26    211.99            32.25   \n",
       "164       30.40  1520462  27.70  188.21    187.55            28.45   \n",
       "165       30.71  1426025  24.97  188.72    195.97            31.84   \n",
       "166       31.69  1364758  22.69  205.88    207.63            34.72   \n",
       "167       31.84  1471478  23.06  215.34    209.11            32.09   \n",
       "\n",
       "     進口物價基本分類指數  出口物價基本分類指數      進口貿易總值      出口貿易總值  機械及電機設備進口值(十億元)  消費者物價指數  \\\n",
       "0        231.63      311.21   147089.00   135223.67             0.00   129.59   \n",
       "1        231.87      315.17   172059.67   156827.00             0.00   130.53   \n",
       "2        234.50      317.22   181502.67   148698.00             0.00   133.10   \n",
       "3        234.53      315.38   168145.00   135928.00             0.00   132.11   \n",
       "4        227.62      309.54   153110.00   131671.00             0.00   132.95   \n",
       "..          ...         ...         ...         ...              ...      ...   \n",
       "163      275.24      267.03  2781303.00  2520472.00          1162.68   241.98   \n",
       "164      263.12      253.88  2259435.33  2073891.33           925.86   243.54   \n",
       "165      257.68      252.57  2533770.00  2111711.00           890.73   245.20   \n",
       "166      260.87      258.10  2794123.00  2151759.33           973.80   246.62   \n",
       "167      263.75      261.96  2853790.00  2235742.33          1049.92   249.07   \n",
       "\n",
       "      失業率  就業人數（千人）  總人口數(千人)  景氣領先指標綜合指數(點)  景氣同時指標綜合指數(點)  \n",
       "0    3.42  15826.00  42389.67          28.72          30.21  \n",
       "1    4.12  15577.33  42570.33          28.81          29.00  \n",
       "2    5.75  16000.33  42742.00          28.50          28.87  \n",
       "3    6.41  16146.33  42952.67          29.05          29.58  \n",
       "4    7.15  16260.67  43145.67          31.46          30.78  \n",
       "..    ...       ...       ...            ...            ...  \n",
       "163  8.42  26657.00  53816.00         218.08         215.55  \n",
       "164  8.22  26787.33  54002.33         220.45         206.97  \n",
       "165  8.12  26852.33  54117.67         219.13         204.78  \n",
       "166  8.28  26936.00  54213.00         216.33         207.60  \n",
       "167  7.88  26996.00  54258.33         215.93         210.73  \n",
       "\n",
       "[168 rows x 17 columns]"
      ]
     },
     "execution_count": 7,
     "metadata": {},
     "output_type": "execute_result"
    }
   ],
   "source": [
    "x_df"
   ]
  },
  {
   "cell_type": "markdown",
   "metadata": {},
   "source": [
    "## 02 data MinMaxScaler"
   ]
  },
  {
   "cell_type": "code",
   "execution_count": 8,
   "metadata": {},
   "outputs": [],
   "source": [
    "from sklearn.preprocessing import MinMaxScaler"
   ]
  },
  {
   "cell_type": "code",
   "execution_count": 9,
   "metadata": {},
   "outputs": [],
   "source": [
    "scaler_X = MinMaxScaler()\n",
    "scaler_y = MinMaxScaler()\n",
    "\n",
    "X_scaled = scaler_X.fit_transform(x_df)\n",
    "y_scaled = scaler_y.fit_transform(y_df)"
   ]
  },
  {
   "cell_type": "code",
   "execution_count": 10,
   "metadata": {},
   "outputs": [],
   "source": [
    "X_seq,y_seq=[],[]\n",
    "\n",
    "\n",
    "for i in range(5,len(X_scaled)):\n",
    "    X_seq.append([X_scaled[i],X_scaled[i-1],X_scaled[i-2]])\n",
    "\n",
    "for i in range(5,len(y_scaled)):\n",
    "    y_seq.append([y_scaled[i]])\n",
    "\n",
    "X_seq=np.array(X_seq)\n",
    "y_seq=np.array(y_seq)\n"
   ]
  },
  {
   "cell_type": "markdown",
   "metadata": {},
   "source": [
    "## 03 data spliting 80 & 20"
   ]
  },
  {
   "cell_type": "code",
   "execution_count": 11,
   "metadata": {},
   "outputs": [],
   "source": [
    "train_size = int(len(X_seq) * 0.8)\n",
    "lstm_X_train, lstm_X_test = X_seq[:train_size], X_seq[train_size:]\n",
    "lstm_y_train, lstm_y_test = y_seq[:train_size], y_seq[train_size:]\n"
   ]
  },
  {
   "cell_type": "markdown",
   "metadata": {},
   "source": [
    "# Model-LSTM"
   ]
  },
  {
   "cell_type": "markdown",
   "metadata": {},
   "source": [
    "- train 1983 Q2 to 2015 Q3\n",
    "- test  2015 Q4 to 2023 Q4"
   ]
  },
  {
   "cell_type": "code",
   "execution_count": 12,
   "metadata": {},
   "outputs": [],
   "source": [
    "from tensorflow.keras.models import Sequential\n",
    "from tensorflow.keras.layers import LSTM, Dense\n",
    "from keras.callbacks import EarlyStopping\n",
    "from keras.regularizers import l2\n",
    "from sklearn.metrics import mean_squared_error, mean_absolute_error\n",
    "\n",
    "import matplotlib.pyplot as plt"
   ]
  },
  {
   "cell_type": "code",
   "execution_count": 13,
   "metadata": {},
   "outputs": [],
   "source": [
    "def evaluate_performance(y_true_scaled, y_pred_scaled, scaler, dataset_name=\"\"):\n",
    "    y_true = scaler.inverse_transform(y_true_scaled)\n",
    "    y_pred = scaler.inverse_transform(y_pred_scaled)\n",
    "\n",
    "    mse = mean_squared_error(y_true, y_pred)\n",
    "    rmse = mean_squared_error(y_true, y_pred, squared=False)\n",
    "    mae = mean_absolute_error(y_true, y_pred)\n",
    "\n",
    "    print(f\"\\n📊 {dataset_name} Performance:\")\n",
    "    print(f\"  MSE:  {mse:.2f}\")\n",
    "    print(f\"  RMSE: {rmse:.2f}\")\n",
    "    print(f\"  MAE:  {mae:.2f}\")"
   ]
  },
  {
   "cell_type": "code",
   "execution_count": 14,
   "metadata": {},
   "outputs": [],
   "source": [
    "def plot_gdp_forecast(year,name,train_actual, train_pred, test_actual, test_pred):\n",
    "    plt.figure(figsize=(16, 7))\n",
    "\n",
    "    # 畫出四條線\n",
    "    plt.plot(year.iloc[5:135],train_actual, label='Train Actual', color='blue', linestyle='-')\n",
    "    plt.plot(year.iloc[5:135],train_pred, label='Train Predicted', color='cyan', linestyle='--')\n",
    "    plt.plot(year.iloc[135:],test_actual, label='Test Actual', color='green', linestyle='-')\n",
    "    plt.plot(year.iloc[135:],test_pred, label='Test Predicted', color='orange', linestyle='--')\n",
    "\n",
    "    # 標題與座標軸\n",
    "    plt.title(f'GDP Forecast with {name}', fontsize=16)\n",
    "    plt.xlabel('Time', fontsize=14)\n",
    "    plt.ylabel('GDP Value', fontsize=14)\n",
    "\n",
    "    plt.xticks(year[::15],rotation=45)\n",
    "    \n",
    "    # 顯示圖例\n",
    "    plt.legend()\n",
    "\n",
    "    # 顯示網格\n",
    "    plt.grid(True, linestyle='--', alpha=0.7)\n",
    "\n",
    "    # 顯示圖片\n",
    "    plt.show()"
   ]
  },
  {
   "cell_type": "code",
   "execution_count": 45,
   "metadata": {},
   "outputs": [
    {
     "name": "stderr",
     "output_type": "stream",
     "text": [
      "/opt/anaconda3/lib/python3.11/site-packages/keras/src/layers/rnn/rnn.py:200: UserWarning: Do not pass an `input_shape`/`input_dim` argument to a layer. When using Sequential models, prefer using an `Input(shape)` object as the first layer in the model instead.\n",
      "  super().__init__(**kwargs)\n"
     ]
    },
    {
     "data": {
      "text/html": [
       "<pre style=\"white-space:pre;overflow-x:auto;line-height:normal;font-family:Menlo,'DejaVu Sans Mono',consolas,'Courier New',monospace\"><span style=\"font-weight: bold\">Model: \"sequential_10\"</span>\n",
       "</pre>\n"
      ],
      "text/plain": [
       "\u001b[1mModel: \"sequential_10\"\u001b[0m\n"
      ]
     },
     "metadata": {},
     "output_type": "display_data"
    },
    {
     "data": {
      "text/html": [
       "<pre style=\"white-space:pre;overflow-x:auto;line-height:normal;font-family:Menlo,'DejaVu Sans Mono',consolas,'Courier New',monospace\">┏━━━━━━━━━━━━━━━━━━━━━━━━━━━━━━━━━┳━━━━━━━━━━━━━━━━━━━━━━━━┳━━━━━━━━━━━━━━━┓\n",
       "┃<span style=\"font-weight: bold\"> Layer (type)                    </span>┃<span style=\"font-weight: bold\"> Output Shape           </span>┃<span style=\"font-weight: bold\">       Param # </span>┃\n",
       "┡━━━━━━━━━━━━━━━━━━━━━━━━━━━━━━━━━╇━━━━━━━━━━━━━━━━━━━━━━━━╇━━━━━━━━━━━━━━━┩\n",
       "│ lstm_10 (<span style=\"color: #0087ff; text-decoration-color: #0087ff\">LSTM</span>)                  │ (<span style=\"color: #00d7ff; text-decoration-color: #00d7ff\">None</span>, <span style=\"color: #00af00; text-decoration-color: #00af00\">64</span>)             │        <span style=\"color: #00af00; text-decoration-color: #00af00\">20,992</span> │\n",
       "├─────────────────────────────────┼────────────────────────┼───────────────┤\n",
       "│ dense_10 (<span style=\"color: #0087ff; text-decoration-color: #0087ff\">Dense</span>)                │ (<span style=\"color: #00d7ff; text-decoration-color: #00d7ff\">None</span>, <span style=\"color: #00af00; text-decoration-color: #00af00\">1</span>)              │            <span style=\"color: #00af00; text-decoration-color: #00af00\">65</span> │\n",
       "└─────────────────────────────────┴────────────────────────┴───────────────┘\n",
       "</pre>\n"
      ],
      "text/plain": [
       "┏━━━━━━━━━━━━━━━━━━━━━━━━━━━━━━━━━┳━━━━━━━━━━━━━━━━━━━━━━━━┳━━━━━━━━━━━━━━━┓\n",
       "┃\u001b[1m \u001b[0m\u001b[1mLayer (type)                   \u001b[0m\u001b[1m \u001b[0m┃\u001b[1m \u001b[0m\u001b[1mOutput Shape          \u001b[0m\u001b[1m \u001b[0m┃\u001b[1m \u001b[0m\u001b[1m      Param #\u001b[0m\u001b[1m \u001b[0m┃\n",
       "┡━━━━━━━━━━━━━━━━━━━━━━━━━━━━━━━━━╇━━━━━━━━━━━━━━━━━━━━━━━━╇━━━━━━━━━━━━━━━┩\n",
       "│ lstm_10 (\u001b[38;5;33mLSTM\u001b[0m)                  │ (\u001b[38;5;45mNone\u001b[0m, \u001b[38;5;34m64\u001b[0m)             │        \u001b[38;5;34m20,992\u001b[0m │\n",
       "├─────────────────────────────────┼────────────────────────┼───────────────┤\n",
       "│ dense_10 (\u001b[38;5;33mDense\u001b[0m)                │ (\u001b[38;5;45mNone\u001b[0m, \u001b[38;5;34m1\u001b[0m)              │            \u001b[38;5;34m65\u001b[0m │\n",
       "└─────────────────────────────────┴────────────────────────┴───────────────┘\n"
      ]
     },
     "metadata": {},
     "output_type": "display_data"
    },
    {
     "data": {
      "text/html": [
       "<pre style=\"white-space:pre;overflow-x:auto;line-height:normal;font-family:Menlo,'DejaVu Sans Mono',consolas,'Courier New',monospace\"><span style=\"font-weight: bold\"> Total params: </span><span style=\"color: #00af00; text-decoration-color: #00af00\">21,057</span> (82.25 KB)\n",
       "</pre>\n"
      ],
      "text/plain": [
       "\u001b[1m Total params: \u001b[0m\u001b[38;5;34m21,057\u001b[0m (82.25 KB)\n"
      ]
     },
     "metadata": {},
     "output_type": "display_data"
    },
    {
     "data": {
      "text/html": [
       "<pre style=\"white-space:pre;overflow-x:auto;line-height:normal;font-family:Menlo,'DejaVu Sans Mono',consolas,'Courier New',monospace\"><span style=\"font-weight: bold\"> Trainable params: </span><span style=\"color: #00af00; text-decoration-color: #00af00\">21,057</span> (82.25 KB)\n",
       "</pre>\n"
      ],
      "text/plain": [
       "\u001b[1m Trainable params: \u001b[0m\u001b[38;5;34m21,057\u001b[0m (82.25 KB)\n"
      ]
     },
     "metadata": {},
     "output_type": "display_data"
    },
    {
     "data": {
      "text/html": [
       "<pre style=\"white-space:pre;overflow-x:auto;line-height:normal;font-family:Menlo,'DejaVu Sans Mono',consolas,'Courier New',monospace\"><span style=\"font-weight: bold\"> Non-trainable params: </span><span style=\"color: #00af00; text-decoration-color: #00af00\">0</span> (0.00 B)\n",
       "</pre>\n"
      ],
      "text/plain": [
       "\u001b[1m Non-trainable params: \u001b[0m\u001b[38;5;34m0\u001b[0m (0.00 B)\n"
      ]
     },
     "metadata": {},
     "output_type": "display_data"
    },
    {
     "name": "stdout",
     "output_type": "stream",
     "text": [
      "Epoch 1/50\n",
      "\u001b[1m19/19\u001b[0m \u001b[32m━━━━━━━━━━━━━━━━━━━━\u001b[0m\u001b[37m\u001b[0m \u001b[1m1s\u001b[0m 2ms/step - loss: 0.1291   \n",
      "Epoch 2/50\n",
      "\u001b[1m19/19\u001b[0m \u001b[32m━━━━━━━━━━━━━━━━━━━━\u001b[0m\u001b[37m\u001b[0m \u001b[1m0s\u001b[0m 3ms/step - loss: 0.0128 \n",
      "Epoch 3/50\n",
      "\u001b[1m19/19\u001b[0m \u001b[32m━━━━━━━━━━━━━━━━━━━━\u001b[0m\u001b[37m\u001b[0m \u001b[1m0s\u001b[0m 2ms/step - loss: 0.0058 \n",
      "Epoch 4/50\n",
      "\u001b[1m19/19\u001b[0m \u001b[32m━━━━━━━━━━━━━━━━━━━━\u001b[0m\u001b[37m\u001b[0m \u001b[1m0s\u001b[0m 2ms/step - loss: 0.0024 \n",
      "Epoch 5/50\n",
      "\u001b[1m19/19\u001b[0m \u001b[32m━━━━━━━━━━━━━━━━━━━━\u001b[0m\u001b[37m\u001b[0m \u001b[1m0s\u001b[0m 2ms/step - loss: 0.0020 \n",
      "Epoch 6/50\n"
     ]
    },
    {
     "name": "stderr",
     "output_type": "stream",
     "text": [
      "/opt/anaconda3/lib/python3.11/site-packages/keras/src/callbacks/early_stopping.py:153: UserWarning: Early stopping conditioned on metric `val_loss` which is not available. Available metrics are: loss\n",
      "  current = self.get_monitor_value(logs)\n"
     ]
    },
    {
     "name": "stdout",
     "output_type": "stream",
     "text": [
      "\u001b[1m19/19\u001b[0m \u001b[32m━━━━━━━━━━━━━━━━━━━━\u001b[0m\u001b[37m\u001b[0m \u001b[1m0s\u001b[0m 2ms/step - loss: 9.2274e-04 \n",
      "Epoch 7/50\n",
      "\u001b[1m19/19\u001b[0m \u001b[32m━━━━━━━━━━━━━━━━━━━━\u001b[0m\u001b[37m\u001b[0m \u001b[1m0s\u001b[0m 2ms/step - loss: 9.7678e-04 \n",
      "Epoch 8/50\n",
      "\u001b[1m19/19\u001b[0m \u001b[32m━━━━━━━━━━━━━━━━━━━━\u001b[0m\u001b[37m\u001b[0m \u001b[1m0s\u001b[0m 2ms/step - loss: 0.0011     \n",
      "Epoch 9/50\n",
      "\u001b[1m19/19\u001b[0m \u001b[32m━━━━━━━━━━━━━━━━━━━━\u001b[0m\u001b[37m\u001b[0m \u001b[1m0s\u001b[0m 2ms/step - loss: 0.0012     \n",
      "Epoch 10/50\n",
      "\u001b[1m19/19\u001b[0m \u001b[32m━━━━━━━━━━━━━━━━━━━━\u001b[0m\u001b[37m\u001b[0m \u001b[1m0s\u001b[0m 2ms/step - loss: 9.6457e-04 \n",
      "Epoch 11/50\n",
      "\u001b[1m19/19\u001b[0m \u001b[32m━━━━━━━━━━━━━━━━━━━━\u001b[0m\u001b[37m\u001b[0m \u001b[1m0s\u001b[0m 2ms/step - loss: 7.6540e-04\n",
      "Epoch 12/50\n",
      "\u001b[1m19/19\u001b[0m \u001b[32m━━━━━━━━━━━━━━━━━━━━\u001b[0m\u001b[37m\u001b[0m \u001b[1m0s\u001b[0m 2ms/step - loss: 0.0012 \n",
      "Epoch 13/50\n",
      "\u001b[1m19/19\u001b[0m \u001b[32m━━━━━━━━━━━━━━━━━━━━\u001b[0m\u001b[37m\u001b[0m \u001b[1m0s\u001b[0m 2ms/step - loss: 8.6981e-04 \n",
      "Epoch 14/50\n",
      "\u001b[1m19/19\u001b[0m \u001b[32m━━━━━━━━━━━━━━━━━━━━\u001b[0m\u001b[37m\u001b[0m \u001b[1m0s\u001b[0m 2ms/step - loss: 8.0036e-04 \n",
      "Epoch 15/50\n",
      "\u001b[1m19/19\u001b[0m \u001b[32m━━━━━━━━━━━━━━━━━━━━\u001b[0m\u001b[37m\u001b[0m \u001b[1m0s\u001b[0m 2ms/step - loss: 5.3909e-04 \n",
      "Epoch 16/50\n",
      "\u001b[1m19/19\u001b[0m \u001b[32m━━━━━━━━━━━━━━━━━━━━\u001b[0m\u001b[37m\u001b[0m \u001b[1m0s\u001b[0m 2ms/step - loss: 0.0012     \n",
      "Epoch 17/50\n",
      "\u001b[1m19/19\u001b[0m \u001b[32m━━━━━━━━━━━━━━━━━━━━\u001b[0m\u001b[37m\u001b[0m \u001b[1m0s\u001b[0m 2ms/step - loss: 0.0010 \n",
      "Epoch 18/50\n",
      "\u001b[1m19/19\u001b[0m \u001b[32m━━━━━━━━━━━━━━━━━━━━\u001b[0m\u001b[37m\u001b[0m \u001b[1m0s\u001b[0m 2ms/step - loss: 4.9237e-04 \n",
      "Epoch 19/50\n",
      "\u001b[1m19/19\u001b[0m \u001b[32m━━━━━━━━━━━━━━━━━━━━\u001b[0m\u001b[37m\u001b[0m \u001b[1m0s\u001b[0m 2ms/step - loss: 7.9264e-04\n",
      "Epoch 20/50\n",
      "\u001b[1m19/19\u001b[0m \u001b[32m━━━━━━━━━━━━━━━━━━━━\u001b[0m\u001b[37m\u001b[0m \u001b[1m0s\u001b[0m 2ms/step - loss: 6.5037e-04 \n",
      "Epoch 21/50\n",
      "\u001b[1m19/19\u001b[0m \u001b[32m━━━━━━━━━━━━━━━━━━━━\u001b[0m\u001b[37m\u001b[0m \u001b[1m0s\u001b[0m 2ms/step - loss: 0.0012     \n",
      "Epoch 22/50\n",
      "\u001b[1m19/19\u001b[0m \u001b[32m━━━━━━━━━━━━━━━━━━━━\u001b[0m\u001b[37m\u001b[0m \u001b[1m0s\u001b[0m 2ms/step - loss: 8.1517e-04\n",
      "Epoch 23/50\n",
      "\u001b[1m19/19\u001b[0m \u001b[32m━━━━━━━━━━━━━━━━━━━━\u001b[0m\u001b[37m\u001b[0m \u001b[1m0s\u001b[0m 2ms/step - loss: 6.6434e-04 \n",
      "Epoch 24/50\n",
      "\u001b[1m19/19\u001b[0m \u001b[32m━━━━━━━━━━━━━━━━━━━━\u001b[0m\u001b[37m\u001b[0m \u001b[1m0s\u001b[0m 2ms/step - loss: 7.8297e-04 \n",
      "Epoch 25/50\n",
      "\u001b[1m19/19\u001b[0m \u001b[32m━━━━━━━━━━━━━━━━━━━━\u001b[0m\u001b[37m\u001b[0m \u001b[1m0s\u001b[0m 2ms/step - loss: 8.6869e-04\n",
      "Epoch 26/50\n",
      "\u001b[1m19/19\u001b[0m \u001b[32m━━━━━━━━━━━━━━━━━━━━\u001b[0m\u001b[37m\u001b[0m \u001b[1m0s\u001b[0m 3ms/step - loss: 0.0011     \n",
      "Epoch 27/50\n",
      "\u001b[1m19/19\u001b[0m \u001b[32m━━━━━━━━━━━━━━━━━━━━\u001b[0m\u001b[37m\u001b[0m \u001b[1m0s\u001b[0m 2ms/step - loss: 7.3423e-04\n",
      "Epoch 28/50\n",
      "\u001b[1m19/19\u001b[0m \u001b[32m━━━━━━━━━━━━━━━━━━━━\u001b[0m\u001b[37m\u001b[0m \u001b[1m0s\u001b[0m 2ms/step - loss: 7.4377e-04 \n",
      "Epoch 29/50\n",
      "\u001b[1m19/19\u001b[0m \u001b[32m━━━━━━━━━━━━━━━━━━━━\u001b[0m\u001b[37m\u001b[0m \u001b[1m0s\u001b[0m 2ms/step - loss: 7.6408e-04\n",
      "Epoch 30/50\n",
      "\u001b[1m19/19\u001b[0m \u001b[32m━━━━━━━━━━━━━━━━━━━━\u001b[0m\u001b[37m\u001b[0m \u001b[1m0s\u001b[0m 2ms/step - loss: 5.8155e-04 \n",
      "Epoch 31/50\n",
      "\u001b[1m19/19\u001b[0m \u001b[32m━━━━━━━━━━━━━━━━━━━━\u001b[0m\u001b[37m\u001b[0m \u001b[1m0s\u001b[0m 2ms/step - loss: 4.8327e-04 \n",
      "Epoch 32/50\n",
      "\u001b[1m19/19\u001b[0m \u001b[32m━━━━━━━━━━━━━━━━━━━━\u001b[0m\u001b[37m\u001b[0m \u001b[1m0s\u001b[0m 2ms/step - loss: 5.5651e-04 \n",
      "Epoch 33/50\n",
      "\u001b[1m19/19\u001b[0m \u001b[32m━━━━━━━━━━━━━━━━━━━━\u001b[0m\u001b[37m\u001b[0m \u001b[1m0s\u001b[0m 2ms/step - loss: 3.7751e-04 \n",
      "Epoch 34/50\n",
      "\u001b[1m19/19\u001b[0m \u001b[32m━━━━━━━━━━━━━━━━━━━━\u001b[0m\u001b[37m\u001b[0m \u001b[1m0s\u001b[0m 2ms/step - loss: 4.8920e-04 \n",
      "Epoch 35/50\n",
      "\u001b[1m19/19\u001b[0m \u001b[32m━━━━━━━━━━━━━━━━━━━━\u001b[0m\u001b[37m\u001b[0m \u001b[1m0s\u001b[0m 2ms/step - loss: 6.2785e-04\n",
      "Epoch 36/50\n",
      "\u001b[1m19/19\u001b[0m \u001b[32m━━━━━━━━━━━━━━━━━━━━\u001b[0m\u001b[37m\u001b[0m \u001b[1m0s\u001b[0m 2ms/step - loss: 6.2016e-04 \n",
      "Epoch 37/50\n",
      "\u001b[1m19/19\u001b[0m \u001b[32m━━━━━━━━━━━━━━━━━━━━\u001b[0m\u001b[37m\u001b[0m \u001b[1m0s\u001b[0m 2ms/step - loss: 3.9551e-04 \n",
      "Epoch 38/50\n",
      "\u001b[1m19/19\u001b[0m \u001b[32m━━━━━━━━━━━━━━━━━━━━\u001b[0m\u001b[37m\u001b[0m \u001b[1m0s\u001b[0m 2ms/step - loss: 4.7822e-04\n",
      "Epoch 39/50\n",
      "\u001b[1m19/19\u001b[0m \u001b[32m━━━━━━━━━━━━━━━━━━━━\u001b[0m\u001b[37m\u001b[0m \u001b[1m0s\u001b[0m 2ms/step - loss: 4.8974e-04 \n",
      "Epoch 40/50\n",
      "\u001b[1m19/19\u001b[0m \u001b[32m━━━━━━━━━━━━━━━━━━━━\u001b[0m\u001b[37m\u001b[0m \u001b[1m0s\u001b[0m 2ms/step - loss: 5.3474e-04 \n",
      "Epoch 41/50\n",
      "\u001b[1m19/19\u001b[0m \u001b[32m━━━━━━━━━━━━━━━━━━━━\u001b[0m\u001b[37m\u001b[0m \u001b[1m0s\u001b[0m 4ms/step - loss: 8.2451e-04\n",
      "Epoch 42/50\n",
      "\u001b[1m19/19\u001b[0m \u001b[32m━━━━━━━━━━━━━━━━━━━━\u001b[0m\u001b[37m\u001b[0m \u001b[1m0s\u001b[0m 2ms/step - loss: 3.8402e-04 \n",
      "Epoch 43/50\n",
      "\u001b[1m19/19\u001b[0m \u001b[32m━━━━━━━━━━━━━━━━━━━━\u001b[0m\u001b[37m\u001b[0m \u001b[1m0s\u001b[0m 2ms/step - loss: 4.8400e-04 \n",
      "Epoch 44/50\n",
      "\u001b[1m19/19\u001b[0m \u001b[32m━━━━━━━━━━━━━━━━━━━━\u001b[0m\u001b[37m\u001b[0m \u001b[1m0s\u001b[0m 2ms/step - loss: 3.7654e-04 \n",
      "Epoch 45/50\n",
      "\u001b[1m19/19\u001b[0m \u001b[32m━━━━━━━━━━━━━━━━━━━━\u001b[0m\u001b[37m\u001b[0m \u001b[1m0s\u001b[0m 3ms/step - loss: 3.3271e-04 \n",
      "Epoch 46/50\n",
      "\u001b[1m19/19\u001b[0m \u001b[32m━━━━━━━━━━━━━━━━━━━━\u001b[0m\u001b[37m\u001b[0m \u001b[1m0s\u001b[0m 2ms/step - loss: 3.3051e-04 \n",
      "Epoch 47/50\n",
      "\u001b[1m19/19\u001b[0m \u001b[32m━━━━━━━━━━━━━━━━━━━━\u001b[0m\u001b[37m\u001b[0m \u001b[1m0s\u001b[0m 2ms/step - loss: 5.2372e-04 \n",
      "Epoch 48/50\n",
      "\u001b[1m19/19\u001b[0m \u001b[32m━━━━━━━━━━━━━━━━━━━━\u001b[0m\u001b[37m\u001b[0m \u001b[1m0s\u001b[0m 2ms/step - loss: 3.4083e-04 \n",
      "Epoch 49/50\n",
      "\u001b[1m19/19\u001b[0m \u001b[32m━━━━━━━━━━━━━━━━━━━━\u001b[0m\u001b[37m\u001b[0m \u001b[1m0s\u001b[0m 2ms/step - loss: 5.8585e-04\n",
      "Epoch 50/50\n",
      "\u001b[1m19/19\u001b[0m \u001b[32m━━━━━━━━━━━━━━━━━━━━\u001b[0m\u001b[37m\u001b[0m \u001b[1m0s\u001b[0m 2ms/step - loss: 4.4010e-04 \n"
     ]
    },
    {
     "data": {
      "text/plain": [
       "<keras.src.callbacks.history.History at 0x3556520d0>"
      ]
     },
     "execution_count": 45,
     "metadata": {},
     "output_type": "execute_result"
    }
   ],
   "source": [
    "model = Sequential()\n",
    "\n",
    "#model.add(LSTM(64, input_shape=(lstm_X_train.shape[1], lstm_X_train.shape[2])))\n",
    "\n",
    "model.add(LSTM(64, \n",
    "               input_shape=(lstm_X_train.shape[1], lstm_X_train.shape[2]), \n",
    "               dropout=0.02, \n",
    "               recurrent_dropout=0.1))\n",
    "\n",
    "\"\"\"# 第二層 LSTM，加入 L2 正則化防止過擬合\n",
    "model.add(LSTM(64,\n",
    "               kernel_regularizer=l2(0.001)))\"\"\"\n",
    "\n",
    "model.add(Dense(1))\n",
    "\n",
    "model.compile(loss='mse', optimizer='adam')\n",
    "\n",
    "\n",
    "model.summary()\n",
    "\n",
    "early_stop = EarlyStopping(monitor='val_loss', patience=20, restore_best_weights=True)\n",
    "\n",
    "model.fit(lstm_X_train, \n",
    "          lstm_y_train, \n",
    "          epochs=50, \n",
    "          batch_size=7, \n",
    "          callbacks=[early_stop])\n"
   ]
  },
  {
   "cell_type": "code",
   "execution_count": 46,
   "metadata": {},
   "outputs": [
    {
     "name": "stdout",
     "output_type": "stream",
     "text": [
      "\u001b[1m5/5\u001b[0m \u001b[32m━━━━━━━━━━━━━━━━━━━━\u001b[0m\u001b[37m\u001b[0m \u001b[1m0s\u001b[0m 31ms/step\n",
      "\u001b[1m2/2\u001b[0m \u001b[32m━━━━━━━━━━━━━━━━━━━━\u001b[0m\u001b[37m\u001b[0m \u001b[1m0s\u001b[0m 7ms/step\n"
     ]
    }
   ],
   "source": [
    "# 預測\n",
    "y_train_pred_scaled = model.predict(lstm_X_train)\n",
    "y_pred_lstm_train = scaler_y.inverse_transform(y_train_pred_scaled)\n",
    "y_true_lstm_train = scaler_y.inverse_transform(lstm_y_train.reshape(-1, 1))\n",
    "\n",
    "\n",
    "y_test_pred_scaled = model.predict(lstm_X_test)\n",
    "y_pred_lstm_test = scaler_y.inverse_transform(y_test_pred_scaled)\n",
    "y_true_lstm_test = scaler_y.inverse_transform(lstm_y_test.reshape(-1, 1))"
   ]
  },
  {
   "cell_type": "code",
   "execution_count": 47,
   "metadata": {},
   "outputs": [
    {
     "name": "stdout",
     "output_type": "stream",
     "text": [
      "\n",
      "📊 Train Set Performance:\n",
      "  MSE:  6241254649.51\n",
      "  RMSE: 79001.61\n",
      "  MAE:  61260.31\n",
      "\n",
      "📊 Test Set Performance:\n",
      "  MSE:  201771195997.07\n",
      "  RMSE: 449189.49\n",
      "  MAE:  357584.64\n"
     ]
    }
   ],
   "source": [
    "# 執行評估\n",
    "evaluate_performance(lstm_y_train.reshape(-1, 1), y_train_pred_scaled, scaler_y, dataset_name=\"Train Set\")\n",
    "evaluate_performance(lstm_y_test.reshape(-1, 1), y_test_pred_scaled, scaler_y, dataset_name=\"Test Set\")"
   ]
  },
  {
   "cell_type": "code",
   "execution_count": 48,
   "metadata": {},
   "outputs": [],
   "source": [
    "year_df = pd.read_csv(y_path) \n",
    "year_df=year_df['年份']"
   ]
  },
  {
   "cell_type": "code",
   "execution_count": 49,
   "metadata": {},
   "outputs": [
    {
     "data": {
      "image/png": "[encoded data removed]",
      "text/plain": [
       "<Figure size 1600x700 with 1 Axes>"
      ]
     },
     "metadata": {},
     "output_type": "display_data"
    }
   ],
   "source": [
    "plot_gdp_forecast(year_df,'LSTM - T3',y_true_lstm_train,y_pred_lstm_train,y_true_lstm_test,y_pred_lstm_test)"
   ]
  }
 ],
 "metadata": {
  "kernelspec": {
   "display_name": "base",
   "language": "python",
   "name": "python3"
  },
  "language_info": {
   "codemirror_mode": {
    "name": "ipython",
    "version": 3
   },
   "file_extension": ".py",
   "mimetype": "text/x-python",
   "name": "python",
   "nbconvert_exporter": "python",
   "pygments_lexer": "ipython3",
   "version": "3.11.7"
  }
 },
 "nbformat": 4,
 "nbformat_minor": 2
}
