{
 "cells": [
  {
   "cell_type": "markdown",
   "metadata": {},
   "source": [
    "# Data"
   ]
  },
  {
   "cell_type": "code",
   "execution_count": 2,
   "metadata": {},
   "outputs": [
    {
     "data": {
      "text/plain": [
       "True"
      ]
     },
     "execution_count": 2,
     "metadata": {},
     "output_type": "execute_result"
    }
   ],
   "source": [
    "from dotenv import load_dotenv\n",
    "load_dotenv()"
   ]
  },
  {
   "cell_type": "markdown",
   "metadata": {
    "vscode": {
     "languageId": "plaintext"
    }
   },
   "source": [
    "## 01 data loading"
   ]
  },
  {
   "cell_type": "code",
   "execution_count": 3,
   "metadata": {},
   "outputs": [],
   "source": [
    "import os\n",
    "import pandas as pd"
   ]
  },
  {
   "cell_type": "code",
   "execution_count": 4,
   "metadata": {},
   "outputs": [],
   "source": [
    "base_path = os.path.dirname(os.path.dirname(os.getcwd()))\n",
    "y_path = os.path.join(base_path,os.getenv(\"Y_LABEL\"))"
   ]
  },
  {
   "cell_type": "code",
   "execution_count": 5,
   "metadata": {},
   "outputs": [],
   "source": [
    "gdp_df = pd.read_csv(y_path)"
   ]
  },
  {
   "cell_type": "code",
   "execution_count": 6,
   "metadata": {},
   "outputs": [
    {
     "data": {
      "text/html": [
       "<div>\n",
       "<style scoped>\n",
       "    .dataframe tbody tr th:only-of-type {\n",
       "        vertical-align: middle;\n",
       "    }\n",
       "\n",
       "    .dataframe tbody tr th {\n",
       "        vertical-align: top;\n",
       "    }\n",
       "\n",
       "    .dataframe thead th {\n",
       "        text-align: right;\n",
       "    }\n",
       "</style>\n",
       "<table border=\"1\" class=\"dataframe\">\n",
       "  <thead>\n",
       "    <tr style=\"text-align: right;\">\n",
       "      <th></th>\n",
       "      <th>年份</th>\n",
       "      <th>季別</th>\n",
       "      <th>GDP</th>\n",
       "    </tr>\n",
       "  </thead>\n",
       "  <tbody>\n",
       "    <tr>\n",
       "      <th>0</th>\n",
       "      <td>1982</td>\n",
       "      <td>1</td>\n",
       "      <td>461774</td>\n",
       "    </tr>\n",
       "    <tr>\n",
       "      <th>1</th>\n",
       "      <td>1982</td>\n",
       "      <td>2</td>\n",
       "      <td>488234</td>\n",
       "    </tr>\n",
       "    <tr>\n",
       "      <th>2</th>\n",
       "      <td>1982</td>\n",
       "      <td>3</td>\n",
       "      <td>489504</td>\n",
       "    </tr>\n",
       "    <tr>\n",
       "      <th>3</th>\n",
       "      <td>1982</td>\n",
       "      <td>4</td>\n",
       "      <td>498511</td>\n",
       "    </tr>\n",
       "    <tr>\n",
       "      <th>4</th>\n",
       "      <td>1983</td>\n",
       "      <td>1</td>\n",
       "      <td>495361</td>\n",
       "    </tr>\n",
       "    <tr>\n",
       "      <th>...</th>\n",
       "      <td>...</td>\n",
       "      <td>...</td>\n",
       "      <td>...</td>\n",
       "    </tr>\n",
       "    <tr>\n",
       "      <th>163</th>\n",
       "      <td>2022</td>\n",
       "      <td>4</td>\n",
       "      <td>5896191</td>\n",
       "    </tr>\n",
       "    <tr>\n",
       "      <th>164</th>\n",
       "      <td>2023</td>\n",
       "      <td>1</td>\n",
       "      <td>5489013</td>\n",
       "    </tr>\n",
       "    <tr>\n",
       "      <th>165</th>\n",
       "      <td>2023</td>\n",
       "      <td>2</td>\n",
       "      <td>5710934</td>\n",
       "    </tr>\n",
       "    <tr>\n",
       "      <th>166</th>\n",
       "      <td>2023</td>\n",
       "      <td>3</td>\n",
       "      <td>6016101</td>\n",
       "    </tr>\n",
       "    <tr>\n",
       "      <th>167</th>\n",
       "      <td>2023</td>\n",
       "      <td>4</td>\n",
       "      <td>6380686</td>\n",
       "    </tr>\n",
       "  </tbody>\n",
       "</table>\n",
       "<p>168 rows × 3 columns</p>\n",
       "</div>"
      ],
      "text/plain": [
       "       年份  季別      GDP\n",
       "0    1982   1   461774\n",
       "1    1982   2   488234\n",
       "2    1982   3   489504\n",
       "3    1982   4   498511\n",
       "4    1983   1   495361\n",
       "..    ...  ..      ...\n",
       "163  2022   4  5896191\n",
       "164  2023   1  5489013\n",
       "165  2023   2  5710934\n",
       "166  2023   3  6016101\n",
       "167  2023   4  6380686\n",
       "\n",
       "[168 rows x 3 columns]"
      ]
     },
     "execution_count": 6,
     "metadata": {},
     "output_type": "execute_result"
    }
   ],
   "source": [
    "gdp_df"
   ]
  },
  {
   "cell_type": "code",
   "execution_count": 7,
   "metadata": {},
   "outputs": [],
   "source": [
    "gdp_df = gdp_df.drop(columns=['年份', '季別'])"
   ]
  },
  {
   "cell_type": "code",
   "execution_count": 8,
   "metadata": {},
   "outputs": [
    {
     "data": {
      "text/plain": [
       "168"
      ]
     },
     "execution_count": 8,
     "metadata": {},
     "output_type": "execute_result"
    }
   ],
   "source": [
    "len(gdp_df)"
   ]
  },
  {
   "cell_type": "code",
   "execution_count": 9,
   "metadata": {},
   "outputs": [],
   "source": [
    "gdp_df = gdp_df.iloc[5:].reset_index(drop=True)"
   ]
  },
  {
   "cell_type": "code",
   "execution_count": 10,
   "metadata": {},
   "outputs": [
    {
     "data": {
      "text/plain": [
       "163"
      ]
     },
     "execution_count": 10,
     "metadata": {},
     "output_type": "execute_result"
    }
   ],
   "source": [
    "len(gdp_df)"
   ]
  },
  {
   "cell_type": "code",
   "execution_count": 11,
   "metadata": {},
   "outputs": [
    {
     "data": {
      "text/html": [
       "<div>\n",
       "<style scoped>\n",
       "    .dataframe tbody tr th:only-of-type {\n",
       "        vertical-align: middle;\n",
       "    }\n",
       "\n",
       "    .dataframe tbody tr th {\n",
       "        vertical-align: top;\n",
       "    }\n",
       "\n",
       "    .dataframe thead th {\n",
       "        text-align: right;\n",
       "    }\n",
       "</style>\n",
       "<table border=\"1\" class=\"dataframe\">\n",
       "  <thead>\n",
       "    <tr style=\"text-align: right;\">\n",
       "      <th></th>\n",
       "      <th>GDP</th>\n",
       "    </tr>\n",
       "  </thead>\n",
       "  <tbody>\n",
       "    <tr>\n",
       "      <th>0</th>\n",
       "      <td>548158</td>\n",
       "    </tr>\n",
       "    <tr>\n",
       "      <th>1</th>\n",
       "      <td>554774</td>\n",
       "    </tr>\n",
       "    <tr>\n",
       "      <th>2</th>\n",
       "      <td>571153</td>\n",
       "    </tr>\n",
       "    <tr>\n",
       "      <th>3</th>\n",
       "      <td>562116</td>\n",
       "    </tr>\n",
       "    <tr>\n",
       "      <th>4</th>\n",
       "      <td>619704</td>\n",
       "    </tr>\n",
       "    <tr>\n",
       "      <th>...</th>\n",
       "      <td>...</td>\n",
       "    </tr>\n",
       "    <tr>\n",
       "      <th>158</th>\n",
       "      <td>5896191</td>\n",
       "    </tr>\n",
       "    <tr>\n",
       "      <th>159</th>\n",
       "      <td>5489013</td>\n",
       "    </tr>\n",
       "    <tr>\n",
       "      <th>160</th>\n",
       "      <td>5710934</td>\n",
       "    </tr>\n",
       "    <tr>\n",
       "      <th>161</th>\n",
       "      <td>6016101</td>\n",
       "    </tr>\n",
       "    <tr>\n",
       "      <th>162</th>\n",
       "      <td>6380686</td>\n",
       "    </tr>\n",
       "  </tbody>\n",
       "</table>\n",
       "<p>163 rows × 1 columns</p>\n",
       "</div>"
      ],
      "text/plain": [
       "         GDP\n",
       "0     548158\n",
       "1     554774\n",
       "2     571153\n",
       "3     562116\n",
       "4     619704\n",
       "..       ...\n",
       "158  5896191\n",
       "159  5489013\n",
       "160  5710934\n",
       "161  6016101\n",
       "162  6380686\n",
       "\n",
       "[163 rows x 1 columns]"
      ]
     },
     "execution_count": 11,
     "metadata": {},
     "output_type": "execute_result"
    }
   ],
   "source": [
    "gdp_df"
   ]
  },
  {
   "cell_type": "markdown",
   "metadata": {},
   "source": [
    "## 02 data spliting 80 & 20"
   ]
  },
  {
   "cell_type": "code",
   "execution_count": 12,
   "metadata": {},
   "outputs": [],
   "source": [
    "train_size = int(len(gdp_df) * 0.8)"
   ]
  },
  {
   "cell_type": "code",
   "execution_count": 13,
   "metadata": {},
   "outputs": [],
   "source": [
    "train_df, test_df = gdp_df[:train_size], gdp_df[train_size:]"
   ]
  },
  {
   "cell_type": "code",
   "execution_count": 14,
   "metadata": {},
   "outputs": [
    {
     "data": {
      "text/plain": [
       "130"
      ]
     },
     "execution_count": 14,
     "metadata": {},
     "output_type": "execute_result"
    }
   ],
   "source": [
    "len(train_df)"
   ]
  },
  {
   "cell_type": "code",
   "execution_count": 15,
   "metadata": {},
   "outputs": [
    {
     "data": {
      "text/html": [
       "<div>\n",
       "<style scoped>\n",
       "    .dataframe tbody tr th:only-of-type {\n",
       "        vertical-align: middle;\n",
       "    }\n",
       "\n",
       "    .dataframe tbody tr th {\n",
       "        vertical-align: top;\n",
       "    }\n",
       "\n",
       "    .dataframe thead th {\n",
       "        text-align: right;\n",
       "    }\n",
       "</style>\n",
       "<table border=\"1\" class=\"dataframe\">\n",
       "  <thead>\n",
       "    <tr style=\"text-align: right;\">\n",
       "      <th></th>\n",
       "      <th>GDP</th>\n",
       "    </tr>\n",
       "  </thead>\n",
       "  <tbody>\n",
       "    <tr>\n",
       "      <th>0</th>\n",
       "      <td>548158</td>\n",
       "    </tr>\n",
       "    <tr>\n",
       "      <th>1</th>\n",
       "      <td>554774</td>\n",
       "    </tr>\n",
       "    <tr>\n",
       "      <th>2</th>\n",
       "      <td>571153</td>\n",
       "    </tr>\n",
       "    <tr>\n",
       "      <th>3</th>\n",
       "      <td>562116</td>\n",
       "    </tr>\n",
       "    <tr>\n",
       "      <th>4</th>\n",
       "      <td>619704</td>\n",
       "    </tr>\n",
       "    <tr>\n",
       "      <th>...</th>\n",
       "      <td>...</td>\n",
       "    </tr>\n",
       "    <tr>\n",
       "      <th>125</th>\n",
       "      <td>4137478</td>\n",
       "    </tr>\n",
       "    <tr>\n",
       "      <th>126</th>\n",
       "      <td>4289807</td>\n",
       "    </tr>\n",
       "    <tr>\n",
       "      <th>127</th>\n",
       "      <td>4215980</td>\n",
       "    </tr>\n",
       "    <tr>\n",
       "      <th>128</th>\n",
       "      <td>4157711</td>\n",
       "    </tr>\n",
       "    <tr>\n",
       "      <th>129</th>\n",
       "      <td>4286649</td>\n",
       "    </tr>\n",
       "  </tbody>\n",
       "</table>\n",
       "<p>130 rows × 1 columns</p>\n",
       "</div>"
      ],
      "text/plain": [
       "         GDP\n",
       "0     548158\n",
       "1     554774\n",
       "2     571153\n",
       "3     562116\n",
       "4     619704\n",
       "..       ...\n",
       "125  4137478\n",
       "126  4289807\n",
       "127  4215980\n",
       "128  4157711\n",
       "129  4286649\n",
       "\n",
       "[130 rows x 1 columns]"
      ]
     },
     "execution_count": 15,
     "metadata": {},
     "output_type": "execute_result"
    }
   ],
   "source": [
    "train_df"
   ]
  },
  {
   "cell_type": "code",
   "execution_count": 16,
   "metadata": {},
   "outputs": [
    {
     "data": {
      "text/plain": [
       "33"
      ]
     },
     "execution_count": 16,
     "metadata": {},
     "output_type": "execute_result"
    }
   ],
   "source": [
    "len(test_df)"
   ]
  },
  {
   "cell_type": "code",
   "execution_count": 17,
   "metadata": {},
   "outputs": [
    {
     "data": {
      "text/html": [
       "<div>\n",
       "<style scoped>\n",
       "    .dataframe tbody tr th:only-of-type {\n",
       "        vertical-align: middle;\n",
       "    }\n",
       "\n",
       "    .dataframe tbody tr th {\n",
       "        vertical-align: top;\n",
       "    }\n",
       "\n",
       "    .dataframe thead th {\n",
       "        text-align: right;\n",
       "    }\n",
       "</style>\n",
       "<table border=\"1\" class=\"dataframe\">\n",
       "  <thead>\n",
       "    <tr style=\"text-align: right;\">\n",
       "      <th></th>\n",
       "      <th>GDP</th>\n",
       "    </tr>\n",
       "  </thead>\n",
       "  <tbody>\n",
       "    <tr>\n",
       "      <th>130</th>\n",
       "      <td>4394740</td>\n",
       "    </tr>\n",
       "    <tr>\n",
       "      <th>131</th>\n",
       "      <td>4318253</td>\n",
       "    </tr>\n",
       "    <tr>\n",
       "      <th>132</th>\n",
       "      <td>4258596</td>\n",
       "    </tr>\n",
       "    <tr>\n",
       "      <th>133</th>\n",
       "      <td>4393874</td>\n",
       "    </tr>\n",
       "    <tr>\n",
       "      <th>134</th>\n",
       "      <td>4584545</td>\n",
       "    </tr>\n",
       "    <tr>\n",
       "      <th>135</th>\n",
       "      <td>4386857</td>\n",
       "    </tr>\n",
       "    <tr>\n",
       "      <th>136</th>\n",
       "      <td>4336020</td>\n",
       "    </tr>\n",
       "    <tr>\n",
       "      <th>137</th>\n",
       "      <td>4577156</td>\n",
       "    </tr>\n",
       "    <tr>\n",
       "      <th>138</th>\n",
       "      <td>4712354</td>\n",
       "    </tr>\n",
       "    <tr>\n",
       "      <th>139</th>\n",
       "      <td>4484529</td>\n",
       "    </tr>\n",
       "    <tr>\n",
       "      <th>140</th>\n",
       "      <td>4501842</td>\n",
       "    </tr>\n",
       "    <tr>\n",
       "      <th>141</th>\n",
       "      <td>4621307</td>\n",
       "    </tr>\n",
       "    <tr>\n",
       "      <th>142</th>\n",
       "      <td>4812361</td>\n",
       "    </tr>\n",
       "    <tr>\n",
       "      <th>143</th>\n",
       "      <td>4576002</td>\n",
       "    </tr>\n",
       "    <tr>\n",
       "      <th>144</th>\n",
       "      <td>4629762</td>\n",
       "    </tr>\n",
       "    <tr>\n",
       "      <th>145</th>\n",
       "      <td>4774168</td>\n",
       "    </tr>\n",
       "    <tr>\n",
       "      <th>146</th>\n",
       "      <td>4994165</td>\n",
       "    </tr>\n",
       "    <tr>\n",
       "      <th>147</th>\n",
       "      <td>4735466</td>\n",
       "    </tr>\n",
       "    <tr>\n",
       "      <th>148</th>\n",
       "      <td>4772375</td>\n",
       "    </tr>\n",
       "    <tr>\n",
       "      <th>149</th>\n",
       "      <td>5103027</td>\n",
       "    </tr>\n",
       "    <tr>\n",
       "      <th>150</th>\n",
       "      <td>5412884</td>\n",
       "    </tr>\n",
       "    <tr>\n",
       "      <th>151</th>\n",
       "      <td>5296363</td>\n",
       "    </tr>\n",
       "    <tr>\n",
       "      <th>152</th>\n",
       "      <td>5279560</td>\n",
       "    </tr>\n",
       "    <tr>\n",
       "      <th>153</th>\n",
       "      <td>5388247</td>\n",
       "    </tr>\n",
       "    <tr>\n",
       "      <th>154</th>\n",
       "      <td>5809121</td>\n",
       "    </tr>\n",
       "    <tr>\n",
       "      <th>155</th>\n",
       "      <td>5647656</td>\n",
       "    </tr>\n",
       "    <tr>\n",
       "      <th>156</th>\n",
       "      <td>5558046</td>\n",
       "    </tr>\n",
       "    <tr>\n",
       "      <th>157</th>\n",
       "      <td>5718537</td>\n",
       "    </tr>\n",
       "    <tr>\n",
       "      <th>158</th>\n",
       "      <td>5896191</td>\n",
       "    </tr>\n",
       "    <tr>\n",
       "      <th>159</th>\n",
       "      <td>5489013</td>\n",
       "    </tr>\n",
       "    <tr>\n",
       "      <th>160</th>\n",
       "      <td>5710934</td>\n",
       "    </tr>\n",
       "    <tr>\n",
       "      <th>161</th>\n",
       "      <td>6016101</td>\n",
       "    </tr>\n",
       "    <tr>\n",
       "      <th>162</th>\n",
       "      <td>6380686</td>\n",
       "    </tr>\n",
       "  </tbody>\n",
       "</table>\n",
       "</div>"
      ],
      "text/plain": [
       "         GDP\n",
       "130  4394740\n",
       "131  4318253\n",
       "132  4258596\n",
       "133  4393874\n",
       "134  4584545\n",
       "135  4386857\n",
       "136  4336020\n",
       "137  4577156\n",
       "138  4712354\n",
       "139  4484529\n",
       "140  4501842\n",
       "141  4621307\n",
       "142  4812361\n",
       "143  4576002\n",
       "144  4629762\n",
       "145  4774168\n",
       "146  4994165\n",
       "147  4735466\n",
       "148  4772375\n",
       "149  5103027\n",
       "150  5412884\n",
       "151  5296363\n",
       "152  5279560\n",
       "153  5388247\n",
       "154  5809121\n",
       "155  5647656\n",
       "156  5558046\n",
       "157  5718537\n",
       "158  5896191\n",
       "159  5489013\n",
       "160  5710934\n",
       "161  6016101\n",
       "162  6380686"
      ]
     },
     "execution_count": 17,
     "metadata": {},
     "output_type": "execute_result"
    }
   ],
   "source": [
    "test_df"
   ]
  },
  {
   "cell_type": "markdown",
   "metadata": {},
   "source": [
    "# Model - ARIMA"
   ]
  },
  {
   "cell_type": "code",
   "execution_count": 18,
   "metadata": {},
   "outputs": [
    {
     "name": "stdout",
     "output_type": "stream",
     "text": [
      "Requirement already satisfied: bayesian-optimization in /opt/anaconda3/lib/python3.11/site-packages (2.0.3)\n",
      "Requirement already satisfied: colorama<0.5.0,>=0.4.6 in /opt/anaconda3/lib/python3.11/site-packages (from bayesian-optimization) (0.4.6)\n",
      "Requirement already satisfied: numpy>=1.25 in /opt/anaconda3/lib/python3.11/site-packages (from bayesian-optimization) (1.26.4)\n",
      "Requirement already satisfied: scikit-learn<2.0.0,>=1.0.0 in /opt/anaconda3/lib/python3.11/site-packages (from bayesian-optimization) (1.2.2)\n",
      "Requirement already satisfied: scipy<2.0.0,>=1.0.0 in /opt/anaconda3/lib/python3.11/site-packages (from bayesian-optimization) (1.11.4)\n",
      "Requirement already satisfied: joblib>=1.1.1 in /opt/anaconda3/lib/python3.11/site-packages (from scikit-learn<2.0.0,>=1.0.0->bayesian-optimization) (1.2.0)\n",
      "Requirement already satisfied: threadpoolctl>=2.0.0 in /opt/anaconda3/lib/python3.11/site-packages (from scikit-learn<2.0.0,>=1.0.0->bayesian-optimization) (2.2.0)\n",
      "Note: you may need to restart the kernel to use updated packages.\n"
     ]
    }
   ],
   "source": [
    "pip install bayesian-optimization"
   ]
  },
  {
   "cell_type": "markdown",
   "metadata": {},
   "source": [
    "- train 1983 Q2 to 2015 Q3 (130)\n",
    "- test 2015 Q4 to 2023 Q4 (33)"
   ]
  },
  {
   "cell_type": "code",
   "execution_count": 19,
   "metadata": {},
   "outputs": [],
   "source": [
    "from statsmodels.tsa.arima.model import ARIMA\n",
    "from sklearn.metrics import mean_squared_error, mean_absolute_error\n",
    "from pmdarima import auto_arima\n",
    "import numpy as np\n",
    "\n",
    "from bayes_opt import BayesianOptimization"
   ]
  },
  {
   "cell_type": "code",
   "execution_count": 20,
   "metadata": {},
   "outputs": [],
   "source": [
    "def eval_metrics(y_true, y_pred, name=\"\"):\n",
    "    mse = mean_squared_error(y_true, y_pred)\n",
    "    rmse = np.sqrt(mse)\n",
    "    mae = mean_absolute_error(y_true, y_pred)\n",
    "    print(f\"{name} ➤ MSE: {mse:.2f}, RMSE: {rmse:.2f}, MAE: {mae:.2f}\")\n",
    "    return mse, rmse, mae"
   ]
  },
  {
   "cell_type": "code",
   "execution_count": 21,
   "metadata": {},
   "outputs": [
    {
     "name": "stdout",
     "output_type": "stream",
     "text": [
      "Performing stepwise search to minimize aic\n",
      " ARIMA(2,1,2)(0,0,0)[0] intercept   : AIC=3231.660, Time=0.13 sec\n",
      " ARIMA(0,1,0)(0,0,0)[0] intercept   : AIC=3313.179, Time=0.00 sec\n",
      " ARIMA(1,1,0)(0,0,0)[0] intercept   : AIC=3314.368, Time=0.01 sec\n",
      " ARIMA(0,1,1)(0,0,0)[0] intercept   : AIC=3310.480, Time=0.01 sec\n",
      " ARIMA(0,1,0)(0,0,0)[0]             : AIC=3323.915, Time=0.00 sec\n",
      " ARIMA(1,1,2)(0,0,0)[0] intercept   : AIC=3296.682, Time=0.03 sec\n",
      " ARIMA(2,1,1)(0,0,0)[0] intercept   : AIC=3288.883, Time=0.03 sec\n",
      " ARIMA(3,1,2)(0,0,0)[0] intercept   : AIC=3228.167, Time=0.11 sec\n",
      " ARIMA(3,1,1)(0,0,0)[0] intercept   : AIC=3257.617, Time=0.04 sec\n",
      " ARIMA(4,1,2)(0,0,0)[0] intercept   : AIC=3223.174, Time=0.10 sec\n",
      " ARIMA(4,1,1)(0,0,0)[0] intercept   : AIC=3239.549, Time=0.04 sec\n",
      " ARIMA(5,1,2)(0,0,0)[0] intercept   : AIC=inf, Time=0.30 sec\n",
      " ARIMA(4,1,3)(0,0,0)[0] intercept   : AIC=3223.630, Time=0.11 sec\n",
      " ARIMA(3,1,3)(0,0,0)[0] intercept   : AIC=3222.797, Time=0.17 sec\n",
      " ARIMA(2,1,3)(0,0,0)[0] intercept   : AIC=3233.405, Time=0.08 sec\n",
      " ARIMA(3,1,4)(0,0,0)[0] intercept   : AIC=3219.599, Time=0.20 sec\n",
      " ARIMA(2,1,4)(0,0,0)[0] intercept   : AIC=3227.877, Time=0.09 sec\n",
      " ARIMA(4,1,4)(0,0,0)[0] intercept   : AIC=3220.356, Time=0.23 sec\n",
      " ARIMA(3,1,5)(0,0,0)[0] intercept   : AIC=3221.997, Time=0.30 sec\n",
      " ARIMA(2,1,5)(0,0,0)[0] intercept   : AIC=3224.022, Time=0.18 sec\n",
      " ARIMA(4,1,5)(0,0,0)[0] intercept   : AIC=3267.465, Time=0.33 sec\n",
      " ARIMA(3,1,4)(0,0,0)[0]             : AIC=3251.082, Time=0.19 sec\n",
      "\n",
      "Best model:  ARIMA(3,1,4)(0,0,0)[0] intercept\n",
      "Total fit time: 2.702 seconds\n",
      "自動選出的最適參數： (3, 1, 4)\n"
     ]
    }
   ],
   "source": [
    "auto_model = auto_arima(\n",
    "    train_df['GDP'],\n",
    "    seasonal=False,    # 因為通常GDP年資料不一定有季節性，若有季節性要 seasonal=True\n",
    "    stepwise=True,     # 使用快速的stepwise方法\n",
    "    trace=True         # 印出每一步測試的結果，幫助你觀察\n",
    ")\n",
    "\n",
    "print('自動選出的最適參數：', auto_model.order)  # 印出最好的 (p,d,q)"
   ]
  },
  {
   "cell_type": "code",
   "execution_count": 74,
   "metadata": {},
   "outputs": [
    {
     "name": "stdout",
     "output_type": "stream",
     "text": [
      "                               SARIMAX Results                                \n",
      "==============================================================================\n",
      "Dep. Variable:                    GDP   No. Observations:                  130\n",
      "Model:                 ARIMA(4, 3, 2)   Log Likelihood               -1600.739\n",
      "Date:                Tue, 29 Apr 2025   AIC                           3215.477\n",
      "Time:                        17:32:05   BIC                           3235.387\n",
      "Sample:                             0   HQIC                          3223.566\n",
      "                                - 130                                         \n",
      "Covariance Type:                  opg                                         \n",
      "==============================================================================\n",
      "                 coef    std err          z      P>|z|      [0.025      0.975]\n",
      "------------------------------------------------------------------------------\n",
      "ar.L1         -1.7270      0.091    -18.884      0.000      -1.906      -1.548\n",
      "ar.L2         -1.5627      0.110    -14.196      0.000      -1.779      -1.347\n",
      "ar.L3         -1.4681      0.098    -14.963      0.000      -1.660      -1.276\n",
      "ar.L4         -0.6336      0.077     -8.261      0.000      -0.784      -0.483\n",
      "ma.L1         -0.0103      0.127     -0.081      0.935      -0.260       0.239\n",
      "ma.L2         -0.9897      0.123     -8.054      0.000      -1.230      -0.749\n",
      "sigma2      5.701e+09   3.82e-11   1.49e+20      0.000     5.7e+09     5.7e+09\n",
      "===================================================================================\n",
      "Ljung-Box (L1) (Q):                   0.04   Jarque-Bera (JB):                51.00\n",
      "Prob(Q):                              0.83   Prob(JB):                         0.00\n",
      "Heteroskedasticity (H):               3.42   Skew:                            -0.84\n",
      "Prob(H) (two-sided):                  0.00   Kurtosis:                         5.61\n",
      "===================================================================================\n",
      "\n",
      "Warnings:\n",
      "[1] Covariance matrix calculated using the outer product of gradients (complex-step).\n",
      "[2] Covariance matrix is singular or near-singular, with condition number 3.48e+35. Standard errors may be unstable.\n"
     ]
    },
    {
     "name": "stderr",
     "output_type": "stream",
     "text": [
      "/opt/anaconda3/lib/python3.11/site-packages/statsmodels/base/model.py:607: ConvergenceWarning: Maximum Likelihood optimization failed to converge. Check mle_retvals\n",
      "  warnings.warn(\"Maximum Likelihood optimization failed to \"\n"
     ]
    }
   ],
   "source": [
    "best_order = auto_model.order\n",
    "model = ARIMA(train_df['GDP'], order=(4,3,2))\n",
    "model_fit = model.fit()\n",
    "\n",
    "print(model_fit.summary())"
   ]
  },
  {
   "cell_type": "code",
   "execution_count": 75,
   "metadata": {},
   "outputs": [
    {
     "name": "stderr",
     "output_type": "stream",
     "text": [
      "/opt/anaconda3/lib/python3.11/site-packages/statsmodels/tsa/statespace/representation.py:374: FutureWarning: Unknown keyword arguments: dict_keys(['typ']).Passing unknown keyword arguments will raise a TypeError beginning in version 0.15.\n",
      "  warnings.warn(msg, FutureWarning)\n"
     ]
    }
   ],
   "source": [
    "# 訓練集\n",
    "train_pred = model_fit.predict(start=1, end=len(train_df), typ='levels')  # typ='levels'回到原始尺度\n",
    "\n",
    "# 測試集\n",
    "n_test = len(test_df)\n",
    "test_pred = model_fit.forecast(steps=n_test)"
   ]
  },
  {
   "cell_type": "code",
   "execution_count": 76,
   "metadata": {},
   "outputs": [
    {
     "name": "stdout",
     "output_type": "stream",
     "text": [
      "\n",
      "📊 訓練集表現：\n",
      " ➤ MSE: 12138431774.01, RMSE: 110174.55, MAE: 64775.48\n",
      "\n",
      "📊 測試集表現：\n",
      " ➤ MSE: 178889003584.90, RMSE: 422952.72, MAE: 298319.31\n"
     ]
    },
    {
     "data": {
      "text/plain": [
       "(178889003584.90363, 422952.7202713131, 298319.30953258503)"
      ]
     },
     "execution_count": 76,
     "metadata": {},
     "output_type": "execute_result"
    }
   ],
   "source": [
    "# 訓練集\n",
    "print(\"\\n📊 訓練集表現：\")\n",
    "eval_metrics(train_df,train_pred)\n",
    "\n",
    "# 測試集\n",
    "print(\"\\n📊 測試集表現：\")\n",
    "eval_metrics(test_df,test_pred)\n"
   ]
  },
  {
   "cell_type": "code",
   "execution_count": 96,
   "metadata": {},
   "outputs": [],
   "source": [
    "import matplotlib.pyplot as plt\n",
    "\n",
    "def plot_gdp_forecast(year,name,train_actual, train_pred, test_actual, test_pred):\n",
    "    plt.figure(figsize=(16, 7))\n",
    "\n",
    "    # 畫出四條線\n",
    "    plt.plot(year.iloc[5:135],train_actual, label='Train Actual', color='blue', linestyle='-')\n",
    "    plt.plot(year.iloc[5:135],train_pred, label='Train Predicted', color='cyan', linestyle='--')\n",
    "    plt.plot(year.iloc[135:],test_actual, label='Test Actual', color='green', linestyle='-')\n",
    "    plt.plot(year.iloc[135:],test_pred, label='Test Predicted', color='orange', linestyle='--')\n",
    "\n",
    "    # 標題與座標軸\n",
    "    plt.title(f'GDP Forecast with {name}', fontsize=16)\n",
    "    plt.xlabel('Time', fontsize=14)\n",
    "    plt.ylabel('GDP Value', fontsize=14)\n",
    "\n",
    "\n",
    "\n",
    "    plt.xticks(year[::15],rotation=45)\n",
    "    \n",
    "    # 顯示圖例\n",
    "    plt.legend()\n",
    "\n",
    "    # 顯示網格\n",
    "    plt.grid(True, linestyle='--', alpha=0.7)\n",
    "\n",
    "    # 顯示圖片\n",
    "    plt.show()"
   ]
  },
  {
   "cell_type": "code",
   "execution_count": 94,
   "metadata": {},
   "outputs": [],
   "source": [
    "y_df=pd.read_csv(y_path)"
   ]
  },
  {
   "cell_type": "code",
   "execution_count": 97,
   "metadata": {},
   "outputs": [
    {
     "data": {
      "image/png": "[encoded data removed]",
      "text/plain": [
       "<Figure size 1600x700 with 1 Axes>"
      ]
     },
     "metadata": {},
     "output_type": "display_data"
    }
   ],
   "source": [
    "plot_gdp_forecast(y_df['年份'],'ARIMA',train_df,train_pred,test_df,test_pred)"
   ]
  }
 ],
 "metadata": {
  "kernelspec": {
   "display_name": "base",
   "language": "python",
   "name": "python3"
  },
  "language_info": {
   "codemirror_mode": {
    "name": "ipython",
    "version": 3
   },
   "file_extension": ".py",
   "mimetype": "text/x-python",
   "name": "python",
   "nbconvert_exporter": "python",
   "pygments_lexer": "ipython3",
   "version": "3.11.7"
  }
 },
 "nbformat": 4,
 "nbformat_minor": 2
}
