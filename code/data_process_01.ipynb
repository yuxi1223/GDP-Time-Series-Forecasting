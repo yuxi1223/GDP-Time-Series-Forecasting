{
 "cells": [
  {
   "cell_type": "markdown",
   "metadata": {
    "vscode": {
     "languageId": "plaintext"
    }
   },
   "source": [
    "# Data Transformation"
   ]
  },
  {
   "cell_type": "code",
   "execution_count": 15,
   "metadata": {},
   "outputs": [
    {
     "data": {
      "text/plain": [
       "True"
      ]
     },
     "execution_count": 15,
     "metadata": {},
     "output_type": "execute_result"
    }
   ],
   "source": [
    "from dotenv import load_dotenv\n",
    "load_dotenv()"
   ]
  },
  {
   "cell_type": "code",
   "execution_count": 16,
   "metadata": {},
   "outputs": [],
   "source": [
    "import os\n",
    "import pandas as pd\n",
    "\n",
    "base_path = os.path.dirname(os.getcwd())\n",
    "file_path = os.path.join(base_path,os.getenv(\"RAWDATA\"))\n",
    "quarter_path = os.path.join(base_path,os.getenv(\"Q_DATA\"))\n",
    "\n",
    "sheet_name = \"月\" \n",
    "\n",
    "df = pd.read_excel(file_path, sheet_name=sheet_name)\n",
    "data_set={}\n",
    "table_names=df.columns\n",
    "for num in range(1,len(table_names)):\n",
    "    avg_lsit=[]\n",
    "    for data_num in range(0,len(df[table_names[num]]),3):\n",
    "        data_avg=df[table_names[num]][data_num]+df[table_names[num]][data_num+1]+df[table_names[num]][data_num+2]/3\n",
    "        avg_lsit.append(data_avg)\n",
    "    data_set[table_names[num]]=avg_lsit\n",
    "\n",
    "df_gdp = pd.DataFrame.from_dict(data_set)\n",
    "df_gdp.to_csv(quarter_path, index=False, float_format='%.2f')  "
   ]
  },
  {
   "cell_type": "markdown",
   "metadata": {},
   "source": [
    "# Data Consolidation"
   ]
  },
  {
   "cell_type": "code",
   "execution_count": 17,
   "metadata": {},
   "outputs": [
    {
     "name": "stdout",
     "output_type": "stream",
     "text": [
      "       年份     GDP  平均匯率(元/美元)  國內投資毛額    投資率  工業生產指數  製造業銷售量指數  \\\n",
      "0  71年第1季  461774       37.91  102048  22.10   27.57     30.02   \n",
      "1  71年第2季  488234       38.78  143589  29.41   30.35     33.54   \n",
      "2  71年第3季  489504       39.65  117934  24.09   30.06     32.76   \n",
      "3  71年第4季  498511       40.15  144192  28.92   29.86     32.70   \n",
      "4  72年第1季  495361       39.97   99632  20.11   29.28     31.80   \n",
      "\n",
      "   電力(企業)總用電量(十億度)  進口物價基本分類指數  出口物價基本分類指數     進口貿易總值     出口貿易總值  \\\n",
      "0             4.85      231.63      311.21  147089.00  135223.67   \n",
      "1             5.46      231.87      315.17  172059.67  156827.00   \n",
      "2             5.81      234.50      317.22  181502.67  148698.00   \n",
      "3             5.66      234.53      315.38  168145.00  135928.00   \n",
      "4             5.21      227.62      309.54  153110.00  131671.00   \n",
      "\n",
      "   機械及電機設備進口值(十億元)  消費者物價指數   失業率  就業人數（千人）  總人口數(千人)  景氣領先指標綜合指數(點)  \\\n",
      "0              0.0   129.59  3.42  15826.00  42389.67          28.72   \n",
      "1              0.0   130.53  4.12  15577.33  42570.33          28.81   \n",
      "2              0.0   133.10  5.75  16000.33  42742.00          28.50   \n",
      "3              0.0   132.11  6.41  16146.33  42952.67          29.05   \n",
      "4              0.0   132.95  7.15  16260.67  43145.67          31.46   \n",
      "\n",
      "   景氣同時指標綜合指數(點)  \n",
      "0          30.21  \n",
      "1          29.00  \n",
      "2          28.87  \n",
      "3          29.58  \n",
      "4          30.78  \n"
     ]
    }
   ],
   "source": [
    "final_path = os.path.join(base_path,os.getenv(\"TRAINDATA\"))\n",
    "sheet_name = \"季\" \n",
    "\n",
    "df = pd.read_excel(file_path, sheet_name=sheet_name)\n",
    "df_t=pd.read_csv(quarter_path)\n",
    "\n",
    "if len(df) == len(df_t):\n",
    "    df_merged = pd.concat([df, df_t], axis=1)  \n",
    "    print(df_merged.head())  \n",
    "else:\n",
    "    print(\"兩個 DataFrame 的行數不同，無法合併\")\n",
    "\n",
    "df_merged.to_csv(final_path, index=False, float_format='%.2f')  "
   ]
  },
  {
   "cell_type": "markdown",
   "metadata": {},
   "source": [
    "# X & Y dataset"
   ]
  },
  {
   "cell_type": "code",
   "execution_count": 18,
   "metadata": {},
   "outputs": [],
   "source": [
    "# 將「年份」欄位拆解成「年份」與「季別」\n",
    "df_merged[['年份', '季別']] = df_merged['年份'].str.extract(r'(?P<年份>\\d+)年第(?P<季別>\\d)季')\n",
    "\n",
    "# 將年份轉成西元（例如民國71年 → 西元1982年）\n",
    "df_merged['年份'] = df_merged['年份'].astype(int) + 1911\n",
    "df_merged['季別'] = df_merged['季別'].astype(int)\n",
    "\n",
    "# 調整欄位順序：把 年份 和 季別 放在前面\n",
    "df_cols = ['年份', '季別'] + [col for col in df_merged.columns if col not in ['年份', '季別', 'GDP']]\n",
    "df_merged = df_merged[['年份', '季別', 'GDP'] + df_cols[2:]]\n",
    "\n",
    "# 儲存 y.csv（只有 年份、季別、GDP）\n",
    "df_merged[['年份', '季別', 'GDP']].to_csv(\"gdp_dataset_y.csv\", index=False)\n",
    "\n",
    "# 儲存 x.csv（年份、季別 + 其他欄位，不含 GDP）\n",
    "df_merged.drop(columns=['GDP']).to_csv(\"gdp_dataset_x.csv\", index=False)\n"
   ]
  },
  {
   "cell_type": "markdown",
   "metadata": {},
   "source": [
    "# Model"
   ]
  },
  {
   "cell_type": "markdown",
   "metadata": {},
   "source": [
    "## ARIMA"
   ]
  },
  {
   "cell_type": "code",
   "execution_count": 19,
   "metadata": {},
   "outputs": [
    {
     "name": "stdout",
     "output_type": "stream",
     "text": [
      "Requirement already satisfied: statsmodels in /opt/anaconda3/lib/python3.11/site-packages (0.14.0)\n",
      "Requirement already satisfied: numpy>=1.18 in /opt/anaconda3/lib/python3.11/site-packages (from statsmodels) (1.26.4)\n",
      "Requirement already satisfied: scipy!=1.9.2,>=1.4 in /opt/anaconda3/lib/python3.11/site-packages (from statsmodels) (1.11.4)\n",
      "Requirement already satisfied: pandas>=1.0 in /opt/anaconda3/lib/python3.11/site-packages (from statsmodels) (2.1.4)\n",
      "Requirement already satisfied: patsy>=0.5.2 in /opt/anaconda3/lib/python3.11/site-packages (from statsmodels) (0.5.3)\n",
      "Requirement already satisfied: packaging>=21.3 in /opt/anaconda3/lib/python3.11/site-packages (from statsmodels) (24.1)\n",
      "Requirement already satisfied: python-dateutil>=2.8.2 in /opt/anaconda3/lib/python3.11/site-packages (from pandas>=1.0->statsmodels) (2.8.2)\n",
      "Requirement already satisfied: pytz>=2020.1 in /opt/anaconda3/lib/python3.11/site-packages (from pandas>=1.0->statsmodels) (2023.3.post1)\n",
      "Requirement already satisfied: tzdata>=2022.1 in /opt/anaconda3/lib/python3.11/site-packages (from pandas>=1.0->statsmodels) (2023.3)\n",
      "Requirement already satisfied: six in /opt/anaconda3/lib/python3.11/site-packages (from patsy>=0.5.2->statsmodels) (1.16.0)\n",
      "Note: you may need to restart the kernel to use updated packages.\n"
     ]
    }
   ],
   "source": [
    "pip install statsmodels"
   ]
  },
  {
   "cell_type": "code",
   "execution_count": 20,
   "metadata": {},
   "outputs": [
    {
     "name": "stdout",
     "output_type": "stream",
     "text": [
      "Requirement already satisfied: matplotlib in /opt/anaconda3/lib/python3.11/site-packages (3.8.0)\n",
      "Requirement already satisfied: contourpy>=1.0.1 in /opt/anaconda3/lib/python3.11/site-packages (from matplotlib) (1.2.0)\n",
      "Requirement already satisfied: cycler>=0.10 in /opt/anaconda3/lib/python3.11/site-packages (from matplotlib) (0.11.0)\n",
      "Requirement already satisfied: fonttools>=4.22.0 in /opt/anaconda3/lib/python3.11/site-packages (from matplotlib) (4.25.0)\n",
      "Requirement already satisfied: kiwisolver>=1.0.1 in /opt/anaconda3/lib/python3.11/site-packages (from matplotlib) (1.4.4)\n",
      "Requirement already satisfied: numpy<2,>=1.21 in /opt/anaconda3/lib/python3.11/site-packages (from matplotlib) (1.26.4)\n",
      "Requirement already satisfied: packaging>=20.0 in /opt/anaconda3/lib/python3.11/site-packages (from matplotlib) (24.1)\n",
      "Requirement already satisfied: pillow>=6.2.0 in /opt/anaconda3/lib/python3.11/site-packages (from matplotlib) (10.2.0)\n",
      "Requirement already satisfied: pyparsing>=2.3.1 in /opt/anaconda3/lib/python3.11/site-packages (from matplotlib) (3.0.9)\n",
      "Requirement already satisfied: python-dateutil>=2.7 in /opt/anaconda3/lib/python3.11/site-packages (from matplotlib) (2.8.2)\n",
      "Requirement already satisfied: six>=1.5 in /opt/anaconda3/lib/python3.11/site-packages (from python-dateutil>=2.7->matplotlib) (1.16.0)\n",
      "Note: you may need to restart the kernel to use updated packages.\n"
     ]
    }
   ],
   "source": [
    "pip install matplotlib"
   ]
  },
  {
   "cell_type": "code",
   "execution_count": 21,
   "metadata": {},
   "outputs": [],
   "source": [
    "arima_y_df = pd.read_csv(\"../code/gdp_dataset_y.csv\")\n",
    "\n",
    "# 時間切割\n",
    "arima_train_y = arima_y_df[arima_y_df['年份'] <= 2016].copy()\n",
    "arima_test_y = arima_y_df[arima_y_df['年份'] >= 2017].copy()"
   ]
  },
  {
   "cell_type": "code",
   "execution_count": null,
   "metadata": {},
   "outputs": [
    {
     "name": "stderr",
     "output_type": "stream",
     "text": [
      "/opt/anaconda3/lib/python3.11/site-packages/statsmodels/tsa/base/tsa_model.py:473: ValueWarning: No frequency information was provided, so inferred frequency QS-DEC will be used.\n",
      "  self._init_dates(dates, freq)\n",
      "/opt/anaconda3/lib/python3.11/site-packages/statsmodels/tsa/base/tsa_model.py:473: ValueWarning: No frequency information was provided, so inferred frequency QS-DEC will be used.\n",
      "  self._init_dates(dates, freq)\n",
      "/opt/anaconda3/lib/python3.11/site-packages/statsmodels/tsa/base/tsa_model.py:473: ValueWarning: No frequency information was provided, so inferred frequency QS-DEC will be used.\n",
      "  self._init_dates(dates, freq)\n",
      "/opt/anaconda3/lib/python3.11/site-packages/IPython/core/pylabtools.py:152: UserWarning: Glyph 27169 (\\N{CJK UNIFIED IDEOGRAPH-6A21}) missing from current font.\n",
      "  fig.canvas.print_figure(bytes_io, **kw)\n",
      "/opt/anaconda3/lib/python3.11/site-packages/IPython/core/pylabtools.py:152: UserWarning: Glyph 22411 (\\N{CJK UNIFIED IDEOGRAPH-578B}) missing from current font.\n",
      "  fig.canvas.print_figure(bytes_io, **kw)\n",
      "/opt/anaconda3/lib/python3.11/site-packages/IPython/core/pylabtools.py:152: UserWarning: Glyph 38928 (\\N{CJK UNIFIED IDEOGRAPH-9810}) missing from current font.\n",
      "  fig.canvas.print_figure(bytes_io, **kw)\n",
      "/opt/anaconda3/lib/python3.11/site-packages/IPython/core/pylabtools.py:152: UserWarning: Glyph 28204 (\\N{CJK UNIFIED IDEOGRAPH-6E2C}) missing from current font.\n",
      "  fig.canvas.print_figure(bytes_io, **kw)\n",
      "/opt/anaconda3/lib/python3.11/site-packages/IPython/core/pylabtools.py:152: UserWarning: Glyph 26178 (\\N{CJK UNIFIED IDEOGRAPH-6642}) missing from current font.\n",
      "  fig.canvas.print_figure(bytes_io, **kw)\n",
      "/opt/anaconda3/lib/python3.11/site-packages/IPython/core/pylabtools.py:152: UserWarning: Glyph 38291 (\\N{CJK UNIFIED IDEOGRAPH-9593}) missing from current font.\n",
      "  fig.canvas.print_figure(bytes_io, **kw)\n",
      "/opt/anaconda3/lib/python3.11/site-packages/IPython/core/pylabtools.py:152: UserWarning: Glyph 35347 (\\N{CJK UNIFIED IDEOGRAPH-8A13}) missing from current font.\n",
      "  fig.canvas.print_figure(bytes_io, **kw)\n",
      "/opt/anaconda3/lib/python3.11/site-packages/IPython/core/pylabtools.py:152: UserWarning: Glyph 32244 (\\N{CJK UNIFIED IDEOGRAPH-7DF4}) missing from current font.\n",
      "  fig.canvas.print_figure(bytes_io, **kw)\n",
      "/opt/anaconda3/lib/python3.11/site-packages/IPython/core/pylabtools.py:152: UserWarning: Glyph 36039 (\\N{CJK UNIFIED IDEOGRAPH-8CC7}) missing from current font.\n",
      "  fig.canvas.print_figure(bytes_io, **kw)\n",
      "/opt/anaconda3/lib/python3.11/site-packages/IPython/core/pylabtools.py:152: UserWarning: Glyph 26009 (\\N{CJK UNIFIED IDEOGRAPH-6599}) missing from current font.\n",
      "  fig.canvas.print_figure(bytes_io, **kw)\n",
      "/opt/anaconda3/lib/python3.11/site-packages/IPython/core/pylabtools.py:152: UserWarning: Glyph 23526 (\\N{CJK UNIFIED IDEOGRAPH-5BE6}) missing from current font.\n",
      "  fig.canvas.print_figure(bytes_io, **kw)\n",
      "/opt/anaconda3/lib/python3.11/site-packages/IPython/core/pylabtools.py:152: UserWarning: Glyph 38555 (\\N{CJK UNIFIED IDEOGRAPH-969B}) missing from current font.\n",
      "  fig.canvas.print_figure(bytes_io, **kw)\n",
      "/opt/anaconda3/lib/python3.11/site-packages/IPython/core/pylabtools.py:152: UserWarning: Glyph 35430 (\\N{CJK UNIFIED IDEOGRAPH-8A66}) missing from current font.\n",
      "  fig.canvas.print_figure(bytes_io, **kw)\n"
     ]
    },
    {
     "data": {
      "image/png": "[encoded data removed]",
      "text/plain": [
       "<Figure size 1200x600 with 1 Axes>"
      ]
     },
     "metadata": {},
     "output_type": "display_data"
    }
   ],
   "source": [
    "from statsmodels.tsa.arima.model import ARIMA\n",
    "import matplotlib.pyplot as plt\n",
    "\n",
    "\n",
    "# 將年份與季別合併成 datetime 格式\n",
    "def quarter_to_date(row):\n",
    "    month = {1: 3, 2: 6, 3: 9, 4: 12}[row['季別']]\n",
    "    return pd.Timestamp(year=row['年份'], month=month, day=1)\n",
    "\n",
    "arima_train_y['日期'] = arima_train_y.apply(quarter_to_date, axis=1)\n",
    "arima_test_y['日期'] = arima_test_y.apply(quarter_to_date, axis=1)\n",
    "\n",
    "# 設定 index 為時間（讓它成為時間序列）\n",
    "arima_train_y.set_index('日期', inplace=True)\n",
    "arima_test_y.set_index('日期', inplace=True)\n",
    "\n",
    "# 擷取訓練用的 GDP 時間序列\n",
    "train_series = arima_train_y['GDP']\n",
    "\n",
    "# 訓練 ARIMA 模型（這裡用 ARIMA(1,1,1) 作範例，可用 AIC/BIC 選最佳參數）\n",
    "model = ARIMA(train_series, order=(1, 1, 1))\n",
    "fitted_model = model.fit()\n",
    "\n",
    "# 預測未來 n 筆資料（季為單位）\n",
    "forecast_steps = len(arima_test_y)\n",
    "forecast = fitted_model.forecast(steps=forecast_steps)\n",
    "\n",
    "# 畫圖看一下效果\n",
    "plt.figure(figsize=(12, 6))\n",
    "plt.plot(train_series, label='訓練資料')\n",
    "plt.plot(arima_test_y.index, test_y['GDP'], label='實際測試資料', color='green')\n",
    "plt.plot(arima_test_y.index, forecast, label='ARIMA 預測', color='red')\n",
    "plt.legend()\n",
    "plt.title('ARIMA 模型預測 GDP')\n",
    "plt.xlabel('時間')\n",
    "plt.ylabel('GDP')\n",
    "plt.grid(True)\n",
    "plt.show()\n"
   ]
  },
  {
   "cell_type": "code",
   "execution_count": 23,
   "metadata": {},
   "outputs": [
    {
     "name": "stdout",
     "output_type": "stream",
     "text": [
      "Collecting sklearn\n",
      "  Using cached sklearn-0.0.post12.tar.gz (2.6 kB)\n",
      "  Preparing metadata (setup.py) ... \u001b[?25lerror\n",
      "  \u001b[1;31merror\u001b[0m: \u001b[1msubprocess-exited-with-error\u001b[0m\n",
      "  \n",
      "  \u001b[31m×\u001b[0m \u001b[32mpython setup.py egg_info\u001b[0m did not run successfully.\n",
      "  \u001b[31m│\u001b[0m exit code: \u001b[1;36m1\u001b[0m\n",
      "  \u001b[31m╰─>\u001b[0m \u001b[31m[15 lines of output]\u001b[0m\n",
      "  \u001b[31m   \u001b[0m The 'sklearn' PyPI package is deprecated, use 'scikit-learn'\n",
      "  \u001b[31m   \u001b[0m rather than 'sklearn' for pip commands.\n",
      "  \u001b[31m   \u001b[0m \n",
      "  \u001b[31m   \u001b[0m Here is how to fix this error in the main use cases:\n",
      "  \u001b[31m   \u001b[0m - use 'pip install scikit-learn' rather than 'pip install sklearn'\n",
      "  \u001b[31m   \u001b[0m - replace 'sklearn' by 'scikit-learn' in your pip requirements files\n",
      "  \u001b[31m   \u001b[0m   (requirements.txt, setup.py, setup.cfg, Pipfile, etc ...)\n",
      "  \u001b[31m   \u001b[0m - if the 'sklearn' package is used by one of your dependencies,\n",
      "  \u001b[31m   \u001b[0m   it would be great if you take some time to track which package uses\n",
      "  \u001b[31m   \u001b[0m   'sklearn' instead of 'scikit-learn' and report it to their issue tracker\n",
      "  \u001b[31m   \u001b[0m - as a last resort, set the environment variable\n",
      "  \u001b[31m   \u001b[0m   SKLEARN_ALLOW_DEPRECATED_SKLEARN_PACKAGE_INSTALL=True to avoid this error\n",
      "  \u001b[31m   \u001b[0m \n",
      "  \u001b[31m   \u001b[0m More information is available at\n",
      "  \u001b[31m   \u001b[0m https://github.com/scikit-learn/sklearn-pypi-package\n",
      "  \u001b[31m   \u001b[0m \u001b[31m[end of output]\u001b[0m\n",
      "  \n",
      "  \u001b[1;35mnote\u001b[0m: This error originates from a subprocess, and is likely not a problem with pip.\n",
      "\u001b[?25h\u001b[1;31merror\u001b[0m: \u001b[1mmetadata-generation-failed\u001b[0m\n",
      "\n",
      "\u001b[31m×\u001b[0m Encountered error while generating package metadata.\n",
      "\u001b[31m╰─>\u001b[0m See above for output.\n",
      "\n",
      "\u001b[1;35mnote\u001b[0m: This is an issue with the package mentioned above, not pip.\n",
      "\u001b[1;36mhint\u001b[0m: See above for details.\n",
      "Note: you may need to restart the kernel to use updated packages.\n"
     ]
    }
   ],
   "source": [
    "pip install sklearn"
   ]
  },
  {
   "cell_type": "code",
   "execution_count": 24,
   "metadata": {},
   "outputs": [
    {
     "name": "stdout",
     "output_type": "stream",
     "text": [
      "Requirement already satisfied: numpy in /opt/anaconda3/lib/python3.11/site-packages (1.26.4)\n",
      "Note: you may need to restart the kernel to use updated packages.\n"
     ]
    }
   ],
   "source": [
    "pip install numpy"
   ]
  },
  {
   "cell_type": "code",
   "execution_count": 28,
   "metadata": {},
   "outputs": [
    {
     "name": "stdout",
     "output_type": "stream",
     "text": [
      "🔍 測試集誤差:\n",
      "  MSE:  591369179947.11\n",
      "  RMSE: 769005.32\n",
      "  MAE:  582768.63\n",
      "\n",
      "📘 訓練集誤差:\n",
      "  MSE:  10116444032.29\n",
      "  RMSE: 100580.54\n",
      "  MAE:  73203.37\n"
     ]
    }
   ],
   "source": [
    "from sklearn.metrics import mean_squared_error, mean_absolute_error\n",
    "import numpy as np\n",
    "\n",
    "\n",
    "# 預測結果轉為 Series，對齊測試集 index\n",
    "test_pred = pd.Series(forecast, index=arima_test_y.index)\n",
    "test_actual = arima_test_y['GDP']\n",
    "\n",
    "# 訓練集預測值與實際值對齊\n",
    "train_actual = train_series\n",
    "train_pred = fitted_model.fittedvalues\n",
    "\n",
    "# 使用 align 確保 index 對齊\n",
    "train_actual_aligned, train_pred_aligned = train_actual.align(train_pred, join='inner')\n",
    "\n",
    "# === 測試集誤差指標 ===\n",
    "test_mse = mean_squared_error(test_actual, test_pred)\n",
    "test_rmse = np.sqrt(test_mse)\n",
    "test_mae = mean_absolute_error(test_actual, test_pred)\n",
    "\n",
    "# === 訓練集誤差指標 ===\n",
    "train_mse = mean_squared_error(train_actual_aligned, train_pred_aligned)\n",
    "train_rmse = np.sqrt(train_mse)\n",
    "train_mae = mean_absolute_error(train_actual_aligned, train_pred_aligned)\n",
    "\n",
    "# 顯示結果\n",
    "print(\"🔍 測試集誤差:\")\n",
    "print(f\"  MSE:  {test_mse:.2f}\")\n",
    "print(f\"  RMSE: {test_rmse:.2f}\")\n",
    "print(f\"  MAE:  {test_mae:.2f}\")\n",
    "\n",
    "print(\"\\n📘 訓練集誤差:\")\n",
    "print(f\"  MSE:  {train_mse:.2f}\")\n",
    "print(f\"  RMSE: {train_rmse:.2f}\")\n",
    "print(f\"  MAE:  {train_mae:.2f}\")\n"
   ]
  }
 ],
 "metadata": {
  "kernelspec": {
   "display_name": "base",
   "language": "python",
   "name": "python3"
  },
  "language_info": {
   "codemirror_mode": {
    "name": "ipython",
    "version": 3
   },
   "file_extension": ".py",
   "mimetype": "text/x-python",
   "name": "python",
   "nbconvert_exporter": "python",
   "pygments_lexer": "ipython3",
   "version": "3.11.7"
  }
 },
 "nbformat": 4,
 "nbformat_minor": 2
}
