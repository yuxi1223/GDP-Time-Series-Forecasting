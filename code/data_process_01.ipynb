{
 "cells": [
  {
   "cell_type": "markdown",
   "metadata": {
    "vscode": {
     "languageId": "plaintext"
    }
   },
   "source": [
    "# Data Transformation"
   ]
  },
  {
   "cell_type": "code",
   "execution_count": 4,
   "metadata": {},
   "outputs": [
    {
     "data": {
      "text/plain": [
       "True"
      ]
     },
     "execution_count": 4,
     "metadata": {},
     "output_type": "execute_result"
    }
   ],
   "source": [
    "from dotenv import load_dotenv\n",
    "load_dotenv()"
   ]
  },
  {
   "cell_type": "code",
   "execution_count": 6,
   "metadata": {},
   "outputs": [],
   "source": [
    "import os\n",
    "import pandas as pd\n",
    "\n",
    "base_path = os.path.dirname(os.getcwd())\n",
    "file_path = os.path.join(base_path,os.getenv(\"RAWDATA\"))\n",
    "quarter_path = os.path.join(base_path,os.getenv(\"Q_DATA\"))\n",
    "\n",
    "sheet_name = \"月\" \n",
    "\n",
    "df = pd.read_excel(file_path, sheet_name=sheet_name)\n",
    "data_set={}\n",
    "table_names=df.columns\n",
    "for num in range(1,len(table_names)):\n",
    "    avg_lsit=[]\n",
    "    for data_num in range(0,len(df[table_names[num]]),3):\n",
    "        data_avg=df[table_names[num]][data_num]+df[table_names[num]][data_num+1]+df[table_names[num]][data_num+2]/3\n",
    "        avg_lsit.append(data_avg)\n",
    "    data_set[table_names[num]]=avg_lsit\n",
    "\n",
    "df_gdp = pd.DataFrame.from_dict(data_set)\n",
    "df_gdp.to_csv(quarter_path, index=False, float_format='%.2f')  "
   ]
  },
  {
   "cell_type": "markdown",
   "metadata": {},
   "source": [
    "# Data Consolidation"
   ]
  },
  {
   "cell_type": "code",
   "execution_count": null,
   "metadata": {},
   "outputs": [
    {
     "name": "stdout",
     "output_type": "stream",
     "text": [
      "       年份     GDP  平均匯率(元/美元)  國內投資毛額    投資率  工業生產指數  製造業銷售量指數  \\\n",
      "0  71年第1季  461774       37.91  102048  22.10   27.57     30.02   \n",
      "1  71年第2季  488234       38.78  143589  29.41   30.35     33.54   \n",
      "2  71年第3季  489504       39.65  117934  24.09   30.06     32.76   \n",
      "3  71年第4季  498511       40.15  144192  28.92   29.86     32.70   \n",
      "4  72年第1季  495361       39.97   99632  20.11   29.28     31.80   \n",
      "\n",
      "   電力(企業)總用電量(十億度)  進口物價基本分類指數  出口物價基本分類指數     進口貿易總值     出口貿易總值  \\\n",
      "0             4.85      231.63      311.21  147089.00  135223.67   \n",
      "1             5.46      231.87      315.17  172059.67  156827.00   \n",
      "2             5.81      234.50      317.22  181502.67  148698.00   \n",
      "3             5.66      234.53      315.38  168145.00  135928.00   \n",
      "4             5.21      227.62      309.54  153110.00  131671.00   \n",
      "\n",
      "   機械及電機設備進口值(十億元)  消費者物價指數   失業率  就業人數（千人）  總人口數(千人)  景氣領先指標綜合指數(點)  \\\n",
      "0              0.0   129.59  3.42  15826.00  42389.67          28.72   \n",
      "1              0.0   130.53  4.12  15577.33  42570.33          28.81   \n",
      "2              0.0   133.10  5.75  16000.33  42742.00          28.50   \n",
      "3              0.0   132.11  6.41  16146.33  42952.67          29.05   \n",
      "4              0.0   132.95  7.15  16260.67  43145.67          31.46   \n",
      "\n",
      "   景氣同時指標綜合指數(點)  \n",
      "0          30.21  \n",
      "1          29.00  \n",
      "2          28.87  \n",
      "3          29.58  \n",
      "4          30.78  \n"
     ]
    }
   ],
   "source": [
    "final_path = os.path.join(base_path,os.getenv(\"TRAINDATA\"))\n",
    "sheet_name = \"季\" \n",
    "\n",
    "df = pd.read_excel(file_path, sheet_name=sheet_name)\n",
    "df_t=pd.read_csv(quarter_path)\n",
    "\n",
    "if len(df) == len(df_t):\n",
    "    df_merged = pd.concat([df, df_t], axis=1)  \n",
    "    print(df_merged.head())  \n",
    "else:\n",
    "    print(\"兩個 DataFrame 的行數不同，無法合併\")\n",
    "\n",
    "df_merged.to_csv(final_path, index=False, float_format='%.2f')  "
   ]
  }
 ],
 "metadata": {
  "kernelspec": {
   "display_name": "base",
   "language": "python",
   "name": "python3"
  },
  "language_info": {
   "codemirror_mode": {
    "name": "ipython",
    "version": 3
   },
   "file_extension": ".py",
   "mimetype": "text/x-python",
   "name": "python",
   "nbconvert_exporter": "python",
   "pygments_lexer": "ipython3",
   "version": "3.11.7"
  }
 },
 "nbformat": 4,
 "nbformat_minor": 2
}
