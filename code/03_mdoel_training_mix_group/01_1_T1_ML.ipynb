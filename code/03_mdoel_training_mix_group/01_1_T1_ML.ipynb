{
 "cells": [
  {
   "cell_type": "markdown",
   "metadata": {},
   "source": [
    "# Data"
   ]
  },
  {
   "cell_type": "code",
   "execution_count": 81,
   "metadata": {},
   "outputs": [
    {
     "data": {
      "text/plain": [
       "True"
      ]
     },
     "execution_count": 81,
     "metadata": {},
     "output_type": "execute_result"
    }
   ],
   "source": [
    "from dotenv import load_dotenv\n",
    "load_dotenv()"
   ]
  },
  {
   "cell_type": "markdown",
   "metadata": {
    "vscode": {
     "languageId": "plaintext"
    }
   },
   "source": [
    "## 01 data loading"
   ]
  },
  {
   "cell_type": "code",
   "execution_count": 82,
   "metadata": {},
   "outputs": [],
   "source": [
    "import os\n",
    "import pandas as pd\n",
    "import numpy as np"
   ]
  },
  {
   "cell_type": "code",
   "execution_count": 83,
   "metadata": {},
   "outputs": [],
   "source": [
    "base_path = os.path.dirname(os.path.dirname(os.getcwd()))\n",
    "x_mix_path = os.path.join(base_path,os.getenv(\"X_MIX_LABEL\"))\n",
    "y_mix_path = os.path.join(base_path,os.getenv(\"Y_LABEL\"))"
   ]
  },
  {
   "cell_type": "code",
   "execution_count": 84,
   "metadata": {},
   "outputs": [],
   "source": [
    "# 讀取 x 和 y 的資料\n",
    "x_mix_gdp = pd.read_csv(x_mix_path)\n",
    "y_mix_gdp = pd.read_csv(y_mix_path)"
   ]
  },
  {
   "cell_type": "code",
   "execution_count": 85,
   "metadata": {},
   "outputs": [
    {
     "data": {
      "text/html": [
       "<div>\n",
       "<style scoped>\n",
       "    .dataframe tbody tr th:only-of-type {\n",
       "        vertical-align: middle;\n",
       "    }\n",
       "\n",
       "    .dataframe tbody tr th {\n",
       "        vertical-align: top;\n",
       "    }\n",
       "\n",
       "    .dataframe thead th {\n",
       "        text-align: right;\n",
       "    }\n",
       "</style>\n",
       "<table border=\"1\" class=\"dataframe\">\n",
       "  <thead>\n",
       "    <tr style=\"text-align: right;\">\n",
       "      <th></th>\n",
       "      <th>年份</th>\n",
       "      <th>季別</th>\n",
       "      <th>平均匯率(元/美元)</th>\n",
       "      <th>國內投資毛額</th>\n",
       "      <th>投資率</th>\n",
       "      <th>工業生產指數</th>\n",
       "      <th>製造業銷售量指數</th>\n",
       "      <th>電力(企業)總用電量(十億度)</th>\n",
       "      <th>進口物價基本分類指數</th>\n",
       "      <th>出口物價基本分類指數</th>\n",
       "      <th>...</th>\n",
       "      <th>機械及電機設備進口值(十億元)</th>\n",
       "      <th>消費者物價指數</th>\n",
       "      <th>失業率</th>\n",
       "      <th>就業人數（千人）</th>\n",
       "      <th>總人口數(千人)</th>\n",
       "      <th>景氣領先指標綜合指數(點)</th>\n",
       "      <th>景氣同時指標綜合指數(點)</th>\n",
       "      <th>gdp_t1</th>\n",
       "      <th>gdp_t2</th>\n",
       "      <th>gdp_t3</th>\n",
       "    </tr>\n",
       "  </thead>\n",
       "  <tbody>\n",
       "    <tr>\n",
       "      <th>0</th>\n",
       "      <td>1982</td>\n",
       "      <td>1</td>\n",
       "      <td>37.91</td>\n",
       "      <td>102048</td>\n",
       "      <td>22.10</td>\n",
       "      <td>27.57</td>\n",
       "      <td>30.02</td>\n",
       "      <td>4.85</td>\n",
       "      <td>231.63</td>\n",
       "      <td>311.21</td>\n",
       "      <td>...</td>\n",
       "      <td>0.00</td>\n",
       "      <td>129.59</td>\n",
       "      <td>3.42</td>\n",
       "      <td>15826.00</td>\n",
       "      <td>42389.67</td>\n",
       "      <td>28.72</td>\n",
       "      <td>30.21</td>\n",
       "      <td>NaN</td>\n",
       "      <td>NaN</td>\n",
       "      <td>NaN</td>\n",
       "    </tr>\n",
       "    <tr>\n",
       "      <th>1</th>\n",
       "      <td>1982</td>\n",
       "      <td>2</td>\n",
       "      <td>38.78</td>\n",
       "      <td>143589</td>\n",
       "      <td>29.41</td>\n",
       "      <td>30.35</td>\n",
       "      <td>33.54</td>\n",
       "      <td>5.46</td>\n",
       "      <td>231.87</td>\n",
       "      <td>315.17</td>\n",
       "      <td>...</td>\n",
       "      <td>0.00</td>\n",
       "      <td>130.53</td>\n",
       "      <td>4.12</td>\n",
       "      <td>15577.33</td>\n",
       "      <td>42570.33</td>\n",
       "      <td>28.81</td>\n",
       "      <td>29.00</td>\n",
       "      <td>461774.0</td>\n",
       "      <td>NaN</td>\n",
       "      <td>NaN</td>\n",
       "    </tr>\n",
       "    <tr>\n",
       "      <th>2</th>\n",
       "      <td>1982</td>\n",
       "      <td>3</td>\n",
       "      <td>39.65</td>\n",
       "      <td>117934</td>\n",
       "      <td>24.09</td>\n",
       "      <td>30.06</td>\n",
       "      <td>32.76</td>\n",
       "      <td>5.81</td>\n",
       "      <td>234.50</td>\n",
       "      <td>317.22</td>\n",
       "      <td>...</td>\n",
       "      <td>0.00</td>\n",
       "      <td>133.10</td>\n",
       "      <td>5.75</td>\n",
       "      <td>16000.33</td>\n",
       "      <td>42742.00</td>\n",
       "      <td>28.50</td>\n",
       "      <td>28.87</td>\n",
       "      <td>488234.0</td>\n",
       "      <td>461774.0</td>\n",
       "      <td>NaN</td>\n",
       "    </tr>\n",
       "    <tr>\n",
       "      <th>3</th>\n",
       "      <td>1982</td>\n",
       "      <td>4</td>\n",
       "      <td>40.15</td>\n",
       "      <td>144192</td>\n",
       "      <td>28.92</td>\n",
       "      <td>29.86</td>\n",
       "      <td>32.70</td>\n",
       "      <td>5.66</td>\n",
       "      <td>234.53</td>\n",
       "      <td>315.38</td>\n",
       "      <td>...</td>\n",
       "      <td>0.00</td>\n",
       "      <td>132.11</td>\n",
       "      <td>6.41</td>\n",
       "      <td>16146.33</td>\n",
       "      <td>42952.67</td>\n",
       "      <td>29.05</td>\n",
       "      <td>29.58</td>\n",
       "      <td>489504.0</td>\n",
       "      <td>488234.0</td>\n",
       "      <td>461774.0</td>\n",
       "    </tr>\n",
       "    <tr>\n",
       "      <th>4</th>\n",
       "      <td>1983</td>\n",
       "      <td>1</td>\n",
       "      <td>39.97</td>\n",
       "      <td>99632</td>\n",
       "      <td>20.11</td>\n",
       "      <td>29.28</td>\n",
       "      <td>31.80</td>\n",
       "      <td>5.21</td>\n",
       "      <td>227.62</td>\n",
       "      <td>309.54</td>\n",
       "      <td>...</td>\n",
       "      <td>0.00</td>\n",
       "      <td>132.95</td>\n",
       "      <td>7.15</td>\n",
       "      <td>16260.67</td>\n",
       "      <td>43145.67</td>\n",
       "      <td>31.46</td>\n",
       "      <td>30.78</td>\n",
       "      <td>498511.0</td>\n",
       "      <td>489504.0</td>\n",
       "      <td>488234.0</td>\n",
       "    </tr>\n",
       "    <tr>\n",
       "      <th>...</th>\n",
       "      <td>...</td>\n",
       "      <td>...</td>\n",
       "      <td>...</td>\n",
       "      <td>...</td>\n",
       "      <td>...</td>\n",
       "      <td>...</td>\n",
       "      <td>...</td>\n",
       "      <td>...</td>\n",
       "      <td>...</td>\n",
       "      <td>...</td>\n",
       "      <td>...</td>\n",
       "      <td>...</td>\n",
       "      <td>...</td>\n",
       "      <td>...</td>\n",
       "      <td>...</td>\n",
       "      <td>...</td>\n",
       "      <td>...</td>\n",
       "      <td>...</td>\n",
       "      <td>...</td>\n",
       "      <td>...</td>\n",
       "      <td>...</td>\n",
       "    </tr>\n",
       "    <tr>\n",
       "      <th>163</th>\n",
       "      <td>2022</td>\n",
       "      <td>4</td>\n",
       "      <td>31.37</td>\n",
       "      <td>1588290</td>\n",
       "      <td>26.94</td>\n",
       "      <td>220.26</td>\n",
       "      <td>211.99</td>\n",
       "      <td>32.25</td>\n",
       "      <td>275.24</td>\n",
       "      <td>267.03</td>\n",
       "      <td>...</td>\n",
       "      <td>1162.68</td>\n",
       "      <td>241.98</td>\n",
       "      <td>8.42</td>\n",
       "      <td>26657.00</td>\n",
       "      <td>53816.00</td>\n",
       "      <td>218.08</td>\n",
       "      <td>215.55</td>\n",
       "      <td>5718537.0</td>\n",
       "      <td>5558046.0</td>\n",
       "      <td>5647656.0</td>\n",
       "    </tr>\n",
       "    <tr>\n",
       "      <th>164</th>\n",
       "      <td>2023</td>\n",
       "      <td>1</td>\n",
       "      <td>30.40</td>\n",
       "      <td>1520462</td>\n",
       "      <td>27.70</td>\n",
       "      <td>188.21</td>\n",
       "      <td>187.55</td>\n",
       "      <td>28.45</td>\n",
       "      <td>263.12</td>\n",
       "      <td>253.88</td>\n",
       "      <td>...</td>\n",
       "      <td>925.86</td>\n",
       "      <td>243.54</td>\n",
       "      <td>8.22</td>\n",
       "      <td>26787.33</td>\n",
       "      <td>54002.33</td>\n",
       "      <td>220.45</td>\n",
       "      <td>206.97</td>\n",
       "      <td>5896191.0</td>\n",
       "      <td>5718537.0</td>\n",
       "      <td>5558046.0</td>\n",
       "    </tr>\n",
       "    <tr>\n",
       "      <th>165</th>\n",
       "      <td>2023</td>\n",
       "      <td>2</td>\n",
       "      <td>30.71</td>\n",
       "      <td>1426025</td>\n",
       "      <td>24.97</td>\n",
       "      <td>188.72</td>\n",
       "      <td>195.97</td>\n",
       "      <td>31.84</td>\n",
       "      <td>257.68</td>\n",
       "      <td>252.57</td>\n",
       "      <td>...</td>\n",
       "      <td>890.73</td>\n",
       "      <td>245.20</td>\n",
       "      <td>8.12</td>\n",
       "      <td>26852.33</td>\n",
       "      <td>54117.67</td>\n",
       "      <td>219.13</td>\n",
       "      <td>204.78</td>\n",
       "      <td>5489013.0</td>\n",
       "      <td>5896191.0</td>\n",
       "      <td>5718537.0</td>\n",
       "    </tr>\n",
       "    <tr>\n",
       "      <th>166</th>\n",
       "      <td>2023</td>\n",
       "      <td>3</td>\n",
       "      <td>31.69</td>\n",
       "      <td>1364758</td>\n",
       "      <td>22.69</td>\n",
       "      <td>205.88</td>\n",
       "      <td>207.63</td>\n",
       "      <td>34.72</td>\n",
       "      <td>260.87</td>\n",
       "      <td>258.10</td>\n",
       "      <td>...</td>\n",
       "      <td>973.80</td>\n",
       "      <td>246.62</td>\n",
       "      <td>8.28</td>\n",
       "      <td>26936.00</td>\n",
       "      <td>54213.00</td>\n",
       "      <td>216.33</td>\n",
       "      <td>207.60</td>\n",
       "      <td>5710934.0</td>\n",
       "      <td>5489013.0</td>\n",
       "      <td>5896191.0</td>\n",
       "    </tr>\n",
       "    <tr>\n",
       "      <th>167</th>\n",
       "      <td>2023</td>\n",
       "      <td>4</td>\n",
       "      <td>31.84</td>\n",
       "      <td>1471478</td>\n",
       "      <td>23.06</td>\n",
       "      <td>215.34</td>\n",
       "      <td>209.11</td>\n",
       "      <td>32.09</td>\n",
       "      <td>263.75</td>\n",
       "      <td>261.96</td>\n",
       "      <td>...</td>\n",
       "      <td>1049.92</td>\n",
       "      <td>249.07</td>\n",
       "      <td>7.88</td>\n",
       "      <td>26996.00</td>\n",
       "      <td>54258.33</td>\n",
       "      <td>215.93</td>\n",
       "      <td>210.73</td>\n",
       "      <td>6016101.0</td>\n",
       "      <td>5710934.0</td>\n",
       "      <td>5489013.0</td>\n",
       "    </tr>\n",
       "  </tbody>\n",
       "</table>\n",
       "<p>168 rows × 22 columns</p>\n",
       "</div>"
      ],
      "text/plain": [
       "       年份  季別  平均匯率(元/美元)   國內投資毛額    投資率  工業生產指數  製造業銷售量指數  電力(企業)總用電量(十億度)  \\\n",
       "0    1982   1       37.91   102048  22.10   27.57     30.02             4.85   \n",
       "1    1982   2       38.78   143589  29.41   30.35     33.54             5.46   \n",
       "2    1982   3       39.65   117934  24.09   30.06     32.76             5.81   \n",
       "3    1982   4       40.15   144192  28.92   29.86     32.70             5.66   \n",
       "4    1983   1       39.97    99632  20.11   29.28     31.80             5.21   \n",
       "..    ...  ..         ...      ...    ...     ...       ...              ...   \n",
       "163  2022   4       31.37  1588290  26.94  220.26    211.99            32.25   \n",
       "164  2023   1       30.40  1520462  27.70  188.21    187.55            28.45   \n",
       "165  2023   2       30.71  1426025  24.97  188.72    195.97            31.84   \n",
       "166  2023   3       31.69  1364758  22.69  205.88    207.63            34.72   \n",
       "167  2023   4       31.84  1471478  23.06  215.34    209.11            32.09   \n",
       "\n",
       "     進口物價基本分類指數  出口物價基本分類指數  ...  機械及電機設備進口值(十億元)  消費者物價指數   失業率  就業人數（千人）  \\\n",
       "0        231.63      311.21  ...             0.00   129.59  3.42  15826.00   \n",
       "1        231.87      315.17  ...             0.00   130.53  4.12  15577.33   \n",
       "2        234.50      317.22  ...             0.00   133.10  5.75  16000.33   \n",
       "3        234.53      315.38  ...             0.00   132.11  6.41  16146.33   \n",
       "4        227.62      309.54  ...             0.00   132.95  7.15  16260.67   \n",
       "..          ...         ...  ...              ...      ...   ...       ...   \n",
       "163      275.24      267.03  ...          1162.68   241.98  8.42  26657.00   \n",
       "164      263.12      253.88  ...           925.86   243.54  8.22  26787.33   \n",
       "165      257.68      252.57  ...           890.73   245.20  8.12  26852.33   \n",
       "166      260.87      258.10  ...           973.80   246.62  8.28  26936.00   \n",
       "167      263.75      261.96  ...          1049.92   249.07  7.88  26996.00   \n",
       "\n",
       "     總人口數(千人)  景氣領先指標綜合指數(點)  景氣同時指標綜合指數(點)     gdp_t1     gdp_t2     gdp_t3  \n",
       "0    42389.67          28.72          30.21        NaN        NaN        NaN  \n",
       "1    42570.33          28.81          29.00   461774.0        NaN        NaN  \n",
       "2    42742.00          28.50          28.87   488234.0   461774.0        NaN  \n",
       "3    42952.67          29.05          29.58   489504.0   488234.0   461774.0  \n",
       "4    43145.67          31.46          30.78   498511.0   489504.0   488234.0  \n",
       "..        ...            ...            ...        ...        ...        ...  \n",
       "163  53816.00         218.08         215.55  5718537.0  5558046.0  5647656.0  \n",
       "164  54002.33         220.45         206.97  5896191.0  5718537.0  5558046.0  \n",
       "165  54117.67         219.13         204.78  5489013.0  5896191.0  5718537.0  \n",
       "166  54213.00         216.33         207.60  5710934.0  5489013.0  5896191.0  \n",
       "167  54258.33         215.93         210.73  6016101.0  5710934.0  5489013.0  \n",
       "\n",
       "[168 rows x 22 columns]"
      ]
     },
     "execution_count": 85,
     "metadata": {},
     "output_type": "execute_result"
    }
   ],
   "source": [
    "x_mix_gdp"
   ]
  },
  {
   "cell_type": "code",
   "execution_count": 86,
   "metadata": {},
   "outputs": [
    {
     "data": {
      "text/html": [
       "<div>\n",
       "<style scoped>\n",
       "    .dataframe tbody tr th:only-of-type {\n",
       "        vertical-align: middle;\n",
       "    }\n",
       "\n",
       "    .dataframe tbody tr th {\n",
       "        vertical-align: top;\n",
       "    }\n",
       "\n",
       "    .dataframe thead th {\n",
       "        text-align: right;\n",
       "    }\n",
       "</style>\n",
       "<table border=\"1\" class=\"dataframe\">\n",
       "  <thead>\n",
       "    <tr style=\"text-align: right;\">\n",
       "      <th></th>\n",
       "      <th>年份</th>\n",
       "      <th>季別</th>\n",
       "      <th>GDP</th>\n",
       "    </tr>\n",
       "  </thead>\n",
       "  <tbody>\n",
       "    <tr>\n",
       "      <th>0</th>\n",
       "      <td>1982</td>\n",
       "      <td>1</td>\n",
       "      <td>461774</td>\n",
       "    </tr>\n",
       "    <tr>\n",
       "      <th>1</th>\n",
       "      <td>1982</td>\n",
       "      <td>2</td>\n",
       "      <td>488234</td>\n",
       "    </tr>\n",
       "    <tr>\n",
       "      <th>2</th>\n",
       "      <td>1982</td>\n",
       "      <td>3</td>\n",
       "      <td>489504</td>\n",
       "    </tr>\n",
       "    <tr>\n",
       "      <th>3</th>\n",
       "      <td>1982</td>\n",
       "      <td>4</td>\n",
       "      <td>498511</td>\n",
       "    </tr>\n",
       "    <tr>\n",
       "      <th>4</th>\n",
       "      <td>1983</td>\n",
       "      <td>1</td>\n",
       "      <td>495361</td>\n",
       "    </tr>\n",
       "    <tr>\n",
       "      <th>...</th>\n",
       "      <td>...</td>\n",
       "      <td>...</td>\n",
       "      <td>...</td>\n",
       "    </tr>\n",
       "    <tr>\n",
       "      <th>163</th>\n",
       "      <td>2022</td>\n",
       "      <td>4</td>\n",
       "      <td>5896191</td>\n",
       "    </tr>\n",
       "    <tr>\n",
       "      <th>164</th>\n",
       "      <td>2023</td>\n",
       "      <td>1</td>\n",
       "      <td>5489013</td>\n",
       "    </tr>\n",
       "    <tr>\n",
       "      <th>165</th>\n",
       "      <td>2023</td>\n",
       "      <td>2</td>\n",
       "      <td>5710934</td>\n",
       "    </tr>\n",
       "    <tr>\n",
       "      <th>166</th>\n",
       "      <td>2023</td>\n",
       "      <td>3</td>\n",
       "      <td>6016101</td>\n",
       "    </tr>\n",
       "    <tr>\n",
       "      <th>167</th>\n",
       "      <td>2023</td>\n",
       "      <td>4</td>\n",
       "      <td>6380686</td>\n",
       "    </tr>\n",
       "  </tbody>\n",
       "</table>\n",
       "<p>168 rows × 3 columns</p>\n",
       "</div>"
      ],
      "text/plain": [
       "       年份  季別      GDP\n",
       "0    1982   1   461774\n",
       "1    1982   2   488234\n",
       "2    1982   3   489504\n",
       "3    1982   4   498511\n",
       "4    1983   1   495361\n",
       "..    ...  ..      ...\n",
       "163  2022   4  5896191\n",
       "164  2023   1  5489013\n",
       "165  2023   2  5710934\n",
       "166  2023   3  6016101\n",
       "167  2023   4  6380686\n",
       "\n",
       "[168 rows x 3 columns]"
      ]
     },
     "execution_count": 86,
     "metadata": {},
     "output_type": "execute_result"
    }
   ],
   "source": [
    "y_mix_gdp"
   ]
  },
  {
   "cell_type": "code",
   "execution_count": 87,
   "metadata": {},
   "outputs": [],
   "source": [
    "x_mix_gdp_drop=x_mix_gdp.drop(columns=['年份', '季別'])\n",
    "y_mix_gdp_drop=y_mix_gdp.drop(columns=['年份', '季別'])"
   ]
  },
  {
   "cell_type": "markdown",
   "metadata": {},
   "source": [
    "## 02 data MinMaxScaler"
   ]
  },
  {
   "cell_type": "code",
   "execution_count": 88,
   "metadata": {},
   "outputs": [],
   "source": [
    "from sklearn.preprocessing import MinMaxScaler"
   ]
  },
  {
   "cell_type": "code",
   "execution_count": 89,
   "metadata": {},
   "outputs": [],
   "source": [
    "scaler_X = MinMaxScaler()\n",
    "scaler_y = MinMaxScaler()\n",
    "\n",
    "T3_X_scaled = scaler_X.fit_transform(x_mix_gdp_drop)\n",
    "T3_y_scaled = scaler_y.fit_transform(y_mix_gdp_drop)"
   ]
  },
  {
   "cell_type": "markdown",
   "metadata": {},
   "source": [
    "## 03 Feaature with T3"
   ]
  },
  {
   "cell_type": "markdown",
   "metadata": {},
   "source": [
    "- T3_X_scaled \n",
    "- T3_y_scaled"
   ]
  },
  {
   "cell_type": "code",
   "execution_count": 90,
   "metadata": {},
   "outputs": [],
   "source": [
    "T3_x,T3_y=[],[]\n",
    "\n",
    "\n",
    "for i in range(5,len(T3_X_scaled)):\n",
    "    T3_x.append([T3_X_scaled[i]])\n",
    "\n",
    "for i in range(5,len(T3_y_scaled)):\n",
    "    T3_y.append([T3_y_scaled[i]])\n",
    "\n",
    "\n",
    "T3_x=np.array(T3_x)\n",
    "T3_x=T3_x.reshape(T3_x.shape[0], -1)\n",
    "\n",
    "T3_y=np.array(T3_y)\n",
    "T3_y=T3_y.reshape(T3_y.shape[0], -1)"
   ]
  },
  {
   "cell_type": "code",
   "execution_count": 91,
   "metadata": {},
   "outputs": [
    {
     "data": {
      "text/plain": [
       "(163, 20)"
      ]
     },
     "execution_count": 91,
     "metadata": {},
     "output_type": "execute_result"
    }
   ],
   "source": [
    "T3_x.shape"
   ]
  },
  {
   "cell_type": "code",
   "execution_count": 92,
   "metadata": {},
   "outputs": [
    {
     "data": {
      "text/plain": [
       "(163, 1)"
      ]
     },
     "execution_count": 92,
     "metadata": {},
     "output_type": "execute_result"
    }
   ],
   "source": [
    "T3_y.shape"
   ]
  },
  {
   "cell_type": "markdown",
   "metadata": {},
   "source": [
    "## 04 data spliting 80 & 20"
   ]
  },
  {
   "cell_type": "code",
   "execution_count": 93,
   "metadata": {},
   "outputs": [],
   "source": [
    "train_size = int(len(T3_x) * 0.8)"
   ]
  },
  {
   "cell_type": "code",
   "execution_count": 94,
   "metadata": {},
   "outputs": [],
   "source": [
    "train_x_t3, test_x_t3 = T3_x[:train_size], T3_x[train_size:]\n",
    "train_y_t3, test_y_t3 = T3_y[:train_size], T3_y[train_size:]"
   ]
  },
  {
   "cell_type": "code",
   "execution_count": 95,
   "metadata": {},
   "outputs": [
    {
     "data": {
      "text/plain": [
       "130"
      ]
     },
     "execution_count": 95,
     "metadata": {},
     "output_type": "execute_result"
    }
   ],
   "source": [
    "len(train_x_t3)"
   ]
  },
  {
   "cell_type": "code",
   "execution_count": 96,
   "metadata": {},
   "outputs": [
    {
     "data": {
      "text/plain": [
       "130"
      ]
     },
     "execution_count": 96,
     "metadata": {},
     "output_type": "execute_result"
    }
   ],
   "source": [
    "len(train_y_t3,)"
   ]
  },
  {
   "cell_type": "code",
   "execution_count": 97,
   "metadata": {},
   "outputs": [
    {
     "data": {
      "text/plain": [
       "33"
      ]
     },
     "execution_count": 97,
     "metadata": {},
     "output_type": "execute_result"
    }
   ],
   "source": [
    "len(test_x_t3)"
   ]
  },
  {
   "cell_type": "code",
   "execution_count": 98,
   "metadata": {},
   "outputs": [
    {
     "data": {
      "text/plain": [
       "33"
      ]
     },
     "execution_count": 98,
     "metadata": {},
     "output_type": "execute_result"
    }
   ],
   "source": [
    "len(test_y_t3)"
   ]
  },
  {
   "cell_type": "code",
   "execution_count": 99,
   "metadata": {},
   "outputs": [
    {
     "data": {
      "text/plain": [
       "array([0.01459457])"
      ]
     },
     "execution_count": 99,
     "metadata": {},
     "output_type": "execute_result"
    }
   ],
   "source": [
    "# training data start in 1983 Q2\n",
    "train_y_t3[0]"
   ]
  },
  {
   "cell_type": "code",
   "execution_count": 100,
   "metadata": {},
   "outputs": [
    {
     "data": {
      "text/plain": [
       "array([0.64621251])"
      ]
     },
     "execution_count": 100,
     "metadata": {},
     "output_type": "execute_result"
    }
   ],
   "source": [
    "# training data stop in 2015 Q3\n",
    "train_y_t3[-1]"
   ]
  },
  {
   "cell_type": "code",
   "execution_count": 101,
   "metadata": {},
   "outputs": [
    {
     "data": {
      "text/plain": [
       "array([0.66447448])"
      ]
     },
     "execution_count": 101,
     "metadata": {},
     "output_type": "execute_result"
    }
   ],
   "source": [
    "# testing data start in 2015 Q4\n",
    "test_y_t3[0]"
   ]
  },
  {
   "cell_type": "code",
   "execution_count": 102,
   "metadata": {},
   "outputs": [
    {
     "data": {
      "text/plain": [
       "array([1.])"
      ]
     },
     "execution_count": 102,
     "metadata": {},
     "output_type": "execute_result"
    }
   ],
   "source": [
    "# testing data start in 2023 Q4\n",
    "test_y_t3[-1]"
   ]
  },
  {
   "cell_type": "code",
   "execution_count": 103,
   "metadata": {},
   "outputs": [],
   "source": [
    "real_train_y = scaler_y.inverse_transform(train_y_t3)\n",
    "real_test_y = scaler_y.inverse_transform(test_y_t3)"
   ]
  },
  {
   "cell_type": "markdown",
   "metadata": {},
   "source": [
    "# Model"
   ]
  },
  {
   "cell_type": "markdown",
   "metadata": {},
   "source": [
    "- training data (train_y_t3 & train_x_t3) : 1983 q2 to 2015 q3 (130)\n",
    "    - train_x_t3_scaled (x)\n",
    "\n",
    "- testing data (test_y_t3 & test_x_t3) : 2015 q4 to 2023 q4 (33)\n",
    "    - test_x_t3_scaled (x)\n"
   ]
  },
  {
   "cell_type": "code",
   "execution_count": 104,
   "metadata": {},
   "outputs": [],
   "source": [
    "from sklearn.metrics import mean_squared_error, mean_absolute_error"
   ]
  },
  {
   "cell_type": "code",
   "execution_count": 105,
   "metadata": {},
   "outputs": [],
   "source": [
    "# 評估\n",
    "def eval_metrics(y_true, y_pred, name=\"\"):\n",
    "    mse = mean_squared_error(y_true, y_pred)\n",
    "    rmse = np.sqrt(mse)\n",
    "    mae = mean_absolute_error(y_true, y_pred)\n",
    "    print(f\"{name} ➤ MSE: {mse:.2f}, RMSE: {rmse:.2f}, MAE: {mae:.2f}\")\n",
    "    return mse, rmse, mae"
   ]
  },
  {
   "cell_type": "markdown",
   "metadata": {},
   "source": [
    "## GB"
   ]
  },
  {
   "cell_type": "code",
   "execution_count": 106,
   "metadata": {},
   "outputs": [],
   "source": [
    "from sklearn.ensemble import GradientBoostingRegressor"
   ]
  },
  {
   "cell_type": "code",
   "execution_count": 107,
   "metadata": {},
   "outputs": [
    {
     "name": "stderr",
     "output_type": "stream",
     "text": [
      "/opt/anaconda3/lib/python3.11/site-packages/sklearn/ensemble/_gb.py:437: DataConversionWarning: A column-vector y was passed when a 1d array was expected. Please change the shape of y to (n_samples, ), for example using ravel().\n",
      "  y = column_or_1d(y, warn=True)\n"
     ]
    },
    {
     "data": {
      "text/html": [
       "<style>#sk-container-id-7 {color: black;background-color: white;}#sk-container-id-7 pre{padding: 0;}#sk-container-id-7 div.sk-toggleable {background-color: white;}#sk-container-id-7 label.sk-toggleable__label {cursor: pointer;display: block;width: 100%;margin-bottom: 0;padding: 0.3em;box-sizing: border-box;text-align: center;}#sk-container-id-7 label.sk-toggleable__label-arrow:before {content: \"▸\";float: left;margin-right: 0.25em;color: #696969;}#sk-container-id-7 label.sk-toggleable__label-arrow:hover:before {color: black;}#sk-container-id-7 div.sk-estimator:hover label.sk-toggleable__label-arrow:before {color: black;}#sk-container-id-7 div.sk-toggleable__content {max-height: 0;max-width: 0;overflow: hidden;text-align: left;background-color: #f0f8ff;}#sk-container-id-7 div.sk-toggleable__content pre {margin: 0.2em;color: black;border-radius: 0.25em;background-color: #f0f8ff;}#sk-container-id-7 input.sk-toggleable__control:checked~div.sk-toggleable__content {max-height: 200px;max-width: 100%;overflow: auto;}#sk-container-id-7 input.sk-toggleable__control:checked~label.sk-toggleable__label-arrow:before {content: \"▾\";}#sk-container-id-7 div.sk-estimator input.sk-toggleable__control:checked~label.sk-toggleable__label {background-color: #d4ebff;}#sk-container-id-7 div.sk-label input.sk-toggleable__control:checked~label.sk-toggleable__label {background-color: #d4ebff;}#sk-container-id-7 input.sk-hidden--visually {border: 0;clip: rect(1px 1px 1px 1px);clip: rect(1px, 1px, 1px, 1px);height: 1px;margin: -1px;overflow: hidden;padding: 0;position: absolute;width: 1px;}#sk-container-id-7 div.sk-estimator {font-family: monospace;background-color: #f0f8ff;border: 1px dotted black;border-radius: 0.25em;box-sizing: border-box;margin-bottom: 0.5em;}#sk-container-id-7 div.sk-estimator:hover {background-color: #d4ebff;}#sk-container-id-7 div.sk-parallel-item::after {content: \"\";width: 100%;border-bottom: 1px solid gray;flex-grow: 1;}#sk-container-id-7 div.sk-label:hover label.sk-toggleable__label {background-color: #d4ebff;}#sk-container-id-7 div.sk-serial::before {content: \"\";position: absolute;border-left: 1px solid gray;box-sizing: border-box;top: 0;bottom: 0;left: 50%;z-index: 0;}#sk-container-id-7 div.sk-serial {display: flex;flex-direction: column;align-items: center;background-color: white;padding-right: 0.2em;padding-left: 0.2em;position: relative;}#sk-container-id-7 div.sk-item {position: relative;z-index: 1;}#sk-container-id-7 div.sk-parallel {display: flex;align-items: stretch;justify-content: center;background-color: white;position: relative;}#sk-container-id-7 div.sk-item::before, #sk-container-id-7 div.sk-parallel-item::before {content: \"\";position: absolute;border-left: 1px solid gray;box-sizing: border-box;top: 0;bottom: 0;left: 50%;z-index: -1;}#sk-container-id-7 div.sk-parallel-item {display: flex;flex-direction: column;z-index: 1;position: relative;background-color: white;}#sk-container-id-7 div.sk-parallel-item:first-child::after {align-self: flex-end;width: 50%;}#sk-container-id-7 div.sk-parallel-item:last-child::after {align-self: flex-start;width: 50%;}#sk-container-id-7 div.sk-parallel-item:only-child::after {width: 0;}#sk-container-id-7 div.sk-dashed-wrapped {border: 1px dashed gray;margin: 0 0.4em 0.5em 0.4em;box-sizing: border-box;padding-bottom: 0.4em;background-color: white;}#sk-container-id-7 div.sk-label label {font-family: monospace;font-weight: bold;display: inline-block;line-height: 1.2em;}#sk-container-id-7 div.sk-label-container {text-align: center;}#sk-container-id-7 div.sk-container {/* jupyter's `normalize.less` sets `[hidden] { display: none; }` but bootstrap.min.css set `[hidden] { display: none !important; }` so we also need the `!important` here to be able to override the default hidden behavior on the sphinx rendered scikit-learn.org. See: https://github.com/scikit-learn/scikit-learn/issues/21755 */display: inline-block !important;position: relative;}#sk-container-id-7 div.sk-text-repr-fallback {display: none;}</style><div id=\"sk-container-id-7\" class=\"sk-top-container\"><div class=\"sk-text-repr-fallback\"><pre>GradientBoostingRegressor(learning_rate=0.05, max_depth=5, max_features=0.8,\n",
       "                          min_samples_leaf=5, min_samples_split=10,\n",
       "                          n_estimators=500, random_state=42, subsample=0.9)</pre><b>In a Jupyter environment, please rerun this cell to show the HTML representation or trust the notebook. <br />On GitHub, the HTML representation is unable to render, please try loading this page with nbviewer.org.</b></div><div class=\"sk-container\" hidden><div class=\"sk-item\"><div class=\"sk-estimator sk-toggleable\"><input class=\"sk-toggleable__control sk-hidden--visually\" id=\"sk-estimator-id-7\" type=\"checkbox\" checked><label for=\"sk-estimator-id-7\" class=\"sk-toggleable__label sk-toggleable__label-arrow\">GradientBoostingRegressor</label><div class=\"sk-toggleable__content\"><pre>GradientBoostingRegressor(learning_rate=0.05, max_depth=5, max_features=0.8,\n",
       "                          min_samples_leaf=5, min_samples_split=10,\n",
       "                          n_estimators=500, random_state=42, subsample=0.9)</pre></div></div></div></div></div>"
      ],
      "text/plain": [
       "GradientBoostingRegressor(learning_rate=0.05, max_depth=5, max_features=0.8,\n",
       "                          min_samples_leaf=5, min_samples_split=10,\n",
       "                          n_estimators=500, random_state=42, subsample=0.9)"
      ]
     },
     "execution_count": 107,
     "metadata": {},
     "output_type": "execute_result"
    }
   ],
   "source": [
    "\n",
    "gb_model = GradientBoostingRegressor(\n",
    "    n_estimators=500,\n",
    "    learning_rate=0.05,\n",
    "    max_depth=5,\n",
    "    min_samples_split=10,\n",
    "    min_samples_leaf=5,\n",
    "    subsample=0.9,\n",
    "    max_features=0.8,\n",
    "    random_state=42\n",
    ")\n",
    "gb_model.fit(train_x_t3, train_y_t3)\n"
   ]
  },
  {
   "cell_type": "code",
   "execution_count": 108,
   "metadata": {},
   "outputs": [],
   "source": [
    "# 預測\n",
    "gb_y_train_pred = gb_model.predict(train_x_t3)\n",
    "gb_y_test_pred = gb_model.predict(test_x_t3)\n",
    "\n",
    "\n",
    "gb_y_train_pred = scaler_y.inverse_transform(gb_y_train_pred.reshape(-1, 1))\n",
    "gb_y_test_pred = scaler_y.inverse_transform(gb_y_test_pred.reshape(-1, 1))"
   ]
  },
  {
   "cell_type": "code",
   "execution_count": 109,
   "metadata": {},
   "outputs": [
    {
     "name": "stdout",
     "output_type": "stream",
     "text": [
      "\n",
      "📊 訓練集表現：\n",
      "Train ➤ MSE: 152767.79, RMSE: 390.86, MAE: 276.94\n",
      "\n",
      "📊 測試集表現：\n",
      "Test ➤ MSE: 1076867615479.10, RMSE: 1037722.32, MAE: 816922.85\n"
     ]
    },
    {
     "data": {
      "text/plain": [
       "(1076867615479.1036, 1037722.3209891476, 816922.8532558331)"
      ]
     },
     "execution_count": 109,
     "metadata": {},
     "output_type": "execute_result"
    }
   ],
   "source": [
    "print(\"\\n📊 訓練集表現：\")\n",
    "eval_metrics(real_train_y, gb_y_train_pred, \"Train\")\n",
    "\n",
    "print(\"\\n📊 測試集表現：\")\n",
    "eval_metrics(real_test_y, gb_y_test_pred, \"Test\")"
   ]
  },
  {
   "cell_type": "markdown",
   "metadata": {},
   "source": [
    "## Xgb"
   ]
  },
  {
   "cell_type": "code",
   "execution_count": 110,
   "metadata": {},
   "outputs": [],
   "source": [
    "from xgboost import XGBRegressor\n",
    "from sklearn.model_selection import train_test_split"
   ]
  },
  {
   "cell_type": "code",
   "execution_count": 111,
   "metadata": {},
   "outputs": [
    {
     "data": {
      "text/html": [
       "<style>#sk-container-id-8 {color: black;background-color: white;}#sk-container-id-8 pre{padding: 0;}#sk-container-id-8 div.sk-toggleable {background-color: white;}#sk-container-id-8 label.sk-toggleable__label {cursor: pointer;display: block;width: 100%;margin-bottom: 0;padding: 0.3em;box-sizing: border-box;text-align: center;}#sk-container-id-8 label.sk-toggleable__label-arrow:before {content: \"▸\";float: left;margin-right: 0.25em;color: #696969;}#sk-container-id-8 label.sk-toggleable__label-arrow:hover:before {color: black;}#sk-container-id-8 div.sk-estimator:hover label.sk-toggleable__label-arrow:before {color: black;}#sk-container-id-8 div.sk-toggleable__content {max-height: 0;max-width: 0;overflow: hidden;text-align: left;background-color: #f0f8ff;}#sk-container-id-8 div.sk-toggleable__content pre {margin: 0.2em;color: black;border-radius: 0.25em;background-color: #f0f8ff;}#sk-container-id-8 input.sk-toggleable__control:checked~div.sk-toggleable__content {max-height: 200px;max-width: 100%;overflow: auto;}#sk-container-id-8 input.sk-toggleable__control:checked~label.sk-toggleable__label-arrow:before {content: \"▾\";}#sk-container-id-8 div.sk-estimator input.sk-toggleable__control:checked~label.sk-toggleable__label {background-color: #d4ebff;}#sk-container-id-8 div.sk-label input.sk-toggleable__control:checked~label.sk-toggleable__label {background-color: #d4ebff;}#sk-container-id-8 input.sk-hidden--visually {border: 0;clip: rect(1px 1px 1px 1px);clip: rect(1px, 1px, 1px, 1px);height: 1px;margin: -1px;overflow: hidden;padding: 0;position: absolute;width: 1px;}#sk-container-id-8 div.sk-estimator {font-family: monospace;background-color: #f0f8ff;border: 1px dotted black;border-radius: 0.25em;box-sizing: border-box;margin-bottom: 0.5em;}#sk-container-id-8 div.sk-estimator:hover {background-color: #d4ebff;}#sk-container-id-8 div.sk-parallel-item::after {content: \"\";width: 100%;border-bottom: 1px solid gray;flex-grow: 1;}#sk-container-id-8 div.sk-label:hover label.sk-toggleable__label {background-color: #d4ebff;}#sk-container-id-8 div.sk-serial::before {content: \"\";position: absolute;border-left: 1px solid gray;box-sizing: border-box;top: 0;bottom: 0;left: 50%;z-index: 0;}#sk-container-id-8 div.sk-serial {display: flex;flex-direction: column;align-items: center;background-color: white;padding-right: 0.2em;padding-left: 0.2em;position: relative;}#sk-container-id-8 div.sk-item {position: relative;z-index: 1;}#sk-container-id-8 div.sk-parallel {display: flex;align-items: stretch;justify-content: center;background-color: white;position: relative;}#sk-container-id-8 div.sk-item::before, #sk-container-id-8 div.sk-parallel-item::before {content: \"\";position: absolute;border-left: 1px solid gray;box-sizing: border-box;top: 0;bottom: 0;left: 50%;z-index: -1;}#sk-container-id-8 div.sk-parallel-item {display: flex;flex-direction: column;z-index: 1;position: relative;background-color: white;}#sk-container-id-8 div.sk-parallel-item:first-child::after {align-self: flex-end;width: 50%;}#sk-container-id-8 div.sk-parallel-item:last-child::after {align-self: flex-start;width: 50%;}#sk-container-id-8 div.sk-parallel-item:only-child::after {width: 0;}#sk-container-id-8 div.sk-dashed-wrapped {border: 1px dashed gray;margin: 0 0.4em 0.5em 0.4em;box-sizing: border-box;padding-bottom: 0.4em;background-color: white;}#sk-container-id-8 div.sk-label label {font-family: monospace;font-weight: bold;display: inline-block;line-height: 1.2em;}#sk-container-id-8 div.sk-label-container {text-align: center;}#sk-container-id-8 div.sk-container {/* jupyter's `normalize.less` sets `[hidden] { display: none; }` but bootstrap.min.css set `[hidden] { display: none !important; }` so we also need the `!important` here to be able to override the default hidden behavior on the sphinx rendered scikit-learn.org. See: https://github.com/scikit-learn/scikit-learn/issues/21755 */display: inline-block !important;position: relative;}#sk-container-id-8 div.sk-text-repr-fallback {display: none;}</style><div id=\"sk-container-id-8\" class=\"sk-top-container\"><div class=\"sk-text-repr-fallback\"><pre>XGBRegressor(base_score=None, booster=None, callbacks=None,\n",
       "             colsample_bylevel=None, colsample_bynode=None,\n",
       "             colsample_bytree=0.8, device=None, early_stopping_rounds=None,\n",
       "             enable_categorical=False, eval_metric=None, feature_types=None,\n",
       "             feature_weights=None, gamma=0, grow_policy=None,\n",
       "             importance_type=None, interaction_constraints=None,\n",
       "             learning_rate=0.05, max_bin=None, max_cat_threshold=None,\n",
       "             max_cat_to_onehot=None, max_delta_step=None, max_depth=8,\n",
       "             max_leaves=None, min_child_weight=5, missing=nan,\n",
       "             monotone_constraints=None, multi_strategy=None, n_estimators=500,\n",
       "             n_jobs=None, num_parallel_tree=None, ...)</pre><b>In a Jupyter environment, please rerun this cell to show the HTML representation or trust the notebook. <br />On GitHub, the HTML representation is unable to render, please try loading this page with nbviewer.org.</b></div><div class=\"sk-container\" hidden><div class=\"sk-item\"><div class=\"sk-estimator sk-toggleable\"><input class=\"sk-toggleable__control sk-hidden--visually\" id=\"sk-estimator-id-8\" type=\"checkbox\" checked><label for=\"sk-estimator-id-8\" class=\"sk-toggleable__label sk-toggleable__label-arrow\">XGBRegressor</label><div class=\"sk-toggleable__content\"><pre>XGBRegressor(base_score=None, booster=None, callbacks=None,\n",
       "             colsample_bylevel=None, colsample_bynode=None,\n",
       "             colsample_bytree=0.8, device=None, early_stopping_rounds=None,\n",
       "             enable_categorical=False, eval_metric=None, feature_types=None,\n",
       "             feature_weights=None, gamma=0, grow_policy=None,\n",
       "             importance_type=None, interaction_constraints=None,\n",
       "             learning_rate=0.05, max_bin=None, max_cat_threshold=None,\n",
       "             max_cat_to_onehot=None, max_delta_step=None, max_depth=8,\n",
       "             max_leaves=None, min_child_weight=5, missing=nan,\n",
       "             monotone_constraints=None, multi_strategy=None, n_estimators=500,\n",
       "             n_jobs=None, num_parallel_tree=None, ...)</pre></div></div></div></div></div>"
      ],
      "text/plain": [
       "XGBRegressor(base_score=None, booster=None, callbacks=None,\n",
       "             colsample_bylevel=None, colsample_bynode=None,\n",
       "             colsample_bytree=0.8, device=None, early_stopping_rounds=None,\n",
       "             enable_categorical=False, eval_metric=None, feature_types=None,\n",
       "             feature_weights=None, gamma=0, grow_policy=None,\n",
       "             importance_type=None, interaction_constraints=None,\n",
       "             learning_rate=0.05, max_bin=None, max_cat_threshold=None,\n",
       "             max_cat_to_onehot=None, max_delta_step=None, max_depth=8,\n",
       "             max_leaves=None, min_child_weight=5, missing=nan,\n",
       "             monotone_constraints=None, multi_strategy=None, n_estimators=500,\n",
       "             n_jobs=None, num_parallel_tree=None, ...)"
      ]
     },
     "execution_count": 111,
     "metadata": {},
     "output_type": "execute_result"
    }
   ],
   "source": [
    "xgb_model = XGBRegressor(\n",
    "    n_estimators=500,\n",
    "    learning_rate=0.05,\n",
    "    max_depth=8,\n",
    "    subsample=0.9,\n",
    "    colsample_bytree=0.8,\n",
    "    min_child_weight=5,\n",
    "    gamma=0,\n",
    "    random_state=42,\n",
    "    reg_alpha=1,        \n",
    "    reg_lambda=2,\n",
    ")\n",
    "\n",
    "xgb_model.fit(train_x_t3, train_y_t3)"
   ]
  },
  {
   "cell_type": "code",
   "execution_count": 112,
   "metadata": {},
   "outputs": [],
   "source": [
    "# 預測\n",
    "xgb_y_train_pred = xgb_model.predict(train_x_t3)\n",
    "xgb_y_test_pred = xgb_model.predict(test_x_t3)\n",
    "\n",
    "xgb_y_train_pred = scaler_y.inverse_transform(xgb_y_train_pred.reshape(-1, 1))\n",
    "xgb_y_test_pred = scaler_y.inverse_transform(xgb_y_test_pred.reshape(-1, 1))"
   ]
  },
  {
   "cell_type": "code",
   "execution_count": 113,
   "metadata": {},
   "outputs": [
    {
     "name": "stdout",
     "output_type": "stream",
     "text": [
      "\n",
      "📊 訓練集表現：\n",
      "Train ➤ MSE: 38392892329.77, RMSE: 195941.04, MAE: 104005.59\n",
      "\n",
      "📊 測試集表現：\n",
      "Test ➤ MSE: 2579115227716.12, RMSE: 1605962.40, MAE: 1497810.60\n"
     ]
    },
    {
     "data": {
      "text/plain": [
       "(2579115227716.123, 1605962.3992223863, 1497810.5984848484)"
      ]
     },
     "execution_count": 113,
     "metadata": {},
     "output_type": "execute_result"
    }
   ],
   "source": [
    "print(\"\\n📊 訓練集表現：\")\n",
    "eval_metrics(real_train_y, xgb_y_train_pred, \"Train\")\n",
    "\n",
    "print(\"\\n📊 測試集表現：\")\n",
    "eval_metrics(real_test_y, xgb_y_test_pred, \"Test\")"
   ]
  },
  {
   "cell_type": "markdown",
   "metadata": {},
   "source": [
    "## RF"
   ]
  },
  {
   "cell_type": "code",
   "execution_count": 114,
   "metadata": {},
   "outputs": [],
   "source": [
    "from sklearn.ensemble import RandomForestRegressor"
   ]
  },
  {
   "cell_type": "code",
   "execution_count": 115,
   "metadata": {},
   "outputs": [
    {
     "name": "stderr",
     "output_type": "stream",
     "text": [
      "/var/folders/2n/bnnv_n796gg_v86gjzv7j07c0000gn/T/ipykernel_86949/3317303433.py:7: DataConversionWarning: A column-vector y was passed when a 1d array was expected. Please change the shape of y to (n_samples,), for example using ravel().\n",
      "  rf_model.fit(train_x_t3, train_y_t3)\n"
     ]
    },
    {
     "data": {
      "text/html": [
       "<style>#sk-container-id-9 {color: black;background-color: white;}#sk-container-id-9 pre{padding: 0;}#sk-container-id-9 div.sk-toggleable {background-color: white;}#sk-container-id-9 label.sk-toggleable__label {cursor: pointer;display: block;width: 100%;margin-bottom: 0;padding: 0.3em;box-sizing: border-box;text-align: center;}#sk-container-id-9 label.sk-toggleable__label-arrow:before {content: \"▸\";float: left;margin-right: 0.25em;color: #696969;}#sk-container-id-9 label.sk-toggleable__label-arrow:hover:before {color: black;}#sk-container-id-9 div.sk-estimator:hover label.sk-toggleable__label-arrow:before {color: black;}#sk-container-id-9 div.sk-toggleable__content {max-height: 0;max-width: 0;overflow: hidden;text-align: left;background-color: #f0f8ff;}#sk-container-id-9 div.sk-toggleable__content pre {margin: 0.2em;color: black;border-radius: 0.25em;background-color: #f0f8ff;}#sk-container-id-9 input.sk-toggleable__control:checked~div.sk-toggleable__content {max-height: 200px;max-width: 100%;overflow: auto;}#sk-container-id-9 input.sk-toggleable__control:checked~label.sk-toggleable__label-arrow:before {content: \"▾\";}#sk-container-id-9 div.sk-estimator input.sk-toggleable__control:checked~label.sk-toggleable__label {background-color: #d4ebff;}#sk-container-id-9 div.sk-label input.sk-toggleable__control:checked~label.sk-toggleable__label {background-color: #d4ebff;}#sk-container-id-9 input.sk-hidden--visually {border: 0;clip: rect(1px 1px 1px 1px);clip: rect(1px, 1px, 1px, 1px);height: 1px;margin: -1px;overflow: hidden;padding: 0;position: absolute;width: 1px;}#sk-container-id-9 div.sk-estimator {font-family: monospace;background-color: #f0f8ff;border: 1px dotted black;border-radius: 0.25em;box-sizing: border-box;margin-bottom: 0.5em;}#sk-container-id-9 div.sk-estimator:hover {background-color: #d4ebff;}#sk-container-id-9 div.sk-parallel-item::after {content: \"\";width: 100%;border-bottom: 1px solid gray;flex-grow: 1;}#sk-container-id-9 div.sk-label:hover label.sk-toggleable__label {background-color: #d4ebff;}#sk-container-id-9 div.sk-serial::before {content: \"\";position: absolute;border-left: 1px solid gray;box-sizing: border-box;top: 0;bottom: 0;left: 50%;z-index: 0;}#sk-container-id-9 div.sk-serial {display: flex;flex-direction: column;align-items: center;background-color: white;padding-right: 0.2em;padding-left: 0.2em;position: relative;}#sk-container-id-9 div.sk-item {position: relative;z-index: 1;}#sk-container-id-9 div.sk-parallel {display: flex;align-items: stretch;justify-content: center;background-color: white;position: relative;}#sk-container-id-9 div.sk-item::before, #sk-container-id-9 div.sk-parallel-item::before {content: \"\";position: absolute;border-left: 1px solid gray;box-sizing: border-box;top: 0;bottom: 0;left: 50%;z-index: -1;}#sk-container-id-9 div.sk-parallel-item {display: flex;flex-direction: column;z-index: 1;position: relative;background-color: white;}#sk-container-id-9 div.sk-parallel-item:first-child::after {align-self: flex-end;width: 50%;}#sk-container-id-9 div.sk-parallel-item:last-child::after {align-self: flex-start;width: 50%;}#sk-container-id-9 div.sk-parallel-item:only-child::after {width: 0;}#sk-container-id-9 div.sk-dashed-wrapped {border: 1px dashed gray;margin: 0 0.4em 0.5em 0.4em;box-sizing: border-box;padding-bottom: 0.4em;background-color: white;}#sk-container-id-9 div.sk-label label {font-family: monospace;font-weight: bold;display: inline-block;line-height: 1.2em;}#sk-container-id-9 div.sk-label-container {text-align: center;}#sk-container-id-9 div.sk-container {/* jupyter's `normalize.less` sets `[hidden] { display: none; }` but bootstrap.min.css set `[hidden] { display: none !important; }` so we also need the `!important` here to be able to override the default hidden behavior on the sphinx rendered scikit-learn.org. See: https://github.com/scikit-learn/scikit-learn/issues/21755 */display: inline-block !important;position: relative;}#sk-container-id-9 div.sk-text-repr-fallback {display: none;}</style><div id=\"sk-container-id-9\" class=\"sk-top-container\"><div class=\"sk-text-repr-fallback\"><pre>RandomForestRegressor(max_features=0.8, min_samples_leaf=4, n_estimators=500,\n",
       "                      random_state=42)</pre><b>In a Jupyter environment, please rerun this cell to show the HTML representation or trust the notebook. <br />On GitHub, the HTML representation is unable to render, please try loading this page with nbviewer.org.</b></div><div class=\"sk-container\" hidden><div class=\"sk-item\"><div class=\"sk-estimator sk-toggleable\"><input class=\"sk-toggleable__control sk-hidden--visually\" id=\"sk-estimator-id-9\" type=\"checkbox\" checked><label for=\"sk-estimator-id-9\" class=\"sk-toggleable__label sk-toggleable__label-arrow\">RandomForestRegressor</label><div class=\"sk-toggleable__content\"><pre>RandomForestRegressor(max_features=0.8, min_samples_leaf=4, n_estimators=500,\n",
       "                      random_state=42)</pre></div></div></div></div></div>"
      ],
      "text/plain": [
       "RandomForestRegressor(max_features=0.8, min_samples_leaf=4, n_estimators=500,\n",
       "                      random_state=42)"
      ]
     },
     "execution_count": 115,
     "metadata": {},
     "output_type": "execute_result"
    }
   ],
   "source": [
    "rf_model = RandomForestRegressor(\n",
    "    n_estimators=500, \n",
    "    min_samples_leaf=4,  \n",
    "    max_features=0.8, \n",
    "    random_state=42,\n",
    ")\n",
    "rf_model.fit(train_x_t3, train_y_t3)"
   ]
  },
  {
   "cell_type": "code",
   "execution_count": 116,
   "metadata": {},
   "outputs": [],
   "source": [
    "# 預測\n",
    "rf_y_train_pred = rf_model.predict(train_x_t3)\n",
    "rf_y_test_pred = rf_model.predict(test_x_t3)\n",
    "\n",
    "\n",
    "rf_y_train_pred = scaler_y.inverse_transform(rf_y_train_pred.reshape(-1, 1))\n",
    "rf_y_test_pred = scaler_y.inverse_transform(rf_y_test_pred.reshape(-1, 1))"
   ]
  },
  {
   "cell_type": "code",
   "execution_count": 117,
   "metadata": {},
   "outputs": [
    {
     "name": "stdout",
     "output_type": "stream",
     "text": [
      "\n",
      "📊 訓練集表現：\n",
      "Train ➤ MSE: 2155896954.92, RMSE: 46431.64, MAE: 32389.85\n",
      "\n",
      "📊 測試集表現：\n",
      "Test ➤ MSE: 1289088660624.54, RMSE: 1135380.40, MAE: 969244.63\n"
     ]
    },
    {
     "data": {
      "text/plain": [
       "(1289088660624.543, 1135380.4034879864, 969244.6272989165)"
      ]
     },
     "execution_count": 117,
     "metadata": {},
     "output_type": "execute_result"
    }
   ],
   "source": [
    "print(\"\\n📊 訓練集表現：\")\n",
    "eval_metrics(real_train_y, rf_y_train_pred, \"Train\")\n",
    "\n",
    "print(\"\\n📊 測試集表現：\")\n",
    "eval_metrics(real_test_y, rf_y_test_pred, \"Test\")"
   ]
  }
 ],
 "metadata": {
  "kernelspec": {
   "display_name": "base",
   "language": "python",
   "name": "python3"
  },
  "language_info": {
   "codemirror_mode": {
    "name": "ipython",
    "version": 3
   },
   "file_extension": ".py",
   "mimetype": "text/x-python",
   "name": "python",
   "nbconvert_exporter": "python",
   "pygments_lexer": "ipython3",
   "version": "3.11.7"
  }
 },
 "nbformat": 4,
 "nbformat_minor": 2
}
