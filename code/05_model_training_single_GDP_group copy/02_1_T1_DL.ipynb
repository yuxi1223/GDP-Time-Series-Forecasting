{
 "cells": [
  {
   "cell_type": "markdown",
   "metadata": {},
   "source": [
    "# Data"
   ]
  },
  {
   "cell_type": "code",
   "execution_count": 1,
   "metadata": {},
   "outputs": [
    {
     "data": {
      "text/plain": [
       "True"
      ]
     },
     "execution_count": 1,
     "metadata": {},
     "output_type": "execute_result"
    }
   ],
   "source": [
    "from dotenv import load_dotenv\n",
    "load_dotenv()"
   ]
  },
  {
   "cell_type": "markdown",
   "metadata": {
    "vscode": {
     "languageId": "plaintext"
    }
   },
   "source": [
    "## 01 data loading"
   ]
  },
  {
   "cell_type": "code",
   "execution_count": 2,
   "metadata": {},
   "outputs": [],
   "source": [
    "import os\n",
    "import pandas as pd\n",
    "import numpy as np"
   ]
  },
  {
   "cell_type": "code",
   "execution_count": 3,
   "metadata": {},
   "outputs": [],
   "source": [
    "base_path = os.path.dirname(os.path.dirname(os.getcwd()))\n",
    "x_path = os.path.join(base_path,os.getenv(\"Y_LABEL\"))\n",
    "y_path = os.path.join(base_path,os.getenv(\"Y_LABEL\"))"
   ]
  },
  {
   "cell_type": "code",
   "execution_count": 4,
   "metadata": {},
   "outputs": [],
   "source": [
    "x_df = pd.read_csv(x_path) \n",
    "y_df = pd.read_csv(y_path) "
   ]
  },
  {
   "cell_type": "code",
   "execution_count": 5,
   "metadata": {},
   "outputs": [],
   "source": [
    "y_df=y_df.drop(columns=[\"年份\",\"季別\"])\n",
    "x_df=x_df.drop(columns=[\"年份\",\"季別\"])"
   ]
  },
  {
   "cell_type": "code",
   "execution_count": 6,
   "metadata": {},
   "outputs": [
    {
     "data": {
      "text/html": [
       "<div>\n",
       "<style scoped>\n",
       "    .dataframe tbody tr th:only-of-type {\n",
       "        vertical-align: middle;\n",
       "    }\n",
       "\n",
       "    .dataframe tbody tr th {\n",
       "        vertical-align: top;\n",
       "    }\n",
       "\n",
       "    .dataframe thead th {\n",
       "        text-align: right;\n",
       "    }\n",
       "</style>\n",
       "<table border=\"1\" class=\"dataframe\">\n",
       "  <thead>\n",
       "    <tr style=\"text-align: right;\">\n",
       "      <th></th>\n",
       "      <th>GDP</th>\n",
       "    </tr>\n",
       "  </thead>\n",
       "  <tbody>\n",
       "    <tr>\n",
       "      <th>0</th>\n",
       "      <td>461774</td>\n",
       "    </tr>\n",
       "    <tr>\n",
       "      <th>1</th>\n",
       "      <td>488234</td>\n",
       "    </tr>\n",
       "    <tr>\n",
       "      <th>2</th>\n",
       "      <td>489504</td>\n",
       "    </tr>\n",
       "    <tr>\n",
       "      <th>3</th>\n",
       "      <td>498511</td>\n",
       "    </tr>\n",
       "    <tr>\n",
       "      <th>4</th>\n",
       "      <td>495361</td>\n",
       "    </tr>\n",
       "    <tr>\n",
       "      <th>...</th>\n",
       "      <td>...</td>\n",
       "    </tr>\n",
       "    <tr>\n",
       "      <th>167</th>\n",
       "      <td>6380686</td>\n",
       "    </tr>\n",
       "    <tr>\n",
       "      <th>168</th>\n",
       "      <td>6111775</td>\n",
       "    </tr>\n",
       "    <tr>\n",
       "      <th>169</th>\n",
       "      <td>6233160</td>\n",
       "    </tr>\n",
       "    <tr>\n",
       "      <th>170</th>\n",
       "      <td>6437479</td>\n",
       "    </tr>\n",
       "    <tr>\n",
       "      <th>171</th>\n",
       "      <td>6810440</td>\n",
       "    </tr>\n",
       "  </tbody>\n",
       "</table>\n",
       "<p>172 rows × 1 columns</p>\n",
       "</div>"
      ],
      "text/plain": [
       "         GDP\n",
       "0     461774\n",
       "1     488234\n",
       "2     489504\n",
       "3     498511\n",
       "4     495361\n",
       "..       ...\n",
       "167  6380686\n",
       "168  6111775\n",
       "169  6233160\n",
       "170  6437479\n",
       "171  6810440\n",
       "\n",
       "[172 rows x 1 columns]"
      ]
     },
     "execution_count": 6,
     "metadata": {},
     "output_type": "execute_result"
    }
   ],
   "source": [
    "y_df"
   ]
  },
  {
   "cell_type": "code",
   "execution_count": 7,
   "metadata": {},
   "outputs": [
    {
     "data": {
      "text/html": [
       "<div>\n",
       "<style scoped>\n",
       "    .dataframe tbody tr th:only-of-type {\n",
       "        vertical-align: middle;\n",
       "    }\n",
       "\n",
       "    .dataframe tbody tr th {\n",
       "        vertical-align: top;\n",
       "    }\n",
       "\n",
       "    .dataframe thead th {\n",
       "        text-align: right;\n",
       "    }\n",
       "</style>\n",
       "<table border=\"1\" class=\"dataframe\">\n",
       "  <thead>\n",
       "    <tr style=\"text-align: right;\">\n",
       "      <th></th>\n",
       "      <th>GDP</th>\n",
       "    </tr>\n",
       "  </thead>\n",
       "  <tbody>\n",
       "    <tr>\n",
       "      <th>0</th>\n",
       "      <td>461774</td>\n",
       "    </tr>\n",
       "    <tr>\n",
       "      <th>1</th>\n",
       "      <td>488234</td>\n",
       "    </tr>\n",
       "    <tr>\n",
       "      <th>2</th>\n",
       "      <td>489504</td>\n",
       "    </tr>\n",
       "    <tr>\n",
       "      <th>3</th>\n",
       "      <td>498511</td>\n",
       "    </tr>\n",
       "    <tr>\n",
       "      <th>4</th>\n",
       "      <td>495361</td>\n",
       "    </tr>\n",
       "    <tr>\n",
       "      <th>...</th>\n",
       "      <td>...</td>\n",
       "    </tr>\n",
       "    <tr>\n",
       "      <th>167</th>\n",
       "      <td>6380686</td>\n",
       "    </tr>\n",
       "    <tr>\n",
       "      <th>168</th>\n",
       "      <td>6111775</td>\n",
       "    </tr>\n",
       "    <tr>\n",
       "      <th>169</th>\n",
       "      <td>6233160</td>\n",
       "    </tr>\n",
       "    <tr>\n",
       "      <th>170</th>\n",
       "      <td>6437479</td>\n",
       "    </tr>\n",
       "    <tr>\n",
       "      <th>171</th>\n",
       "      <td>6810440</td>\n",
       "    </tr>\n",
       "  </tbody>\n",
       "</table>\n",
       "<p>172 rows × 1 columns</p>\n",
       "</div>"
      ],
      "text/plain": [
       "         GDP\n",
       "0     461774\n",
       "1     488234\n",
       "2     489504\n",
       "3     498511\n",
       "4     495361\n",
       "..       ...\n",
       "167  6380686\n",
       "168  6111775\n",
       "169  6233160\n",
       "170  6437479\n",
       "171  6810440\n",
       "\n",
       "[172 rows x 1 columns]"
      ]
     },
     "execution_count": 7,
     "metadata": {},
     "output_type": "execute_result"
    }
   ],
   "source": [
    "x_df"
   ]
  },
  {
   "cell_type": "markdown",
   "metadata": {},
   "source": [
    "## 02 data MinMaxScaler"
   ]
  },
  {
   "cell_type": "code",
   "execution_count": 7,
   "metadata": {},
   "outputs": [],
   "source": [
    "from sklearn.preprocessing import MinMaxScaler"
   ]
  },
  {
   "cell_type": "code",
   "execution_count": 8,
   "metadata": {},
   "outputs": [],
   "source": [
    "scaler_X = MinMaxScaler()\n",
    "scaler_y = MinMaxScaler()\n",
    "\n",
    "X_scaled = scaler_X.fit_transform(x_df)\n",
    "y_scaled = scaler_y.fit_transform(y_df)"
   ]
  },
  {
   "cell_type": "code",
   "execution_count": 9,
   "metadata": {},
   "outputs": [],
   "source": [
    "X_seq,y_seq=[],[]\n",
    "\n",
    "\n",
    "for i in range(4,len(X_scaled)):\n",
    "    X_seq.append([X_scaled[i-1]])\n",
    "\n",
    "for i in range(4,len(y_scaled)):\n",
    "    y_seq.append([y_scaled[i]])\n",
    "\n",
    "X_seq=np.array(X_seq)\n",
    "y_seq=np.array(y_seq)\n"
   ]
  },
  {
   "cell_type": "markdown",
   "metadata": {},
   "source": [
    "## 03 data spliting 80 & 20"
   ]
  },
  {
   "cell_type": "code",
   "execution_count": 10,
   "metadata": {},
   "outputs": [],
   "source": [
    "train_size = int(len(X_seq) * 0.8)\n",
    "lstm_X_train, lstm_X_test = X_seq[:train_size], X_seq[train_size:]\n",
    "lstm_y_train, lstm_y_test = y_seq[:train_size], y_seq[train_size:]\n"
   ]
  },
  {
   "cell_type": "markdown",
   "metadata": {},
   "source": [
    "# Model-LSTM"
   ]
  },
  {
   "cell_type": "markdown",
   "metadata": {},
   "source": [
    "- train 1983 Q1 to 2015 Q3\n",
    "- test  2015 Q4 to 2023 Q4"
   ]
  },
  {
   "cell_type": "code",
   "execution_count": 11,
   "metadata": {},
   "outputs": [],
   "source": [
    "from tensorflow.keras.models import Sequential\n",
    "from tensorflow.keras.layers import LSTM, Dense\n",
    "from keras.callbacks import EarlyStopping\n",
    "from keras.regularizers import l2\n",
    "from sklearn.metrics import mean_squared_error, mean_absolute_error\n",
    "\n",
    "import matplotlib.pyplot as plt"
   ]
  },
  {
   "cell_type": "code",
   "execution_count": 12,
   "metadata": {},
   "outputs": [],
   "source": [
    "def evaluate_performance(y_true_scaled, y_pred_scaled, scaler, dataset_name=\"\"):\n",
    "    y_true = scaler.inverse_transform(y_true_scaled)\n",
    "    y_pred = scaler.inverse_transform(y_pred_scaled)\n",
    "\n",
    "    mse = mean_squared_error(y_true, y_pred)\n",
    "    rmse = mean_squared_error(y_true, y_pred)** 0.5\n",
    "    mae = mean_absolute_error(y_true, y_pred)\n",
    "\n",
    "    print(f\"\\n📊 {dataset_name} Performance:\")\n",
    "    print(f\"  MSE:  {mse:.2f}\")\n",
    "    print(f\"  RMSE: {rmse:.2f}\")\n",
    "    print(f\"  MAE:  {mae:.2f}\")"
   ]
  },
  {
   "cell_type": "code",
   "execution_count": 13,
   "metadata": {},
   "outputs": [],
   "source": [
    "def plot_gdp_forecast(year,name, test_actual, test_pred):\n",
    "    plt.figure(figsize=(16, 7))\n",
    "\n",
    "    # 畫出四條線\n",
    "    plt.plot(year.iloc[138:],test_actual, label='Test Actual', color='green', linestyle='-')\n",
    "    plt.plot(year.iloc[138:],test_pred, label='Test Predicted', color='orange', linestyle='--')\n",
    "\n",
    "    # 標題與座標軸\n",
    "    plt.title(f'GDP Forecast with {name}', fontsize=16)\n",
    "    plt.xlabel('Time', fontsize=14)\n",
    "    plt.ylabel('GDP Value', fontsize=14)\n",
    "\n",
    "    plt.xticks(year[138:],rotation=45)\n",
    "    \n",
    "    # 顯示圖例\n",
    "    plt.legend()\n",
    "\n",
    "    # 顯示網格\n",
    "    plt.grid(True, linestyle='--', alpha=0.7)\n",
    "\n",
    "    # 顯示圖片\n",
    "    plt.show()"
   ]
  },
  {
   "cell_type": "code",
   "execution_count": 14,
   "metadata": {},
   "outputs": [],
   "source": [
    "from tensorflow.keras.models import Sequential\n",
    "from tensorflow.keras.layers import LSTM, Dense\n",
    "from tensorflow.keras.callbacks import EarlyStopping\n",
    "from tensorflow.keras.optimizers import Adam, RMSprop\n",
    "from itertools import product\n",
    "from tensorflow.keras.optimizers import Adam, RMSprop, Nadam\n"
   ]
  },
  {
   "cell_type": "code",
   "execution_count": null,
   "metadata": {},
   "outputs": [
    {
     "name": "stdout",
     "output_type": "stream",
     "text": [
      "Training with: {'units': 64, 'batch_size': 8, 'optimizer': 'adam', 'dropout': 0.0, 'recurrent_dropout': 0.0}\n"
     ]
    },
    {
     "name": "stderr",
     "output_type": "stream",
     "text": [
      "/opt/anaconda3/lib/python3.11/site-packages/keras/src/layers/rnn/rnn.py:200: UserWarning: Do not pass an `input_shape`/`input_dim` argument to a layer. When using Sequential models, prefer using an `Input(shape)` object as the first layer in the model instead.\n",
      "  super().__init__(**kwargs)\n"
     ]
    },
    {
     "name": "stdout",
     "output_type": "stream",
     "text": [
      "→ val_loss: 0.00029\n",
      "Training with: {'units': 64, 'batch_size': 8, 'optimizer': 'adam', 'dropout': 0.0, 'recurrent_dropout': 0.2}\n",
      "→ val_loss: 0.00029\n",
      "Training with: {'units': 64, 'batch_size': 8, 'optimizer': 'adam', 'dropout': 0.2, 'recurrent_dropout': 0.0}\n",
      "→ val_loss: 0.01796\n",
      "Training with: {'units': 64, 'batch_size': 8, 'optimizer': 'adam', 'dropout': 0.2, 'recurrent_dropout': 0.2}\n",
      "→ val_loss: 0.01368\n",
      "Training with: {'units': 64, 'batch_size': 8, 'optimizer': 'rmsprop', 'dropout': 0.0, 'recurrent_dropout': 0.0}\n",
      "→ val_loss: 0.00027\n",
      "Training with: {'units': 64, 'batch_size': 8, 'optimizer': 'rmsprop', 'dropout': 0.0, 'recurrent_dropout': 0.2}\n",
      "→ val_loss: 0.00026\n",
      "Training with: {'units': 64, 'batch_size': 8, 'optimizer': 'rmsprop', 'dropout': 0.2, 'recurrent_dropout': 0.0}\n",
      "→ val_loss: 0.01506\n",
      "Training with: {'units': 64, 'batch_size': 8, 'optimizer': 'rmsprop', 'dropout': 0.2, 'recurrent_dropout': 0.2}\n",
      "→ val_loss: 0.01610\n",
      "Training with: {'units': 64, 'batch_size': 8, 'optimizer': 'nadam', 'dropout': 0.0, 'recurrent_dropout': 0.0}\n",
      "→ val_loss: 0.00029\n",
      "Training with: {'units': 64, 'batch_size': 8, 'optimizer': 'nadam', 'dropout': 0.0, 'recurrent_dropout': 0.2}\n",
      "→ val_loss: 0.00030\n",
      "Training with: {'units': 64, 'batch_size': 8, 'optimizer': 'nadam', 'dropout': 0.2, 'recurrent_dropout': 0.0}\n",
      "→ val_loss: 0.01543\n",
      "Training with: {'units': 64, 'batch_size': 8, 'optimizer': 'nadam', 'dropout': 0.2, 'recurrent_dropout': 0.2}\n",
      "→ val_loss: 0.01302\n",
      "Training with: {'units': 64, 'batch_size': 16, 'optimizer': 'adam', 'dropout': 0.0, 'recurrent_dropout': 0.0}\n",
      "→ val_loss: 0.00034\n",
      "Training with: {'units': 64, 'batch_size': 16, 'optimizer': 'adam', 'dropout': 0.0, 'recurrent_dropout': 0.2}\n",
      "→ val_loss: 0.00068\n",
      "Training with: {'units': 64, 'batch_size': 16, 'optimizer': 'adam', 'dropout': 0.2, 'recurrent_dropout': 0.0}\n",
      "→ val_loss: 0.01974\n",
      "Training with: {'units': 64, 'batch_size': 16, 'optimizer': 'adam', 'dropout': 0.2, 'recurrent_dropout': 0.2}\n",
      "→ val_loss: 0.01656\n",
      "Training with: {'units': 64, 'batch_size': 16, 'optimizer': 'rmsprop', 'dropout': 0.0, 'recurrent_dropout': 0.0}\n",
      "→ val_loss: 0.00026\n",
      "Training with: {'units': 64, 'batch_size': 16, 'optimizer': 'rmsprop', 'dropout': 0.0, 'recurrent_dropout': 0.2}\n",
      "→ val_loss: 0.00027\n",
      "Training with: {'units': 64, 'batch_size': 16, 'optimizer': 'rmsprop', 'dropout': 0.2, 'recurrent_dropout': 0.0}\n",
      "→ val_loss: 0.01687\n",
      "Training with: {'units': 64, 'batch_size': 16, 'optimizer': 'rmsprop', 'dropout': 0.2, 'recurrent_dropout': 0.2}\n",
      "→ val_loss: 0.01646\n",
      "Training with: {'units': 64, 'batch_size': 16, 'optimizer': 'nadam', 'dropout': 0.0, 'recurrent_dropout': 0.0}\n",
      "→ val_loss: 0.00053\n",
      "Training with: {'units': 64, 'batch_size': 16, 'optimizer': 'nadam', 'dropout': 0.0, 'recurrent_dropout': 0.2}\n",
      "→ val_loss: 0.00033\n",
      "Training with: {'units': 64, 'batch_size': 16, 'optimizer': 'nadam', 'dropout': 0.2, 'recurrent_dropout': 0.0}\n",
      "→ val_loss: 0.01792\n",
      "Training with: {'units': 64, 'batch_size': 16, 'optimizer': 'nadam', 'dropout': 0.2, 'recurrent_dropout': 0.2}\n",
      "→ val_loss: 0.01716\n",
      "Training with: {'units': 64, 'batch_size': 32, 'optimizer': 'adam', 'dropout': 0.0, 'recurrent_dropout': 0.0}\n",
      "→ val_loss: 0.02100\n",
      "Training with: {'units': 64, 'batch_size': 32, 'optimizer': 'adam', 'dropout': 0.0, 'recurrent_dropout': 0.2}\n",
      "→ val_loss: 0.01228\n",
      "Training with: {'units': 64, 'batch_size': 32, 'optimizer': 'adam', 'dropout': 0.2, 'recurrent_dropout': 0.0}\n",
      "→ val_loss: 0.02675\n",
      "Training with: {'units': 64, 'batch_size': 32, 'optimizer': 'adam', 'dropout': 0.2, 'recurrent_dropout': 0.2}\n",
      "→ val_loss: 0.02897\n",
      "Training with: {'units': 64, 'batch_size': 32, 'optimizer': 'rmsprop', 'dropout': 0.0, 'recurrent_dropout': 0.0}\n",
      "→ val_loss: 0.00615\n",
      "Training with: {'units': 64, 'batch_size': 32, 'optimizer': 'rmsprop', 'dropout': 0.0, 'recurrent_dropout': 0.2}\n",
      "→ val_loss: 0.00212\n",
      "Training with: {'units': 64, 'batch_size': 32, 'optimizer': 'rmsprop', 'dropout': 0.2, 'recurrent_dropout': 0.0}\n",
      "→ val_loss: 0.01968\n",
      "Training with: {'units': 64, 'batch_size': 32, 'optimizer': 'rmsprop', 'dropout': 0.2, 'recurrent_dropout': 0.2}\n",
      "→ val_loss: 0.01725\n",
      "Training with: {'units': 64, 'batch_size': 32, 'optimizer': 'nadam', 'dropout': 0.0, 'recurrent_dropout': 0.0}\n",
      "→ val_loss: 0.00705\n",
      "Training with: {'units': 64, 'batch_size': 32, 'optimizer': 'nadam', 'dropout': 0.0, 'recurrent_dropout': 0.2}\n",
      "→ val_loss: 0.01660\n",
      "Training with: {'units': 64, 'batch_size': 32, 'optimizer': 'nadam', 'dropout': 0.2, 'recurrent_dropout': 0.0}\n",
      "→ val_loss: 0.03239\n",
      "Training with: {'units': 64, 'batch_size': 32, 'optimizer': 'nadam', 'dropout': 0.2, 'recurrent_dropout': 0.2}\n",
      "→ val_loss: 0.02849\n",
      "Training with: {'units': 128, 'batch_size': 8, 'optimizer': 'adam', 'dropout': 0.0, 'recurrent_dropout': 0.0}\n",
      "→ val_loss: 0.00029\n",
      "Training with: {'units': 128, 'batch_size': 8, 'optimizer': 'adam', 'dropout': 0.0, 'recurrent_dropout': 0.2}\n",
      "→ val_loss: 0.00029\n",
      "Training with: {'units': 128, 'batch_size': 8, 'optimizer': 'adam', 'dropout': 0.2, 'recurrent_dropout': 0.0}\n",
      "→ val_loss: 0.01691\n",
      "Training with: {'units': 128, 'batch_size': 8, 'optimizer': 'adam', 'dropout': 0.2, 'recurrent_dropout': 0.2}\n",
      "→ val_loss: 0.01120\n",
      "Training with: {'units': 128, 'batch_size': 8, 'optimizer': 'rmsprop', 'dropout': 0.0, 'recurrent_dropout': 0.0}\n",
      "→ val_loss: 0.00026\n",
      "Training with: {'units': 128, 'batch_size': 8, 'optimizer': 'rmsprop', 'dropout': 0.0, 'recurrent_dropout': 0.2}\n",
      "→ val_loss: 0.00026\n",
      "Training with: {'units': 128, 'batch_size': 8, 'optimizer': 'rmsprop', 'dropout': 0.2, 'recurrent_dropout': 0.0}\n",
      "→ val_loss: 0.01346\n",
      "Training with: {'units': 128, 'batch_size': 8, 'optimizer': 'rmsprop', 'dropout': 0.2, 'recurrent_dropout': 0.2}\n",
      "→ val_loss: 0.01279\n",
      "Training with: {'units': 128, 'batch_size': 8, 'optimizer': 'nadam', 'dropout': 0.0, 'recurrent_dropout': 0.0}\n",
      "→ val_loss: 0.00029\n",
      "Training with: {'units': 128, 'batch_size': 8, 'optimizer': 'nadam', 'dropout': 0.0, 'recurrent_dropout': 0.2}\n",
      "→ val_loss: 0.00029\n",
      "Training with: {'units': 128, 'batch_size': 8, 'optimizer': 'nadam', 'dropout': 0.2, 'recurrent_dropout': 0.0}\n",
      "→ val_loss: 0.01567\n",
      "Training with: {'units': 128, 'batch_size': 8, 'optimizer': 'nadam', 'dropout': 0.2, 'recurrent_dropout': 0.2}\n",
      "→ val_loss: 0.01432\n",
      "Training with: {'units': 128, 'batch_size': 16, 'optimizer': 'adam', 'dropout': 0.0, 'recurrent_dropout': 0.0}\n",
      "→ val_loss: 0.00029\n",
      "Training with: {'units': 128, 'batch_size': 16, 'optimizer': 'adam', 'dropout': 0.0, 'recurrent_dropout': 0.2}\n",
      "→ val_loss: 0.00029\n",
      "Training with: {'units': 128, 'batch_size': 16, 'optimizer': 'adam', 'dropout': 0.2, 'recurrent_dropout': 0.0}\n",
      "→ val_loss: 0.01640\n",
      "Training with: {'units': 128, 'batch_size': 16, 'optimizer': 'adam', 'dropout': 0.2, 'recurrent_dropout': 0.2}\n",
      "→ val_loss: 0.01450\n",
      "Training with: {'units': 128, 'batch_size': 16, 'optimizer': 'rmsprop', 'dropout': 0.0, 'recurrent_dropout': 0.0}\n",
      "→ val_loss: 0.00026\n",
      "Training with: {'units': 128, 'batch_size': 16, 'optimizer': 'rmsprop', 'dropout': 0.0, 'recurrent_dropout': 0.2}\n",
      "→ val_loss: 0.00026\n",
      "Training with: {'units': 128, 'batch_size': 16, 'optimizer': 'rmsprop', 'dropout': 0.2, 'recurrent_dropout': 0.0}\n",
      "→ val_loss: 0.01815\n",
      "Training with: {'units': 128, 'batch_size': 16, 'optimizer': 'rmsprop', 'dropout': 0.2, 'recurrent_dropout': 0.2}\n",
      "→ val_loss: 0.01743\n",
      "Training with: {'units': 128, 'batch_size': 16, 'optimizer': 'nadam', 'dropout': 0.0, 'recurrent_dropout': 0.0}\n",
      "→ val_loss: 0.00029\n",
      "Training with: {'units': 128, 'batch_size': 16, 'optimizer': 'nadam', 'dropout': 0.0, 'recurrent_dropout': 0.2}\n",
      "→ val_loss: 0.00029\n",
      "Training with: {'units': 128, 'batch_size': 16, 'optimizer': 'nadam', 'dropout': 0.2, 'recurrent_dropout': 0.0}\n",
      "→ val_loss: 0.01698\n",
      "Training with: {'units': 128, 'batch_size': 16, 'optimizer': 'nadam', 'dropout': 0.2, 'recurrent_dropout': 0.2}\n",
      "→ val_loss: 0.01668\n",
      "Training with: {'units': 128, 'batch_size': 32, 'optimizer': 'adam', 'dropout': 0.0, 'recurrent_dropout': 0.0}\n",
      "→ val_loss: 0.00419\n",
      "Training with: {'units': 128, 'batch_size': 32, 'optimizer': 'adam', 'dropout': 0.0, 'recurrent_dropout': 0.2}\n",
      "→ val_loss: 0.00361\n",
      "Training with: {'units': 128, 'batch_size': 32, 'optimizer': 'adam', 'dropout': 0.2, 'recurrent_dropout': 0.0}\n",
      "→ val_loss: 0.02314\n",
      "Training with: {'units': 128, 'batch_size': 32, 'optimizer': 'adam', 'dropout': 0.2, 'recurrent_dropout': 0.2}\n",
      "→ val_loss: 0.02338\n",
      "Training with: {'units': 128, 'batch_size': 32, 'optimizer': 'rmsprop', 'dropout': 0.0, 'recurrent_dropout': 0.0}\n",
      "→ val_loss: 0.00031\n",
      "Training with: {'units': 128, 'batch_size': 32, 'optimizer': 'rmsprop', 'dropout': 0.0, 'recurrent_dropout': 0.2}\n",
      "→ val_loss: 0.00026\n",
      "Training with: {'units': 128, 'batch_size': 32, 'optimizer': 'rmsprop', 'dropout': 0.2, 'recurrent_dropout': 0.0}\n",
      "→ val_loss: 0.01740\n",
      "Training with: {'units': 128, 'batch_size': 32, 'optimizer': 'rmsprop', 'dropout': 0.2, 'recurrent_dropout': 0.2}\n",
      "→ val_loss: 0.01347\n",
      "Training with: {'units': 128, 'batch_size': 32, 'optimizer': 'nadam', 'dropout': 0.0, 'recurrent_dropout': 0.0}\n",
      "→ val_loss: 0.00396\n",
      "Training with: {'units': 128, 'batch_size': 32, 'optimizer': 'nadam', 'dropout': 0.0, 'recurrent_dropout': 0.2}\n",
      "→ val_loss: 0.00465\n",
      "Training with: {'units': 128, 'batch_size': 32, 'optimizer': 'nadam', 'dropout': 0.2, 'recurrent_dropout': 0.0}\n",
      "→ val_loss: 0.02083\n",
      "Training with: {'units': 128, 'batch_size': 32, 'optimizer': 'nadam', 'dropout': 0.2, 'recurrent_dropout': 0.2}\n",
      "→ val_loss: 0.02212\n",
      "Training with: {'units': 256, 'batch_size': 8, 'optimizer': 'adam', 'dropout': 0.0, 'recurrent_dropout': 0.0}\n",
      "→ val_loss: 0.00028\n",
      "Training with: {'units': 256, 'batch_size': 8, 'optimizer': 'adam', 'dropout': 0.0, 'recurrent_dropout': 0.2}\n",
      "→ val_loss: 0.00028\n",
      "Training with: {'units': 256, 'batch_size': 8, 'optimizer': 'adam', 'dropout': 0.2, 'recurrent_dropout': 0.0}\n",
      "→ val_loss: 0.01615\n",
      "Training with: {'units': 256, 'batch_size': 8, 'optimizer': 'adam', 'dropout': 0.2, 'recurrent_dropout': 0.2}\n",
      "→ val_loss: 0.01060\n",
      "Training with: {'units': 256, 'batch_size': 8, 'optimizer': 'rmsprop', 'dropout': 0.0, 'recurrent_dropout': 0.0}\n",
      "→ val_loss: 0.00026\n",
      "Training with: {'units': 256, 'batch_size': 8, 'optimizer': 'rmsprop', 'dropout': 0.0, 'recurrent_dropout': 0.2}\n",
      "→ val_loss: 0.00026\n",
      "Training with: {'units': 256, 'batch_size': 8, 'optimizer': 'rmsprop', 'dropout': 0.2, 'recurrent_dropout': 0.0}\n",
      "→ val_loss: 0.01312\n",
      "Training with: {'units': 256, 'batch_size': 8, 'optimizer': 'rmsprop', 'dropout': 0.2, 'recurrent_dropout': 0.2}\n",
      "→ val_loss: 0.01144\n",
      "Training with: {'units': 256, 'batch_size': 8, 'optimizer': 'nadam', 'dropout': 0.0, 'recurrent_dropout': 0.0}\n",
      "→ val_loss: 0.00028\n",
      "Training with: {'units': 256, 'batch_size': 8, 'optimizer': 'nadam', 'dropout': 0.0, 'recurrent_dropout': 0.2}\n",
      "→ val_loss: 0.00028\n",
      "Training with: {'units': 256, 'batch_size': 8, 'optimizer': 'nadam', 'dropout': 0.2, 'recurrent_dropout': 0.0}\n",
      "→ val_loss: 0.01582\n",
      "Training with: {'units': 256, 'batch_size': 8, 'optimizer': 'nadam', 'dropout': 0.2, 'recurrent_dropout': 0.2}\n",
      "→ val_loss: 0.00916\n",
      "Training with: {'units': 256, 'batch_size': 16, 'optimizer': 'adam', 'dropout': 0.0, 'recurrent_dropout': 0.0}\n",
      "→ val_loss: 0.00028\n",
      "Training with: {'units': 256, 'batch_size': 16, 'optimizer': 'adam', 'dropout': 0.0, 'recurrent_dropout': 0.2}\n",
      "→ val_loss: 0.00028\n",
      "Training with: {'units': 256, 'batch_size': 16, 'optimizer': 'adam', 'dropout': 0.2, 'recurrent_dropout': 0.0}\n",
      "→ val_loss: 0.01380\n",
      "Training with: {'units': 256, 'batch_size': 16, 'optimizer': 'adam', 'dropout': 0.2, 'recurrent_dropout': 0.2}\n",
      "→ val_loss: 0.01412\n",
      "Training with: {'units': 256, 'batch_size': 16, 'optimizer': 'rmsprop', 'dropout': 0.0, 'recurrent_dropout': 0.0}\n",
      "→ val_loss: 0.00026\n",
      "Training with: {'units': 256, 'batch_size': 16, 'optimizer': 'rmsprop', 'dropout': 0.0, 'recurrent_dropout': 0.2}\n",
      "→ val_loss: 0.00026\n",
      "Training with: {'units': 256, 'batch_size': 16, 'optimizer': 'rmsprop', 'dropout': 0.2, 'recurrent_dropout': 0.0}\n",
      "→ val_loss: 0.01598\n",
      "Training with: {'units': 256, 'batch_size': 16, 'optimizer': 'rmsprop', 'dropout': 0.2, 'recurrent_dropout': 0.2}\n",
      "→ val_loss: 0.01432\n",
      "Training with: {'units': 256, 'batch_size': 16, 'optimizer': 'nadam', 'dropout': 0.0, 'recurrent_dropout': 0.0}\n",
      "→ val_loss: 0.00028\n",
      "Training with: {'units': 256, 'batch_size': 16, 'optimizer': 'nadam', 'dropout': 0.0, 'recurrent_dropout': 0.2}\n",
      "→ val_loss: 0.00028\n",
      "Training with: {'units': 256, 'batch_size': 16, 'optimizer': 'nadam', 'dropout': 0.2, 'recurrent_dropout': 0.0}\n",
      "→ val_loss: 0.01817\n",
      "Training with: {'units': 256, 'batch_size': 16, 'optimizer': 'nadam', 'dropout': 0.2, 'recurrent_dropout': 0.2}\n",
      "→ val_loss: 0.01478\n",
      "Training with: {'units': 256, 'batch_size': 32, 'optimizer': 'adam', 'dropout': 0.0, 'recurrent_dropout': 0.0}\n",
      "→ val_loss: 0.00035\n",
      "Training with: {'units': 256, 'batch_size': 32, 'optimizer': 'adam', 'dropout': 0.0, 'recurrent_dropout': 0.2}\n",
      "→ val_loss: 0.00030\n",
      "Training with: {'units': 256, 'batch_size': 32, 'optimizer': 'adam', 'dropout': 0.2, 'recurrent_dropout': 0.0}\n",
      "→ val_loss: 0.01986\n",
      "Training with: {'units': 256, 'batch_size': 32, 'optimizer': 'adam', 'dropout': 0.2, 'recurrent_dropout': 0.2}\n",
      "→ val_loss: 0.01752\n",
      "Training with: {'units': 256, 'batch_size': 32, 'optimizer': 'rmsprop', 'dropout': 0.0, 'recurrent_dropout': 0.0}\n",
      "→ val_loss: 0.00026\n",
      "Training with: {'units': 256, 'batch_size': 32, 'optimizer': 'rmsprop', 'dropout': 0.0, 'recurrent_dropout': 0.2}\n",
      "→ val_loss: 0.00025\n",
      "Training with: {'units': 256, 'batch_size': 32, 'optimizer': 'rmsprop', 'dropout': 0.2, 'recurrent_dropout': 0.0}\n",
      "→ val_loss: 0.01601\n",
      "Training with: {'units': 256, 'batch_size': 32, 'optimizer': 'rmsprop', 'dropout': 0.2, 'recurrent_dropout': 0.2}\n",
      "→ val_loss: 0.01621\n",
      "Training with: {'units': 256, 'batch_size': 32, 'optimizer': 'nadam', 'dropout': 0.0, 'recurrent_dropout': 0.0}\n",
      "→ val_loss: 0.00033\n",
      "Training with: {'units': 256, 'batch_size': 32, 'optimizer': 'nadam', 'dropout': 0.0, 'recurrent_dropout': 0.2}\n",
      "→ val_loss: 0.00036\n",
      "Training with: {'units': 256, 'batch_size': 32, 'optimizer': 'nadam', 'dropout': 0.2, 'recurrent_dropout': 0.0}\n",
      "→ val_loss: 0.01840\n",
      "Training with: {'units': 256, 'batch_size': 32, 'optimizer': 'nadam', 'dropout': 0.2, 'recurrent_dropout': 0.2}\n",
      "→ val_loss: 0.01856\n",
      "\n",
      "✅ 最佳參數組合： {'units': 256, 'batch_size': 32, 'optimizer': 'rmsprop', 'dropout': 0.0, 'recurrent_dropout': 0.2}\n",
      "✅ 對應的最小 val_loss： 0.000249722070293501\n"
     ]
    }
   ],
   "source": [
    "## 網格搜尋\n",
    "\n",
    "param_grid = {\n",
    "    \"units\": [64, 128, 256],\n",
    "    \"batch_size\": [8, 16, 32],\n",
    "    \"optimizer\": [\"adam\", \"rmsprop\", \"nadam\"],\n",
    "    \"dropout\": [0.0, 0.2],\n",
    "    \"recurrent_dropout\": [0.0, 0.2]\n",
    "}\n",
    "\n",
    "\n",
    "\n",
    "\n",
    "# 所有組合\n",
    "keys = param_grid.keys()\n",
    "combinations = list(product(*param_grid.values()))\n",
    "\n",
    "# EarlyStopping\n",
    "early_stop = EarlyStopping(monitor='val_loss', patience=10, restore_best_weights=True)\n",
    "\n",
    "# 紀錄最佳模型\n",
    "best_score = float(\"inf\")\n",
    "best_params = None\n",
    "\n",
    "for combo in combinations:\n",
    "    params = dict(zip(keys, combo))\n",
    "    print(f\"Training with: {params}\")\n",
    "\n",
    "    # 選擇 optimizer\n",
    "    if params[\"optimizer\"] == \"adam\":\n",
    "        optimizer = Adam()\n",
    "    elif params[\"optimizer\"] == \"rmsprop\":\n",
    "        optimizer = RMSprop()\n",
    "    else:\n",
    "        optimizer = Nadam()\n",
    "\n",
    "    # 建立模型\n",
    "    model = Sequential()\n",
    "    model.add(LSTM(params[\"units\"],\n",
    "                   input_shape=(lstm_X_train.shape[1], lstm_X_train.shape[2]),\n",
    "                   dropout=params[\"dropout\"],\n",
    "                   recurrent_dropout=params[\"recurrent_dropout\"]))\n",
    "    model.add(Dense(1))\n",
    "    model.compile(loss=\"mse\", optimizer=optimizer)\n",
    "\n",
    "    # 訓練\n",
    "    history = model.fit(\n",
    "        lstm_X_train, lstm_y_train,\n",
    "        validation_split=0.2,\n",
    "        epochs=50,\n",
    "        batch_size=params[\"batch_size\"],\n",
    "        callbacks=[early_stop],\n",
    "        verbose=0\n",
    "    )\n",
    "\n",
    "    # 紀錄最小 val_loss\n",
    "    val_loss = min(history.history[\"val_loss\"])\n",
    "    print(f\"→ val_loss: {val_loss:.5f}\")\n",
    "\n",
    "    if val_loss < best_score:\n",
    "        best_score = val_loss\n",
    "        best_params = params\n",
    "\n",
    "print(\"\\n✅ 最佳參數組合：\", best_params)\n",
    "print(\"✅ 對應的最小 val_loss：\", best_score)\n"
   ]
  },
  {
   "cell_type": "code",
   "execution_count": 21,
   "metadata": {},
   "outputs": [
    {
     "name": "stderr",
     "output_type": "stream",
     "text": [
      "/opt/anaconda3/lib/python3.11/site-packages/keras/src/layers/rnn/rnn.py:200: UserWarning: Do not pass an `input_shape`/`input_dim` argument to a layer. When using Sequential models, prefer using an `Input(shape)` object as the first layer in the model instead.\n",
      "  super().__init__(**kwargs)\n"
     ]
    },
    {
     "data": {
      "text/html": [
       "<pre style=\"white-space:pre;overflow-x:auto;line-height:normal;font-family:Menlo,'DejaVu Sans Mono',consolas,'Courier New',monospace\"><span style=\"font-weight: bold\">Model: \"sequential_2\"</span>\n",
       "</pre>\n"
      ],
      "text/plain": [
       "\u001b[1mModel: \"sequential_2\"\u001b[0m\n"
      ]
     },
     "metadata": {},
     "output_type": "display_data"
    },
    {
     "data": {
      "text/html": [
       "<pre style=\"white-space:pre;overflow-x:auto;line-height:normal;font-family:Menlo,'DejaVu Sans Mono',consolas,'Courier New',monospace\">┏━━━━━━━━━━━━━━━━━━━━━━━━━━━━━━━━━┳━━━━━━━━━━━━━━━━━━━━━━━━┳━━━━━━━━━━━━━━━┓\n",
       "┃<span style=\"font-weight: bold\"> Layer (type)                    </span>┃<span style=\"font-weight: bold\"> Output Shape           </span>┃<span style=\"font-weight: bold\">       Param # </span>┃\n",
       "┡━━━━━━━━━━━━━━━━━━━━━━━━━━━━━━━━━╇━━━━━━━━━━━━━━━━━━━━━━━━╇━━━━━━━━━━━━━━━┩\n",
       "│ lstm_2 (<span style=\"color: #0087ff; text-decoration-color: #0087ff\">LSTM</span>)                   │ (<span style=\"color: #00d7ff; text-decoration-color: #00d7ff\">None</span>, <span style=\"color: #00af00; text-decoration-color: #00af00\">256</span>)            │       <span style=\"color: #00af00; text-decoration-color: #00af00\">264,192</span> │\n",
       "├─────────────────────────────────┼────────────────────────┼───────────────┤\n",
       "│ dense_2 (<span style=\"color: #0087ff; text-decoration-color: #0087ff\">Dense</span>)                 │ (<span style=\"color: #00d7ff; text-decoration-color: #00d7ff\">None</span>, <span style=\"color: #00af00; text-decoration-color: #00af00\">1</span>)              │           <span style=\"color: #00af00; text-decoration-color: #00af00\">257</span> │\n",
       "└─────────────────────────────────┴────────────────────────┴───────────────┘\n",
       "</pre>\n"
      ],
      "text/plain": [
       "┏━━━━━━━━━━━━━━━━━━━━━━━━━━━━━━━━━┳━━━━━━━━━━━━━━━━━━━━━━━━┳━━━━━━━━━━━━━━━┓\n",
       "┃\u001b[1m \u001b[0m\u001b[1mLayer (type)                   \u001b[0m\u001b[1m \u001b[0m┃\u001b[1m \u001b[0m\u001b[1mOutput Shape          \u001b[0m\u001b[1m \u001b[0m┃\u001b[1m \u001b[0m\u001b[1m      Param #\u001b[0m\u001b[1m \u001b[0m┃\n",
       "┡━━━━━━━━━━━━━━━━━━━━━━━━━━━━━━━━━╇━━━━━━━━━━━━━━━━━━━━━━━━╇━━━━━━━━━━━━━━━┩\n",
       "│ lstm_2 (\u001b[38;5;33mLSTM\u001b[0m)                   │ (\u001b[38;5;45mNone\u001b[0m, \u001b[38;5;34m256\u001b[0m)            │       \u001b[38;5;34m264,192\u001b[0m │\n",
       "├─────────────────────────────────┼────────────────────────┼───────────────┤\n",
       "│ dense_2 (\u001b[38;5;33mDense\u001b[0m)                 │ (\u001b[38;5;45mNone\u001b[0m, \u001b[38;5;34m1\u001b[0m)              │           \u001b[38;5;34m257\u001b[0m │\n",
       "└─────────────────────────────────┴────────────────────────┴───────────────┘\n"
      ]
     },
     "metadata": {},
     "output_type": "display_data"
    },
    {
     "data": {
      "text/html": [
       "<pre style=\"white-space:pre;overflow-x:auto;line-height:normal;font-family:Menlo,'DejaVu Sans Mono',consolas,'Courier New',monospace\"><span style=\"font-weight: bold\"> Total params: </span><span style=\"color: #00af00; text-decoration-color: #00af00\">264,449</span> (1.01 MB)\n",
       "</pre>\n"
      ],
      "text/plain": [
       "\u001b[1m Total params: \u001b[0m\u001b[38;5;34m264,449\u001b[0m (1.01 MB)\n"
      ]
     },
     "metadata": {},
     "output_type": "display_data"
    },
    {
     "data": {
      "text/html": [
       "<pre style=\"white-space:pre;overflow-x:auto;line-height:normal;font-family:Menlo,'DejaVu Sans Mono',consolas,'Courier New',monospace\"><span style=\"font-weight: bold\"> Trainable params: </span><span style=\"color: #00af00; text-decoration-color: #00af00\">264,449</span> (1.01 MB)\n",
       "</pre>\n"
      ],
      "text/plain": [
       "\u001b[1m Trainable params: \u001b[0m\u001b[38;5;34m264,449\u001b[0m (1.01 MB)\n"
      ]
     },
     "metadata": {},
     "output_type": "display_data"
    },
    {
     "data": {
      "text/html": [
       "<pre style=\"white-space:pre;overflow-x:auto;line-height:normal;font-family:Menlo,'DejaVu Sans Mono',consolas,'Courier New',monospace\"><span style=\"font-weight: bold\"> Non-trainable params: </span><span style=\"color: #00af00; text-decoration-color: #00af00\">0</span> (0.00 B)\n",
       "</pre>\n"
      ],
      "text/plain": [
       "\u001b[1m Non-trainable params: \u001b[0m\u001b[38;5;34m0\u001b[0m (0.00 B)\n"
      ]
     },
     "metadata": {},
     "output_type": "display_data"
    },
    {
     "name": "stdout",
     "output_type": "stream",
     "text": [
      "Epoch 1/50\n",
      "\u001b[1m5/5\u001b[0m \u001b[32m━━━━━━━━━━━━━━━━━━━━\u001b[0m\u001b[37m\u001b[0m \u001b[1m1s\u001b[0m 7ms/step - loss: 0.1079\n",
      "Epoch 2/50\n",
      "\u001b[1m5/5\u001b[0m \u001b[32m━━━━━━━━━━━━━━━━━━━━\u001b[0m\u001b[37m\u001b[0m \u001b[1m0s\u001b[0m 7ms/step - loss: 0.0704 \n",
      "Epoch 3/50\n",
      "\u001b[1m5/5\u001b[0m \u001b[32m━━━━━━━━━━━━━━━━━━━━\u001b[0m\u001b[37m\u001b[0m \u001b[1m0s\u001b[0m 7ms/step - loss: 0.0462 \n",
      "Epoch 4/50\n",
      "\u001b[1m5/5\u001b[0m \u001b[32m━━━━━━━━━━━━━━━━━━━━\u001b[0m\u001b[37m\u001b[0m \u001b[1m0s\u001b[0m 7ms/step - loss: 0.0361 \n",
      "Epoch 5/50\n",
      "\u001b[1m1/5\u001b[0m \u001b[32m━━━━\u001b[0m\u001b[37m━━━━━━━━━━━━━━━━\u001b[0m \u001b[1m0s\u001b[0m 19ms/step - loss: 0.0289"
     ]
    },
    {
     "name": "stderr",
     "output_type": "stream",
     "text": [
      "/opt/anaconda3/lib/python3.11/site-packages/keras/src/callbacks/early_stopping.py:153: UserWarning: Early stopping conditioned on metric `val_loss` which is not available. Available metrics are: loss\n",
      "  current = self.get_monitor_value(logs)\n"
     ]
    },
    {
     "name": "stdout",
     "output_type": "stream",
     "text": [
      "\u001b[1m5/5\u001b[0m \u001b[32m━━━━━━━━━━━━━━━━━━━━\u001b[0m\u001b[37m\u001b[0m \u001b[1m0s\u001b[0m 20ms/step - loss: 0.0255\n",
      "Epoch 6/50\n",
      "\u001b[1m5/5\u001b[0m \u001b[32m━━━━━━━━━━━━━━━━━━━━\u001b[0m\u001b[37m\u001b[0m \u001b[1m0s\u001b[0m 10ms/step - loss: 0.0204\n",
      "Epoch 7/50\n",
      "\u001b[1m5/5\u001b[0m \u001b[32m━━━━━━━━━━━━━━━━━━━━\u001b[0m\u001b[37m\u001b[0m \u001b[1m0s\u001b[0m 9ms/step - loss: 0.0173 \n",
      "Epoch 8/50\n",
      "\u001b[1m5/5\u001b[0m \u001b[32m━━━━━━━━━━━━━━━━━━━━\u001b[0m\u001b[37m\u001b[0m \u001b[1m0s\u001b[0m 8ms/step - loss: 0.0170 \n",
      "Epoch 9/50\n",
      "\u001b[1m5/5\u001b[0m \u001b[32m━━━━━━━━━━━━━━━━━━━━\u001b[0m\u001b[37m\u001b[0m \u001b[1m0s\u001b[0m 7ms/step - loss: 0.0144 \n",
      "Epoch 10/50\n",
      "\u001b[1m5/5\u001b[0m \u001b[32m━━━━━━━━━━━━━━━━━━━━\u001b[0m\u001b[37m\u001b[0m \u001b[1m0s\u001b[0m 7ms/step - loss: 0.0144 \n",
      "Epoch 11/50\n",
      "\u001b[1m5/5\u001b[0m \u001b[32m━━━━━━━━━━━━━━━━━━━━\u001b[0m\u001b[37m\u001b[0m \u001b[1m0s\u001b[0m 7ms/step - loss: 0.0123 \n",
      "Epoch 12/50\n",
      "\u001b[1m5/5\u001b[0m \u001b[32m━━━━━━━━━━━━━━━━━━━━\u001b[0m\u001b[37m\u001b[0m \u001b[1m0s\u001b[0m 7ms/step - loss: 0.0123 \n",
      "Epoch 13/50\n",
      "\u001b[1m5/5\u001b[0m \u001b[32m━━━━━━━━━━━━━━━━━━━━\u001b[0m\u001b[37m\u001b[0m \u001b[1m0s\u001b[0m 7ms/step - loss: 0.0111 \n",
      "Epoch 14/50\n",
      "\u001b[1m5/5\u001b[0m \u001b[32m━━━━━━━━━━━━━━━━━━━━\u001b[0m\u001b[37m\u001b[0m \u001b[1m0s\u001b[0m 7ms/step - loss: 0.0091 \n",
      "Epoch 15/50\n",
      "\u001b[1m5/5\u001b[0m \u001b[32m━━━━━━━━━━━━━━━━━━━━\u001b[0m\u001b[37m\u001b[0m \u001b[1m0s\u001b[0m 7ms/step - loss: 0.0083 \n",
      "Epoch 16/50\n",
      "\u001b[1m5/5\u001b[0m \u001b[32m━━━━━━━━━━━━━━━━━━━━\u001b[0m\u001b[37m\u001b[0m \u001b[1m0s\u001b[0m 7ms/step - loss: 0.0062 \n",
      "Epoch 17/50\n",
      "\u001b[1m5/5\u001b[0m \u001b[32m━━━━━━━━━━━━━━━━━━━━\u001b[0m\u001b[37m\u001b[0m \u001b[1m0s\u001b[0m 7ms/step - loss: 0.0051 \n",
      "Epoch 18/50\n",
      "\u001b[1m5/5\u001b[0m \u001b[32m━━━━━━━━━━━━━━━━━━━━\u001b[0m\u001b[37m\u001b[0m \u001b[1m0s\u001b[0m 7ms/step - loss: 0.0052 \n",
      "Epoch 19/50\n",
      "\u001b[1m5/5\u001b[0m \u001b[32m━━━━━━━━━━━━━━━━━━━━\u001b[0m\u001b[37m\u001b[0m \u001b[1m0s\u001b[0m 7ms/step - loss: 0.0037 \n",
      "Epoch 20/50\n",
      "\u001b[1m5/5\u001b[0m \u001b[32m━━━━━━━━━━━━━━━━━━━━\u001b[0m\u001b[37m\u001b[0m \u001b[1m0s\u001b[0m 8ms/step - loss: 0.0028 \n",
      "Epoch 21/50\n",
      "\u001b[1m5/5\u001b[0m \u001b[32m━━━━━━━━━━━━━━━━━━━━\u001b[0m\u001b[37m\u001b[0m \u001b[1m0s\u001b[0m 9ms/step - loss: 0.0020 \n",
      "Epoch 22/50\n",
      "\u001b[1m5/5\u001b[0m \u001b[32m━━━━━━━━━━━━━━━━━━━━\u001b[0m\u001b[37m\u001b[0m \u001b[1m0s\u001b[0m 9ms/step - loss: 0.0017 \n",
      "Epoch 23/50\n",
      "\u001b[1m5/5\u001b[0m \u001b[32m━━━━━━━━━━━━━━━━━━━━\u001b[0m\u001b[37m\u001b[0m \u001b[1m0s\u001b[0m 9ms/step - loss: 0.0011 \n",
      "Epoch 24/50\n",
      "\u001b[1m5/5\u001b[0m \u001b[32m━━━━━━━━━━━━━━━━━━━━\u001b[0m\u001b[37m\u001b[0m \u001b[1m0s\u001b[0m 9ms/step - loss: 9.8608e-04\n",
      "Epoch 25/50\n",
      "\u001b[1m5/5\u001b[0m \u001b[32m━━━━━━━━━━━━━━━━━━━━\u001b[0m\u001b[37m\u001b[0m \u001b[1m0s\u001b[0m 9ms/step - loss: 6.2871e-04 \n",
      "Epoch 26/50\n",
      "\u001b[1m5/5\u001b[0m \u001b[32m━━━━━━━━━━━━━━━━━━━━\u001b[0m\u001b[37m\u001b[0m \u001b[1m0s\u001b[0m 11ms/step - loss: 4.0036e-04\n",
      "Epoch 27/50\n",
      "\u001b[1m5/5\u001b[0m \u001b[32m━━━━━━━━━━━━━━━━━━━━\u001b[0m\u001b[37m\u001b[0m \u001b[1m0s\u001b[0m 13ms/step - loss: 3.1246e-04\n",
      "Epoch 28/50\n",
      "\u001b[1m5/5\u001b[0m \u001b[32m━━━━━━━━━━━━━━━━━━━━\u001b[0m\u001b[37m\u001b[0m \u001b[1m0s\u001b[0m 86ms/step - loss: 3.5387e-04\n",
      "Epoch 29/50\n",
      "\u001b[1m5/5\u001b[0m \u001b[32m━━━━━━━━━━━━━━━━━━━━\u001b[0m\u001b[37m\u001b[0m \u001b[1m0s\u001b[0m 14ms/step - loss: 3.0465e-04\n",
      "Epoch 30/50\n",
      "\u001b[1m5/5\u001b[0m \u001b[32m━━━━━━━━━━━━━━━━━━━━\u001b[0m\u001b[37m\u001b[0m \u001b[1m0s\u001b[0m 14ms/step - loss: 2.2893e-04\n",
      "Epoch 31/50\n",
      "\u001b[1m5/5\u001b[0m \u001b[32m━━━━━━━━━━━━━━━━━━━━\u001b[0m\u001b[37m\u001b[0m \u001b[1m0s\u001b[0m 10ms/step - loss: 2.2619e-04\n",
      "Epoch 32/50\n",
      "\u001b[1m5/5\u001b[0m \u001b[32m━━━━━━━━━━━━━━━━━━━━\u001b[0m\u001b[37m\u001b[0m \u001b[1m0s\u001b[0m 9ms/step - loss: 2.5541e-04 \n",
      "Epoch 33/50\n",
      "\u001b[1m5/5\u001b[0m \u001b[32m━━━━━━━━━━━━━━━━━━━━\u001b[0m\u001b[37m\u001b[0m \u001b[1m0s\u001b[0m 9ms/step - loss: 2.0433e-04 \n",
      "Epoch 34/50\n",
      "\u001b[1m5/5\u001b[0m \u001b[32m━━━━━━━━━━━━━━━━━━━━\u001b[0m\u001b[37m\u001b[0m \u001b[1m0s\u001b[0m 10ms/step - loss: 2.8442e-04\n",
      "Epoch 35/50\n",
      "\u001b[1m5/5\u001b[0m \u001b[32m━━━━━━━━━━━━━━━━━━━━\u001b[0m\u001b[37m\u001b[0m \u001b[1m0s\u001b[0m 9ms/step - loss: 2.1616e-04 \n",
      "Epoch 36/50\n",
      "\u001b[1m5/5\u001b[0m \u001b[32m━━━━━━━━━━━━━━━━━━━━\u001b[0m\u001b[37m\u001b[0m \u001b[1m0s\u001b[0m 10ms/step - loss: 2.4347e-04\n",
      "Epoch 37/50\n",
      "\u001b[1m5/5\u001b[0m \u001b[32m━━━━━━━━━━━━━━━━━━━━\u001b[0m\u001b[37m\u001b[0m \u001b[1m0s\u001b[0m 9ms/step - loss: 2.2106e-04 \n",
      "Epoch 38/50\n",
      "\u001b[1m5/5\u001b[0m \u001b[32m━━━━━━━━━━━━━━━━━━━━\u001b[0m\u001b[37m\u001b[0m \u001b[1m0s\u001b[0m 9ms/step - loss: 1.8277e-04 \n",
      "Epoch 39/50\n",
      "\u001b[1m5/5\u001b[0m \u001b[32m━━━━━━━━━━━━━━━━━━━━\u001b[0m\u001b[37m\u001b[0m \u001b[1m0s\u001b[0m 9ms/step - loss: 1.8401e-04 \n",
      "Epoch 40/50\n",
      "\u001b[1m5/5\u001b[0m \u001b[32m━━━━━━━━━━━━━━━━━━━━\u001b[0m\u001b[37m\u001b[0m \u001b[1m0s\u001b[0m 10ms/step - loss: 1.8929e-04\n",
      "Epoch 41/50\n",
      "\u001b[1m5/5\u001b[0m \u001b[32m━━━━━━━━━━━━━━━━━━━━\u001b[0m\u001b[37m\u001b[0m \u001b[1m0s\u001b[0m 9ms/step - loss: 2.3459e-04 \n",
      "Epoch 42/50\n",
      "\u001b[1m5/5\u001b[0m \u001b[32m━━━━━━━━━━━━━━━━━━━━\u001b[0m\u001b[37m\u001b[0m \u001b[1m0s\u001b[0m 9ms/step - loss: 2.7292e-04 \n",
      "Epoch 43/50\n",
      "\u001b[1m5/5\u001b[0m \u001b[32m━━━━━━━━━━━━━━━━━━━━\u001b[0m\u001b[37m\u001b[0m \u001b[1m0s\u001b[0m 11ms/step - loss: 2.3679e-04\n",
      "Epoch 44/50\n",
      "\u001b[1m5/5\u001b[0m \u001b[32m━━━━━━━━━━━━━━━━━━━━\u001b[0m\u001b[37m\u001b[0m \u001b[1m0s\u001b[0m 10ms/step - loss: 3.8475e-04\n",
      "Epoch 45/50\n",
      "\u001b[1m5/5\u001b[0m \u001b[32m━━━━━━━━━━━━━━━━━━━━\u001b[0m\u001b[37m\u001b[0m \u001b[1m0s\u001b[0m 10ms/step - loss: 3.0929e-04\n",
      "Epoch 46/50\n",
      "\u001b[1m5/5\u001b[0m \u001b[32m━━━━━━━━━━━━━━━━━━━━\u001b[0m\u001b[37m\u001b[0m \u001b[1m0s\u001b[0m 14ms/step - loss: 2.1172e-04\n",
      "Epoch 47/50\n",
      "\u001b[1m5/5\u001b[0m \u001b[32m━━━━━━━━━━━━━━━━━━━━\u001b[0m\u001b[37m\u001b[0m \u001b[1m0s\u001b[0m 13ms/step - loss: 2.7153e-04\n",
      "Epoch 48/50\n",
      "\u001b[1m5/5\u001b[0m \u001b[32m━━━━━━━━━━━━━━━━━━━━\u001b[0m\u001b[37m\u001b[0m \u001b[1m0s\u001b[0m 23ms/step - loss: 2.1578e-04\n",
      "Epoch 49/50\n",
      "\u001b[1m5/5\u001b[0m \u001b[32m━━━━━━━━━━━━━━━━━━━━\u001b[0m\u001b[37m\u001b[0m \u001b[1m0s\u001b[0m 17ms/step - loss: 2.4530e-04\n",
      "Epoch 50/50\n",
      "\u001b[1m5/5\u001b[0m \u001b[32m━━━━━━━━━━━━━━━━━━━━\u001b[0m\u001b[37m\u001b[0m \u001b[1m0s\u001b[0m 17ms/step - loss: 2.0282e-04\n"
     ]
    },
    {
     "data": {
      "text/plain": [
       "<keras.src.callbacks.history.History at 0x305c68790>"
      ]
     },
     "execution_count": 21,
     "metadata": {},
     "output_type": "execute_result"
    }
   ],
   "source": [
    "model = Sequential()\n",
    "\n",
    "#model.add(LSTM(64, input_shape=(lstm_X_train.shape[1], lstm_X_train.shape[2])))\n",
    "\n",
    "model.add(LSTM(256, \n",
    "               input_shape=(lstm_X_train.shape[1], lstm_X_train.shape[2]), \n",
    "               dropout=0.0, \n",
    "               recurrent_dropout=0.2))\n",
    "\n",
    "\"\"\"# 第二層 LSTM，加入 L2 正則化防止過擬合\n",
    "model.add(LSTM(64,kernel_regularizer=l2(0.001)))\"\"\"\n",
    "\n",
    "model.add(Dense(1))\n",
    "\n",
    "model.compile(loss='mse', optimizer='rmsprop')\n",
    "\n",
    "\n",
    "model.summary()\n",
    "\n",
    "early_stop = EarlyStopping(monitor='val_loss', patience=20, restore_best_weights=True)\n",
    "\n",
    "model.fit(lstm_X_train, \n",
    "          lstm_y_train, \n",
    "          epochs=50, \n",
    "          batch_size=32, \n",
    "          callbacks=[early_stop])\n"
   ]
  },
  {
   "cell_type": "code",
   "execution_count": 22,
   "metadata": {},
   "outputs": [
    {
     "name": "stdout",
     "output_type": "stream",
     "text": [
      "\u001b[1m5/5\u001b[0m \u001b[32m━━━━━━━━━━━━━━━━━━━━\u001b[0m\u001b[37m\u001b[0m \u001b[1m0s\u001b[0m 45ms/step\n",
      "\u001b[1m2/2\u001b[0m \u001b[32m━━━━━━━━━━━━━━━━━━━━\u001b[0m\u001b[37m\u001b[0m \u001b[1m0s\u001b[0m 13ms/step\n"
     ]
    }
   ],
   "source": [
    "# 預測\n",
    "y_train_pred_scaled = model.predict(lstm_X_train)\n",
    "y_pred_lstm_train = scaler_y.inverse_transform(y_train_pred_scaled)\n",
    "y_true_lstm_train = scaler_y.inverse_transform(lstm_y_train.reshape(-1, 1))\n",
    "\n",
    "\n",
    "y_test_pred_scaled = model.predict(lstm_X_test)\n",
    "y_pred_lstm_test = scaler_y.inverse_transform(y_test_pred_scaled)\n",
    "y_true_lstm_test = scaler_y.inverse_transform(lstm_y_test.reshape(-1, 1))"
   ]
  },
  {
   "cell_type": "code",
   "execution_count": 23,
   "metadata": {},
   "outputs": [
    {
     "name": "stdout",
     "output_type": "stream",
     "text": [
      "\n",
      "📊 Train Set Performance:\n",
      "  MSE:  19790783245.09\n",
      "  RMSE: 140679.72\n",
      "  MAE:  116480.28\n",
      "\n",
      "📊 Test Set Performance:\n",
      "  MSE:  52704373677.74\n",
      "  RMSE: 229574.33\n",
      "  MAE:  172422.26\n"
     ]
    }
   ],
   "source": [
    "# 執行評估\n",
    "evaluate_performance(lstm_y_train.reshape(-1, 1), y_train_pred_scaled, scaler_y, dataset_name=\"Train Set\")\n",
    "evaluate_performance(lstm_y_test.reshape(-1, 1), y_test_pred_scaled, scaler_y, dataset_name=\"Test Set\")"
   ]
  },
  {
   "cell_type": "code",
   "execution_count": 24,
   "metadata": {},
   "outputs": [
    {
     "name": "stdout",
     "output_type": "stream",
     "text": [
      "\n",
      "📊 預測的平均值：5335361.50\n"
     ]
    }
   ],
   "source": [
    "print(f\"\\n📊 預測的平均值：{(scaler_y.inverse_transform(y_test_pred_scaled)).mean():.2f}\")"
   ]
  },
  {
   "cell_type": "code",
   "execution_count": 25,
   "metadata": {},
   "outputs": [],
   "source": [
    "year_df = pd.read_csv(y_path) \n",
    "year_df=year_df['年份']"
   ]
  },
  {
   "cell_type": "code",
   "execution_count": 26,
   "metadata": {},
   "outputs": [
    {
     "data": {
      "image/png": "[encoded data removed]",
      "text/plain": [
       "<Figure size 1600x700 with 1 Axes>"
      ]
     },
     "metadata": {},
     "output_type": "display_data"
    }
   ],
   "source": [
    "plot_gdp_forecast(year_df,'LSTM - T1',y_true_lstm_test,y_pred_lstm_test)"
   ]
  },
  {
   "cell_type": "code",
   "execution_count": 21,
   "metadata": {},
   "outputs": [],
   "source": [
    "model.save(os.path.join(base_path,os.getenv(\"SIN_G_LSTM_T1\")))"
   ]
  }
 ],
 "metadata": {
  "kernelspec": {
   "display_name": "base",
   "language": "python",
   "name": "python3"
  },
  "language_info": {
   "codemirror_mode": {
    "name": "ipython",
    "version": 3
   },
   "file_extension": ".py",
   "mimetype": "text/x-python",
   "name": "python",
   "nbconvert_exporter": "python",
   "pygments_lexer": "ipython3",
   "version": "3.11.7"
  }
 },
 "nbformat": 4,
 "nbformat_minor": 2
}
